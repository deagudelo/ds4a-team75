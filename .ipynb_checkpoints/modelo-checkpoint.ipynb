{
 "cells": [
  {
   "cell_type": "code",
   "execution_count": 100,
   "metadata": {},
   "outputs": [],
   "source": [
    "import pandas as pd\n",
    "import numpy as np\n",
    "import matplotlib.pyplot as plt\n",
    "import seaborn as sns\n",
    "import glob\n",
    "import pendulum\n",
    "import random"
   ]
  },
  {
   "cell_type": "code",
   "execution_count": 3,
   "metadata": {},
   "outputs": [],
   "source": [
    "#!pip install pendulum"
   ]
  },
  {
   "cell_type": "code",
   "execution_count": 2,
   "metadata": {
    "scrolled": true
   },
   "outputs": [],
   "source": [
    "#importando datos de fallas\n",
    "dff= pd.read_excel('EPM_datos_Uraba/Original_Data/Reporte Uraba2019_CAGMV1Est.xlsx')\n",
    "dff[\"town\"]=dff[\"town\"].str.upper()"
   ]
  },
  {
   "cell_type": "code",
   "execution_count": 3,
   "metadata": {},
   "outputs": [
    {
     "data": {
      "text/html": [
       "<div>\n",
       "<style scoped>\n",
       "    .dataframe tbody tr th:only-of-type {\n",
       "        vertical-align: middle;\n",
       "    }\n",
       "\n",
       "    .dataframe tbody tr th {\n",
       "        vertical-align: top;\n",
       "    }\n",
       "\n",
       "    .dataframe thead th {\n",
       "        text-align: right;\n",
       "    }\n",
       "</style>\n",
       "<table border=\"1\" class=\"dataframe\">\n",
       "  <thead>\n",
       "    <tr style=\"text-align: right;\">\n",
       "      <th></th>\n",
       "      <th>CallID</th>\n",
       "      <th>NumberOT</th>\n",
       "      <th>TaskNumber</th>\n",
       "      <th>Status</th>\n",
       "      <th>ServiceType</th>\n",
       "      <th>id</th>\n",
       "      <th>Eng_Type</th>\n",
       "      <th>RepairDate</th>\n",
       "      <th>FinalRepairDate</th>\n",
       "      <th>DuratioMin</th>\n",
       "      <th>...</th>\n",
       "      <th>Longitude</th>\n",
       "      <th>Priority</th>\n",
       "      <th>IncompleteReason</th>\n",
       "      <th>CrewGeneralComments</th>\n",
       "      <th>RepairCode</th>\n",
       "      <th>W6Key</th>\n",
       "      <th>IdEPM</th>\n",
       "      <th>LocationID</th>\n",
       "      <th>LocationDescription</th>\n",
       "      <th>Circuit</th>\n",
       "    </tr>\n",
       "  </thead>\n",
       "  <tbody>\n",
       "    <tr>\n",
       "      <th>0</th>\n",
       "      <td>M_EPM_EN_3974557</td>\n",
       "      <td>3294596</td>\n",
       "      <td>1</td>\n",
       "      <td>Realizada</td>\n",
       "      <td>Daños Energía</td>\n",
       "      <td>E_D0239</td>\n",
       "      <td>CU-TyD-Moto_MttoDaños_X1</td>\n",
       "      <td>2019-12-31 19:24:00</td>\n",
       "      <td>2019-12-31 19:30:00</td>\n",
       "      <td>30</td>\n",
       "      <td>...</td>\n",
       "      <td>-76809294</td>\n",
       "      <td>1</td>\n",
       "      <td>NaN</td>\n",
       "      <td>Se realizo reposición de fusible en el fr 4159...</td>\n",
       "      <td>CAMBIAR O INSTALAR FUSIBLE AISLADERO RAMAL - R...</td>\n",
       "      <td>1527996425</td>\n",
       "      <td>1460157</td>\n",
       "      <td>FR4159</td>\n",
       "      <td>Aisladero</td>\n",
       "      <td>405-13</td>\n",
       "    </tr>\n",
       "    <tr>\n",
       "      <th>1</th>\n",
       "      <td>M_EPM_EN_3974642</td>\n",
       "      <td>3294347</td>\n",
       "      <td>1</td>\n",
       "      <td>Realizada</td>\n",
       "      <td>Daños Energía</td>\n",
       "      <td>E_D0264</td>\n",
       "      <td>CU-TyD-Moto_MttoDaños_X1</td>\n",
       "      <td>2019-12-31 17:59:00</td>\n",
       "      <td>2019-12-31 18:23:00</td>\n",
       "      <td>30</td>\n",
       "      <td>...</td>\n",
       "      <td>-76732551</td>\n",
       "      <td>4</td>\n",
       "      <td>NaN</td>\n",
       "      <td>Se llega a el cirio y se encuentra que el daño...</td>\n",
       "      <td>REVISIÓN POR CALIDAD DEL SERVICIO</td>\n",
       "      <td>1527808009</td>\n",
       "      <td>1459416</td>\n",
       "      <td>402-11</td>\n",
       "      <td>Salida Circuito</td>\n",
       "      <td>402-11</td>\n",
       "    </tr>\n",
       "    <tr>\n",
       "      <th>2</th>\n",
       "      <td>M_EPM_EN_3974707</td>\n",
       "      <td>3294568</td>\n",
       "      <td>2</td>\n",
       "      <td>Realizada</td>\n",
       "      <td>Daños Energía</td>\n",
       "      <td>E_D0223</td>\n",
       "      <td>CU-TyD-Moto_MttoDaños_X1</td>\n",
       "      <td>2019-12-31 17:57:00</td>\n",
       "      <td>2019-12-31 17:59:00</td>\n",
       "      <td>30</td>\n",
       "      <td>...</td>\n",
       "      <td>-76598210</td>\n",
       "      <td>4</td>\n",
       "      <td>NaN</td>\n",
       "      <td>Se realizó inspección encontrándose poste a pu...</td>\n",
       "      <td>CAMBIAR/ASEGURAR POSTE PRIMARIO - Ramales</td>\n",
       "      <td>1527955467</td>\n",
       "      <td>1460101</td>\n",
       "      <td>489023</td>\n",
       "      <td>Transformador</td>\n",
       "      <td>415-12</td>\n",
       "    </tr>\n",
       "    <tr>\n",
       "      <th>3</th>\n",
       "      <td>MX_EPM_0133_DE_2037523</td>\n",
       "      <td>2037523</td>\n",
       "      <td>1</td>\n",
       "      <td>Realizada</td>\n",
       "      <td>Mto. Ener. Actividades Forestales</td>\n",
       "      <td>E_MP219</td>\n",
       "      <td>CU-TyD-Moto_Poda_X2</td>\n",
       "      <td>NaT</td>\n",
       "      <td>NaT</td>\n",
       "      <td>600</td>\n",
       "      <td>...</td>\n",
       "      <td>-76646490</td>\n",
       "      <td>7</td>\n",
       "      <td>NaN</td>\n",
       "      <td>corregimiento pueblo nuevo \\nvereda  comarca  ...</td>\n",
       "      <td>NaN</td>\n",
       "      <td>1517256747</td>\n",
       "      <td>1419179</td>\n",
       "      <td>R1269</td>\n",
       "      <td>CIRCUITO 415-12 SEGMENTO R1269</td>\n",
       "      <td>NaN</td>\n",
       "    </tr>\n",
       "    <tr>\n",
       "      <th>4</th>\n",
       "      <td>M_EPM_EN_3974852</td>\n",
       "      <td>3294520</td>\n",
       "      <td>1</td>\n",
       "      <td>Realizada</td>\n",
       "      <td>Daños Energía</td>\n",
       "      <td>E_D0270</td>\n",
       "      <td>CU-TyD-Moto_MttoDaños_X1</td>\n",
       "      <td>2019-12-31 16:52:00</td>\n",
       "      <td>2019-12-31 17:07:00</td>\n",
       "      <td>30</td>\n",
       "      <td>...</td>\n",
       "      <td>-76304074</td>\n",
       "      <td>1</td>\n",
       "      <td>NaN</td>\n",
       "      <td>Se repuso 1 fusible de 6T al F47910 el servici...</td>\n",
       "      <td>CAMBIAR O INSTALAR FUSIBLE AISLADERO RAMAL - R...</td>\n",
       "      <td>1527922700</td>\n",
       "      <td>1460058</td>\n",
       "      <td>478088</td>\n",
       "      <td>Transformador</td>\n",
       "      <td>407-12</td>\n",
       "    </tr>\n",
       "  </tbody>\n",
       "</table>\n",
       "<p>5 rows × 35 columns</p>\n",
       "</div>"
      ],
      "text/plain": [
       "                   CallID  NumberOT  TaskNumber     Status  \\\n",
       "0        M_EPM_EN_3974557   3294596           1  Realizada   \n",
       "1        M_EPM_EN_3974642   3294347           1  Realizada   \n",
       "2        M_EPM_EN_3974707   3294568           2  Realizada   \n",
       "3  MX_EPM_0133_DE_2037523   2037523           1  Realizada   \n",
       "4        M_EPM_EN_3974852   3294520           1  Realizada   \n",
       "\n",
       "                         ServiceType       id                  Eng_Type  \\\n",
       "0                      Daños Energía  E_D0239  CU-TyD-Moto_MttoDaños_X1   \n",
       "1                      Daños Energía  E_D0264  CU-TyD-Moto_MttoDaños_X1   \n",
       "2                      Daños Energía  E_D0223  CU-TyD-Moto_MttoDaños_X1   \n",
       "3  Mto. Ener. Actividades Forestales  E_MP219       CU-TyD-Moto_Poda_X2   \n",
       "4                      Daños Energía  E_D0270  CU-TyD-Moto_MttoDaños_X1   \n",
       "\n",
       "           RepairDate     FinalRepairDate  DuratioMin  ... Longitude Priority  \\\n",
       "0 2019-12-31 19:24:00 2019-12-31 19:30:00          30  ... -76809294        1   \n",
       "1 2019-12-31 17:59:00 2019-12-31 18:23:00          30  ... -76732551        4   \n",
       "2 2019-12-31 17:57:00 2019-12-31 17:59:00          30  ... -76598210        4   \n",
       "3                 NaT                 NaT         600  ... -76646490        7   \n",
       "4 2019-12-31 16:52:00 2019-12-31 17:07:00          30  ... -76304074        1   \n",
       "\n",
       "  IncompleteReason                                CrewGeneralComments  \\\n",
       "0              NaN  Se realizo reposición de fusible en el fr 4159...   \n",
       "1              NaN  Se llega a el cirio y se encuentra que el daño...   \n",
       "2              NaN  Se realizó inspección encontrándose poste a pu...   \n",
       "3              NaN  corregimiento pueblo nuevo \\nvereda  comarca  ...   \n",
       "4              NaN  Se repuso 1 fusible de 6T al F47910 el servici...   \n",
       "\n",
       "                                          RepairCode       W6Key    IdEPM  \\\n",
       "0  CAMBIAR O INSTALAR FUSIBLE AISLADERO RAMAL - R...  1527996425  1460157   \n",
       "1                  REVISIÓN POR CALIDAD DEL SERVICIO  1527808009  1459416   \n",
       "2          CAMBIAR/ASEGURAR POSTE PRIMARIO - Ramales  1527955467  1460101   \n",
       "3                                                NaN  1517256747  1419179   \n",
       "4  CAMBIAR O INSTALAR FUSIBLE AISLADERO RAMAL - R...  1527922700  1460058   \n",
       "\n",
       "  LocationID             LocationDescription Circuit  \n",
       "0     FR4159                       Aisladero  405-13  \n",
       "1     402-11                 Salida Circuito  402-11  \n",
       "2     489023                   Transformador  415-12  \n",
       "3      R1269  CIRCUITO 415-12 SEGMENTO R1269     NaN  \n",
       "4     478088                   Transformador  407-12  \n",
       "\n",
       "[5 rows x 35 columns]"
      ]
     },
     "execution_count": 3,
     "metadata": {},
     "output_type": "execute_result"
    }
   ],
   "source": [
    "#viewing data\n",
    "dff.head()"
   ]
  },
  {
   "cell_type": "code",
   "execution_count": 4,
   "metadata": {},
   "outputs": [],
   "source": [
    "#importando datos de clima\n",
    "\n",
    "precip_path=\"EPM_datos_Uraba/weather data/precipitacion/\"\n",
    "dfw_precip = pd.DataFrame()\n",
    "for file_name in glob.glob(precip_path+'*.csv'):\n",
    "    x = pd.read_csv(file_name, low_memory=False)\n",
    "    dfw_precip = pd.concat([dfw_precip,x],axis=0)\n",
    "    \n",
    "hum_path=\"EPM_datos_Uraba/weather data/hum/\"\n",
    "dfw_hum = pd.DataFrame()\n",
    "for file_name in glob.glob(hum_path+'*.csv'):\n",
    "    x = pd.read_csv(file_name, low_memory=False)\n",
    "    dfw_hum = pd.concat([dfw_hum,x],axis=0)\n",
    "    \n",
    "#hum_path=\"EPM_datos_Uraba\\weather data\\hum\\\"\"\n",
    "#dfw_precip = pd.DataFrame()\n",
    "#for file_name in glob.glob(hum_path+'*.csv'):\n",
    "#    x = pd.read_csv(file_name, low_memory=False)\n",
    "#    glued_data = pd.concat([glued_data,x],axis=0)\n",
    "dfw_precip[\"Municipio\"]=dfw_precip[\"Municipio\"].str.upper()\n",
    "dfw_hum[\"Municipio\"]=dfw_hum[\"Municipio\"].str.upper()"
   ]
  },
  {
   "cell_type": "code",
   "execution_count": 5,
   "metadata": {},
   "outputs": [],
   "source": [
    "#importando los datos de infraestructura\n",
    "\n",
    "#transformadores\n",
    "\n",
    "dfi_t=df = pd.read_csv('EPM_datos_Uraba\\Original_Data\\TRANSFO_PT.csv')"
   ]
  },
  {
   "cell_type": "code",
   "execution_count": 6,
   "metadata": {},
   "outputs": [
    {
     "data": {
      "text/plain": [
       "array(['ANTIOQUIA', 'CHOCÓ'], dtype=object)"
      ]
     },
     "execution_count": 6,
     "metadata": {},
     "output_type": "execute_result"
    }
   ],
   "source": [
    "#importando divipola\n",
    "\n",
    "divipola= pd.read_excel('EPM_datos_Uraba\\municipios\\Listados_DIVIPOLA.xlsx', sheet_name='municipio')\n",
    "divipola= divipola[divipola[\"Nombre_depto\"].isin([\"ANTIOQUIA\",\"CHOCÓ\"])]\n",
    "divipola[\"Nombre_depto\"].unique()"
   ]
  },
  {
   "cell_type": "code",
   "execution_count": 9,
   "metadata": {},
   "outputs": [],
   "source": [
    "#itenditificando las variables que identifican el municipio\n",
    "#dff.town #nombre minúscula\n",
    "#dfw_precip.Municipio #nombre\n",
    "#dfi_t.MUNICIPIO_ #código 4 dígitos\n",
    "#divipola.Nombre_municipio # nombre mayúscula\n",
    "#divipola.Código_municipio # código 4 dígitos"
   ]
  },
  {
   "cell_type": "code",
   "execution_count": 7,
   "metadata": {},
   "outputs": [],
   "source": [
    "#incluyendo el nombre del municipio en la base de insfraestructura\n",
    "\n",
    "dfi_tm=dfi_t.merge(divipola[[\"Código_municipio\",\"Nombre_municipio\", \"Nombre_depto\", \"Código_depto \"]], left_on=\"MUNICIPIO_\", right_on=\"Código_municipio\", how=\"left\")"
   ]
  },
  {
   "cell_type": "code",
   "execution_count": 8,
   "metadata": {},
   "outputs": [],
   "source": [
    "#incluyendo el código del municipio en la base de fallas\n",
    "dff_m=dff.merge(divipola[[\"Código_municipio\",\"Nombre_municipio\", \"Nombre_depto\", \"Código_depto \"]], left_on=\"town\", right_on=\"Nombre_municipio\" , how=\"left\")"
   ]
  },
  {
   "cell_type": "code",
   "execution_count": 9,
   "metadata": {},
   "outputs": [],
   "source": [
    "#incluyendo el código del municipio en las bases de precipitacion y humedad\n",
    "\n",
    "dfw_precip=dfw_precip.merge(divipola[[\"Código_municipio\",\"Nombre_municipio\", \"Nombre_depto\", \"Código_depto \"]], left_on=\"Municipio\", right_on=\"Nombre_municipio\", how=\"left\")\n",
    "dfw_hum=dfw_hum.merge(divipola[[\"Código_municipio\",\"Nombre_municipio\", \"Nombre_depto\", \"Código_depto \"]], left_on=\"Municipio\", right_on=\"Nombre_municipio\", how=\"left\")"
   ]
  },
  {
   "cell_type": "code",
   "execution_count": 10,
   "metadata": {},
   "outputs": [
    {
     "name": "stdout",
     "output_type": "stream",
     "text": [
      "13503\n",
      "49494\n",
      "49494\n"
     ]
    }
   ],
   "source": [
    "#validación del cruce de bases\n",
    "print(len(dfi_tm))\n",
    "print(len(dff_m))\n",
    "print(len(dff))\n",
    "#hay algunos datos qde fallas que no podemos cruzar porque no está el municipio"
   ]
  },
  {
   "cell_type": "code",
   "execution_count": 67,
   "metadata": {},
   "outputs": [
    {
     "name": "stdout",
     "output_type": "stream",
     "text": [
      "['ANTIOQUIA' nan 'CHOCÓ']\n",
      "['ANTIOQUIA' 'CHOCÓ']\n",
      "['ANTIOQUIA' nan 'CHOCÓ']\n",
      "['ANTIOQUIA' nan 'CHOCÓ']\n"
     ]
    }
   ],
   "source": [
    "#validación variables de ubicación\n",
    "print(dff_m.Nombre_depto.unique())\n",
    "print(dfi_tm.Nombre_depto.unique())\n",
    "print(dfw_precip.Nombre_depto.unique())\n",
    "print(dfw_hum.Nombre_depto.unique())"
   ]
  },
  {
   "cell_type": "code",
   "execution_count": 15,
   "metadata": {},
   "outputs": [
    {
     "name": "stdout",
     "output_type": "stream",
     "text": [
      "30644\n"
     ]
    }
   ],
   "source": [
    "    #fails_circuit_by_day_loca=pd.DataFrame(pd.unique(dff_m[[\"NumberOT\",\"Circuit\",\"OpenDate\",\"fail\"]].values.ravel()))\n",
    "    #fails_circuit_by_day_loca.head()\n",
    "#getting the unique cases\n",
    "\n",
    "distinct_df = dff_m[ [\"NumberOT\",\"Circuit\",\"OpenDate\",\"Nombre_municipio\",\"District\", \"ServiceType\"] ].groupby([\"NumberOT\",\"Circuit\",\"OpenDate\", \"Nombre_municipio\", \"District\", \"ServiceType\"]).first().reset_index()\n",
    "distinct_df.head()\n",
    "print(len(distinct_df))"
   ]
  },
  {
   "cell_type": "code",
   "execution_count": 16,
   "metadata": {
    "scrolled": true
   },
   "outputs": [
    {
     "name": "stdout",
     "output_type": "stream",
     "text": [
      "(30644, 6)\n",
      "(49494, 39)\n"
     ]
    }
   ],
   "source": [
    "print(distinct_df.shape)\n",
    "print(dff_m.shape)"
   ]
  },
  {
   "cell_type": "code",
   "execution_count": 17,
   "metadata": {},
   "outputs": [
    {
     "name": "stdout",
     "output_type": "stream",
     "text": [
      "(70, 1)\n"
     ]
    }
   ],
   "source": [
    "#creating false failures to complement no failures\n",
    "\n",
    "#list of unique cicuits\n",
    "#circuits_f=pd.DataFrame(pd.unique(dff_m[\"Circuit\"]))\n",
    "#print(circuits_f.shape)\n",
    "\n",
    "#getting the number of different circuits\n",
    "circuits_i=pd.DataFrame(pd.unique(dfi_tm[\"CIRCUITO\"]))\n",
    "print(circuits_i.shape)"
   ]
  },
  {
   "cell_type": "code",
   "execution_count": 19,
   "metadata": {},
   "outputs": [],
   "source": [
    "#importing necessary packages to model with poisson regression\n",
    "from patsy import dmatrices\n",
    "import statsmodels.api as sm\n",
    "import math"
   ]
  },
  {
   "cell_type": "code",
   "execution_count": 26,
   "metadata": {},
   "outputs": [
    {
     "name": "stdout",
     "output_type": "stream",
     "text": [
      "<class 'pandas.core.frame.DataFrame'>\n",
      "RangeIndex: 30644 entries, 0 to 30643\n",
      "Data columns (total 14 columns):\n",
      " #   Column            Non-Null Count  Dtype         \n",
      "---  ------            --------------  -----         \n",
      " 0   NumberOT          30644 non-null  int64         \n",
      " 1   Circuit           30644 non-null  object        \n",
      " 2   OpenDate          30644 non-null  datetime64[ns]\n",
      " 3   Nombre_municipio  30644 non-null  object        \n",
      " 4   District          30644 non-null  object        \n",
      " 5   ServiceType       30644 non-null  object        \n",
      " 6   Date              30644 non-null  object        \n",
      " 7   day               30644 non-null  int64         \n",
      " 8   Month             30644 non-null  int64         \n",
      " 9   year              30644 non-null  int64         \n",
      " 10  weekday           30644 non-null  int64         \n",
      " 11  quarter           30644 non-null  int64         \n",
      " 12  week              30644 non-null  int64         \n",
      " 13  week_in_month     30644 non-null  int64         \n",
      "dtypes: datetime64[ns](1), int64(8), object(5)\n",
      "memory usage: 3.3+ MB\n"
     ]
    },
    {
     "data": {
      "text/html": [
       "<div>\n",
       "<style scoped>\n",
       "    .dataframe tbody tr th:only-of-type {\n",
       "        vertical-align: middle;\n",
       "    }\n",
       "\n",
       "    .dataframe tbody tr th {\n",
       "        vertical-align: top;\n",
       "    }\n",
       "\n",
       "    .dataframe thead th {\n",
       "        text-align: right;\n",
       "    }\n",
       "</style>\n",
       "<table border=\"1\" class=\"dataframe\">\n",
       "  <thead>\n",
       "    <tr style=\"text-align: right;\">\n",
       "      <th></th>\n",
       "      <th>NumberOT</th>\n",
       "      <th>Circuit</th>\n",
       "      <th>OpenDate</th>\n",
       "      <th>Nombre_municipio</th>\n",
       "      <th>District</th>\n",
       "      <th>ServiceType</th>\n",
       "      <th>Date</th>\n",
       "      <th>day</th>\n",
       "      <th>Month</th>\n",
       "      <th>year</th>\n",
       "      <th>weekday</th>\n",
       "      <th>quarter</th>\n",
       "      <th>week</th>\n",
       "      <th>week_in_month</th>\n",
       "    </tr>\n",
       "  </thead>\n",
       "  <tbody>\n",
       "    <tr>\n",
       "      <th>0</th>\n",
       "      <td>2831866</td>\n",
       "      <td>412-14</td>\n",
       "      <td>2018-08-30 17:32:28</td>\n",
       "      <td>CAREPA</td>\n",
       "      <td>Apartado TyD</td>\n",
       "      <td>Mantenimiento Energía</td>\n",
       "      <td>2018-08-30</td>\n",
       "      <td>30</td>\n",
       "      <td>8</td>\n",
       "      <td>2018</td>\n",
       "      <td>3</td>\n",
       "      <td>3</td>\n",
       "      <td>35</td>\n",
       "      <td>5</td>\n",
       "    </tr>\n",
       "    <tr>\n",
       "      <th>1</th>\n",
       "      <td>2929866</td>\n",
       "      <td>406-11</td>\n",
       "      <td>2018-12-07 09:48:58</td>\n",
       "      <td>TURBO</td>\n",
       "      <td>Turbo TyD</td>\n",
       "      <td>Mantenimiento Energía</td>\n",
       "      <td>2018-12-07</td>\n",
       "      <td>7</td>\n",
       "      <td>12</td>\n",
       "      <td>2018</td>\n",
       "      <td>4</td>\n",
       "      <td>4</td>\n",
       "      <td>49</td>\n",
       "      <td>1</td>\n",
       "    </tr>\n",
       "    <tr>\n",
       "      <th>2</th>\n",
       "      <td>2934398</td>\n",
       "      <td>415-11</td>\n",
       "      <td>2018-12-13 07:37:00</td>\n",
       "      <td>NECOCLÍ</td>\n",
       "      <td>Turbo TyD</td>\n",
       "      <td>Mantenimiento Energía</td>\n",
       "      <td>2018-12-13</td>\n",
       "      <td>13</td>\n",
       "      <td>12</td>\n",
       "      <td>2018</td>\n",
       "      <td>3</td>\n",
       "      <td>4</td>\n",
       "      <td>50</td>\n",
       "      <td>2</td>\n",
       "    </tr>\n",
       "    <tr>\n",
       "      <th>3</th>\n",
       "      <td>2945255</td>\n",
       "      <td>407-12</td>\n",
       "      <td>2018-12-28 09:27:36</td>\n",
       "      <td>SAN PEDRO DE URABÁ</td>\n",
       "      <td>Turbo TyD</td>\n",
       "      <td>Mantenimiento Energía</td>\n",
       "      <td>2018-12-28</td>\n",
       "      <td>28</td>\n",
       "      <td>12</td>\n",
       "      <td>2018</td>\n",
       "      <td>4</td>\n",
       "      <td>4</td>\n",
       "      <td>52</td>\n",
       "      <td>4</td>\n",
       "    </tr>\n",
       "    <tr>\n",
       "      <th>4</th>\n",
       "      <td>2945565</td>\n",
       "      <td>415-13</td>\n",
       "      <td>2018-12-28 16:30:01</td>\n",
       "      <td>NECOCLÍ</td>\n",
       "      <td>Turbo TyD</td>\n",
       "      <td>Mantenimiento Energía</td>\n",
       "      <td>2018-12-28</td>\n",
       "      <td>28</td>\n",
       "      <td>12</td>\n",
       "      <td>2018</td>\n",
       "      <td>4</td>\n",
       "      <td>4</td>\n",
       "      <td>52</td>\n",
       "      <td>4</td>\n",
       "    </tr>\n",
       "    <tr>\n",
       "      <th>...</th>\n",
       "      <td>...</td>\n",
       "      <td>...</td>\n",
       "      <td>...</td>\n",
       "      <td>...</td>\n",
       "      <td>...</td>\n",
       "      <td>...</td>\n",
       "      <td>...</td>\n",
       "      <td>...</td>\n",
       "      <td>...</td>\n",
       "      <td>...</td>\n",
       "      <td>...</td>\n",
       "      <td>...</td>\n",
       "      <td>...</td>\n",
       "      <td>...</td>\n",
       "    </tr>\n",
       "    <tr>\n",
       "      <th>30639</th>\n",
       "      <td>3294486</td>\n",
       "      <td>415-13</td>\n",
       "      <td>2019-12-31 14:27:10</td>\n",
       "      <td>NECOCLÍ</td>\n",
       "      <td>Turbo TyD</td>\n",
       "      <td>Mantenimiento Energía</td>\n",
       "      <td>2019-12-31</td>\n",
       "      <td>31</td>\n",
       "      <td>12</td>\n",
       "      <td>2019</td>\n",
       "      <td>1</td>\n",
       "      <td>4</td>\n",
       "      <td>1</td>\n",
       "      <td>5</td>\n",
       "    </tr>\n",
       "    <tr>\n",
       "      <th>30640</th>\n",
       "      <td>3294487</td>\n",
       "      <td>403-13</td>\n",
       "      <td>2019-12-31 14:28:39</td>\n",
       "      <td>CHIGORODÓ</td>\n",
       "      <td>Apartado TyD</td>\n",
       "      <td>Daños Energía</td>\n",
       "      <td>2019-12-31</td>\n",
       "      <td>31</td>\n",
       "      <td>12</td>\n",
       "      <td>2019</td>\n",
       "      <td>1</td>\n",
       "      <td>4</td>\n",
       "      <td>1</td>\n",
       "      <td>5</td>\n",
       "    </tr>\n",
       "    <tr>\n",
       "      <th>30641</th>\n",
       "      <td>3294520</td>\n",
       "      <td>407-12</td>\n",
       "      <td>2019-12-31 15:38:00</td>\n",
       "      <td>SAN PEDRO DE URABÁ</td>\n",
       "      <td>Turbo TyD</td>\n",
       "      <td>Daños Energía</td>\n",
       "      <td>2019-12-31</td>\n",
       "      <td>31</td>\n",
       "      <td>12</td>\n",
       "      <td>2019</td>\n",
       "      <td>1</td>\n",
       "      <td>4</td>\n",
       "      <td>1</td>\n",
       "      <td>5</td>\n",
       "    </tr>\n",
       "    <tr>\n",
       "      <th>30642</th>\n",
       "      <td>3294568</td>\n",
       "      <td>415-12</td>\n",
       "      <td>2019-12-31 17:46:00</td>\n",
       "      <td>NECOCLÍ</td>\n",
       "      <td>Turbo TyD</td>\n",
       "      <td>Daños Energía</td>\n",
       "      <td>2019-12-31</td>\n",
       "      <td>31</td>\n",
       "      <td>12</td>\n",
       "      <td>2019</td>\n",
       "      <td>1</td>\n",
       "      <td>4</td>\n",
       "      <td>1</td>\n",
       "      <td>5</td>\n",
       "    </tr>\n",
       "    <tr>\n",
       "      <th>30643</th>\n",
       "      <td>3294596</td>\n",
       "      <td>405-13</td>\n",
       "      <td>2019-12-31 19:16:00</td>\n",
       "      <td>CAREPA</td>\n",
       "      <td>Apartado TyD</td>\n",
       "      <td>Daños Energía</td>\n",
       "      <td>2019-12-31</td>\n",
       "      <td>31</td>\n",
       "      <td>12</td>\n",
       "      <td>2019</td>\n",
       "      <td>1</td>\n",
       "      <td>4</td>\n",
       "      <td>1</td>\n",
       "      <td>5</td>\n",
       "    </tr>\n",
       "  </tbody>\n",
       "</table>\n",
       "<p>30644 rows × 14 columns</p>\n",
       "</div>"
      ],
      "text/plain": [
       "       NumberOT Circuit            OpenDate    Nombre_municipio      District  \\\n",
       "0       2831866  412-14 2018-08-30 17:32:28              CAREPA  Apartado TyD   \n",
       "1       2929866  406-11 2018-12-07 09:48:58               TURBO     Turbo TyD   \n",
       "2       2934398  415-11 2018-12-13 07:37:00             NECOCLÍ     Turbo TyD   \n",
       "3       2945255  407-12 2018-12-28 09:27:36  SAN PEDRO DE URABÁ     Turbo TyD   \n",
       "4       2945565  415-13 2018-12-28 16:30:01             NECOCLÍ     Turbo TyD   \n",
       "...         ...     ...                 ...                 ...           ...   \n",
       "30639   3294486  415-13 2019-12-31 14:27:10             NECOCLÍ     Turbo TyD   \n",
       "30640   3294487  403-13 2019-12-31 14:28:39           CHIGORODÓ  Apartado TyD   \n",
       "30641   3294520  407-12 2019-12-31 15:38:00  SAN PEDRO DE URABÁ     Turbo TyD   \n",
       "30642   3294568  415-12 2019-12-31 17:46:00             NECOCLÍ     Turbo TyD   \n",
       "30643   3294596  405-13 2019-12-31 19:16:00              CAREPA  Apartado TyD   \n",
       "\n",
       "                 ServiceType        Date  day  Month  year  weekday  quarter  \\\n",
       "0      Mantenimiento Energía  2018-08-30   30      8  2018        3        3   \n",
       "1      Mantenimiento Energía  2018-12-07    7     12  2018        4        4   \n",
       "2      Mantenimiento Energía  2018-12-13   13     12  2018        3        4   \n",
       "3      Mantenimiento Energía  2018-12-28   28     12  2018        4        4   \n",
       "4      Mantenimiento Energía  2018-12-28   28     12  2018        4        4   \n",
       "...                      ...         ...  ...    ...   ...      ...      ...   \n",
       "30639  Mantenimiento Energía  2019-12-31   31     12  2019        1        4   \n",
       "30640          Daños Energía  2019-12-31   31     12  2019        1        4   \n",
       "30641          Daños Energía  2019-12-31   31     12  2019        1        4   \n",
       "30642          Daños Energía  2019-12-31   31     12  2019        1        4   \n",
       "30643          Daños Energía  2019-12-31   31     12  2019        1        4   \n",
       "\n",
       "       week  week_in_month  \n",
       "0        35              5  \n",
       "1        49              1  \n",
       "2        50              2  \n",
       "3        52              4  \n",
       "4        52              4  \n",
       "...     ...            ...  \n",
       "30639     1              5  \n",
       "30640     1              5  \n",
       "30641     1              5  \n",
       "30642     1              5  \n",
       "30643     1              5  \n",
       "\n",
       "[30644 rows x 14 columns]"
      ]
     },
     "execution_count": 26,
     "metadata": {},
     "output_type": "execute_result"
    }
   ],
   "source": [
    "#creating time variables\n",
    "distinct_df['OpenDate']=pd.to_datetime(distinct_df['OpenDate'], format='%Y-%m-%d %H:%M:%S')\n",
    "distinct_df['Date']=distinct_df['OpenDate'].dt.date\n",
    "distinct_df['day']=distinct_df['OpenDate'].dt.day\n",
    "distinct_df['Month']=distinct_df['OpenDate'].dt.month\n",
    "distinct_df['year']=distinct_df['OpenDate'].dt.year\n",
    "distinct_df['weekday']=distinct_df['OpenDate'].dt.weekday\n",
    "distinct_df['quarter']=distinct_df['OpenDate'].dt.quarter\n",
    "distinct_df['week']=distinct_df['OpenDate'].dt.week\n",
    "#using a funcion to identify the number of the week in the month\n",
    "def add_week_of_month(df):\n",
    "    df['week_in_month']=pd.to_numeric(df.day)/7\n",
    "    df['week_in_month']=df['week_in_month'].apply(lambda x:math.ceil(x))\n",
    "    return df\n",
    "\n",
    "add_week_of_month(distinct_df)\n",
    "\n",
    "#viewing the created variables\n",
    "distinct_df.info()"
   ]
  },
  {
   "cell_type": "code",
   "execution_count": 27,
   "metadata": {
    "scrolled": true
   },
   "outputs": [
    {
     "data": {
      "text/html": [
       "<div>\n",
       "<style scoped>\n",
       "    .dataframe tbody tr th:only-of-type {\n",
       "        vertical-align: middle;\n",
       "    }\n",
       "\n",
       "    .dataframe tbody tr th {\n",
       "        vertical-align: top;\n",
       "    }\n",
       "\n",
       "    .dataframe thead th {\n",
       "        text-align: right;\n",
       "    }\n",
       "</style>\n",
       "<table border=\"1\" class=\"dataframe\">\n",
       "  <thead>\n",
       "    <tr style=\"text-align: right;\">\n",
       "      <th></th>\n",
       "      <th>NumberOT</th>\n",
       "      <th>Circuit</th>\n",
       "      <th>OpenDate</th>\n",
       "      <th>Nombre_municipio</th>\n",
       "      <th>District</th>\n",
       "      <th>ServiceType</th>\n",
       "      <th>Date</th>\n",
       "      <th>day</th>\n",
       "      <th>Month</th>\n",
       "      <th>year</th>\n",
       "      <th>weekday</th>\n",
       "      <th>quarter</th>\n",
       "      <th>week</th>\n",
       "      <th>week_in_month</th>\n",
       "      <th>humedad_rel</th>\n",
       "      <th>precipitacion</th>\n",
       "    </tr>\n",
       "  </thead>\n",
       "  <tbody>\n",
       "    <tr>\n",
       "      <th>0</th>\n",
       "      <td>2831866</td>\n",
       "      <td>412-14</td>\n",
       "      <td>2018-08-30 17:32:28</td>\n",
       "      <td>CAREPA</td>\n",
       "      <td>Apartado TyD</td>\n",
       "      <td>Mantenimiento Energía</td>\n",
       "      <td>2018-08-30</td>\n",
       "      <td>30</td>\n",
       "      <td>8</td>\n",
       "      <td>2018</td>\n",
       "      <td>3</td>\n",
       "      <td>3</td>\n",
       "      <td>35</td>\n",
       "      <td>5</td>\n",
       "      <td>NaN</td>\n",
       "      <td>NaN</td>\n",
       "    </tr>\n",
       "    <tr>\n",
       "      <th>1</th>\n",
       "      <td>2929866</td>\n",
       "      <td>406-11</td>\n",
       "      <td>2018-12-07 09:48:58</td>\n",
       "      <td>TURBO</td>\n",
       "      <td>Turbo TyD</td>\n",
       "      <td>Mantenimiento Energía</td>\n",
       "      <td>2018-12-07</td>\n",
       "      <td>7</td>\n",
       "      <td>12</td>\n",
       "      <td>2018</td>\n",
       "      <td>4</td>\n",
       "      <td>4</td>\n",
       "      <td>49</td>\n",
       "      <td>1</td>\n",
       "      <td>NaN</td>\n",
       "      <td>NaN</td>\n",
       "    </tr>\n",
       "    <tr>\n",
       "      <th>2</th>\n",
       "      <td>2934398</td>\n",
       "      <td>415-11</td>\n",
       "      <td>2018-12-13 07:37:00</td>\n",
       "      <td>NECOCLÍ</td>\n",
       "      <td>Turbo TyD</td>\n",
       "      <td>Mantenimiento Energía</td>\n",
       "      <td>2018-12-13</td>\n",
       "      <td>13</td>\n",
       "      <td>12</td>\n",
       "      <td>2018</td>\n",
       "      <td>3</td>\n",
       "      <td>4</td>\n",
       "      <td>50</td>\n",
       "      <td>2</td>\n",
       "      <td>NaN</td>\n",
       "      <td>NaN</td>\n",
       "    </tr>\n",
       "    <tr>\n",
       "      <th>3</th>\n",
       "      <td>2945255</td>\n",
       "      <td>407-12</td>\n",
       "      <td>2018-12-28 09:27:36</td>\n",
       "      <td>SAN PEDRO DE URABÁ</td>\n",
       "      <td>Turbo TyD</td>\n",
       "      <td>Mantenimiento Energía</td>\n",
       "      <td>2018-12-28</td>\n",
       "      <td>28</td>\n",
       "      <td>12</td>\n",
       "      <td>2018</td>\n",
       "      <td>4</td>\n",
       "      <td>4</td>\n",
       "      <td>52</td>\n",
       "      <td>4</td>\n",
       "      <td>NaN</td>\n",
       "      <td>NaN</td>\n",
       "    </tr>\n",
       "    <tr>\n",
       "      <th>4</th>\n",
       "      <td>2945565</td>\n",
       "      <td>415-13</td>\n",
       "      <td>2018-12-28 16:30:01</td>\n",
       "      <td>NECOCLÍ</td>\n",
       "      <td>Turbo TyD</td>\n",
       "      <td>Mantenimiento Energía</td>\n",
       "      <td>2018-12-28</td>\n",
       "      <td>28</td>\n",
       "      <td>12</td>\n",
       "      <td>2018</td>\n",
       "      <td>4</td>\n",
       "      <td>4</td>\n",
       "      <td>52</td>\n",
       "      <td>4</td>\n",
       "      <td>NaN</td>\n",
       "      <td>NaN</td>\n",
       "    </tr>\n",
       "  </tbody>\n",
       "</table>\n",
       "</div>"
      ],
      "text/plain": [
       "   NumberOT Circuit            OpenDate    Nombre_municipio      District  \\\n",
       "0   2831866  412-14 2018-08-30 17:32:28              CAREPA  Apartado TyD   \n",
       "1   2929866  406-11 2018-12-07 09:48:58               TURBO     Turbo TyD   \n",
       "2   2934398  415-11 2018-12-13 07:37:00             NECOCLÍ     Turbo TyD   \n",
       "3   2945255  407-12 2018-12-28 09:27:36  SAN PEDRO DE URABÁ     Turbo TyD   \n",
       "4   2945565  415-13 2018-12-28 16:30:01             NECOCLÍ     Turbo TyD   \n",
       "\n",
       "             ServiceType        Date  day  Month  year  weekday  quarter  \\\n",
       "0  Mantenimiento Energía  2018-08-30   30      8  2018        3        3   \n",
       "1  Mantenimiento Energía  2018-12-07    7     12  2018        4        4   \n",
       "2  Mantenimiento Energía  2018-12-13   13     12  2018        3        4   \n",
       "3  Mantenimiento Energía  2018-12-28   28     12  2018        4        4   \n",
       "4  Mantenimiento Energía  2018-12-28   28     12  2018        4        4   \n",
       "\n",
       "   week  week_in_month  humedad_rel  precipitacion  \n",
       "0    35              5          NaN            NaN  \n",
       "1    49              1          NaN            NaN  \n",
       "2    50              2          NaN            NaN  \n",
       "3    52              4          NaN            NaN  \n",
       "4    52              4          NaN            NaN  "
      ]
     },
     "execution_count": 27,
     "metadata": {},
     "output_type": "execute_result"
    }
   ],
   "source": [
    "#merging with weather data\n",
    "\n",
    "#distinct_df.merge(dfw_hum[[\"\",\"\",\"\"]])\n",
    "\n",
    "#pd.to_datetime(dfw_hum['Fecha'], format='%Y-%m-%d %H:%M')\n",
    "dfw_hum['Fecha']=dfw_hum['Fecha'].apply(pd.to_datetime, format='%Y-%m-%d %H:%M')\n",
    "dfw_hum['Date']=dfw_hum['Fecha'].dt.date\n",
    "#dfw_hum['day']=dfw_hum['Fecha'].dt.day\n",
    "#dfw_hum['Month']=dfw_hum['Fecha'].dt.month\n",
    "\n",
    "dfw_hum['Fecha']=dfw_hum['Fecha'].apply(pd.to_datetime, format='%Y-%m-%d %H:%M')\n",
    "dfw_hum['Date']=dfw_hum['Fecha'].dt.date\n",
    "\n",
    "dfw_precip['Fecha']=dfw_precip['Fecha'].apply(pd.to_datetime, format='%Y-%m-%d %H:%M')\n",
    "dfw_precip['Date']=dfw_precip['Fecha'].dt.date\n",
    "\n",
    "\n",
    "#####merging by date and municipio\n",
    "\n",
    "d=distinct_df.merge(dfw_hum[[\"Date\", \"Nombre_municipio\", \"Valor\"]], on=[\"Date\",\"Nombre_municipio\"], how='left')\n",
    "d.rename(columns={'Valor': 'humedad_rel'}, inplace=True)\n",
    "d=d.merge(dfw_precip[[\"Date\", \"Nombre_municipio\", \"Valor\"]], on=[\"Date\",\"Nombre_municipio\"], how='left')\n",
    "d.rename(columns={'Valor': 'precipitacion'}, inplace=True)\n",
    "distinct_dff=d\n",
    "distinct_dff.head()"
   ]
  },
  {
   "cell_type": "code",
   "execution_count": 29,
   "metadata": {},
   "outputs": [],
   "source": [
    "#filtering ServiceType for inbalance\n",
    "distinct_dff=distinct_dff[(distinct_dff[\"year\"]>2018)&(~distinct_dff[\"ServiceType\"].str.contains(\"Mantenimiento Subterránea\"))]"
   ]
  },
  {
   "cell_type": "code",
   "execution_count": 277,
   "metadata": {},
   "outputs": [],
   "source": [
    "#filtering ServiceType\n",
    "#distinct_dff=distinct_dff[(distinct_dff[\"year\"]>2018)&(~distinct_dff[\"LocationResume\"].str.contains(\"RECONECTADOR\"))]\n",
    "#distinct_dff=distinct_dff[(distinct_dff[\"year\"]>2018)&(~distinct_dff[\"LocationResume\"].str.contains(\"SEGMENTO\"))]\n",
    "#distinct_dff=distinct_dff[(distinct_dff[\"year\"]>2018)&(~distinct_dff[\"LocationResume\"].str.contains(\"NODO\"))]\n",
    "#distinct_dff=distinct_dff[(distinct_dff[\"year\"]>2018)&(~distinct_dff[\"LocationResume\"].str.contains(\"ALIMENTADOR PRINCIPAL\"))]\n",
    "#distinct_dff=distinct_dff[(distinct_dff[\"year\"]>2018)&(~distinct_dff[\"LocationResume\"].str.contains(\"TRAMO\"))]\n",
    "#distinct_dff=distinct_dff[(distinct_dff[\"year\"]>2018)&(~distinct_dff[\"LocationResume\"].str.contains(\"RAMAL \"))]"
   ]
  },
  {
   "cell_type": "code",
   "execution_count": 31,
   "metadata": {},
   "outputs": [],
   "source": [
    "#filtering year\n",
    "distinct_dff=distinct_dff[(distinct_dff[\"year\"]>2018)]"
   ]
  },
  {
   "cell_type": "code",
   "execution_count": 103,
   "metadata": {},
   "outputs": [
    {
     "name": "stdout",
     "output_type": "stream",
     "text": [
      "Training data set length=4223\n",
      "Testing data set length=1076\n",
      "[]\n",
      "[]\n"
     ]
    }
   ],
   "source": [
    "#extracting unique cases\n",
    "distinct_df1=distinct_dff[[\"NumberOT\", \"Nombre_municipio\", \"Month\", \"District\", \"ServiceType\", \"day\", \"weekday\", \"Date\"]].groupby([ \"Nombre_municipio\", \"Month\",\"District\", \"ServiceType\",\"day\", \"weekday\", \"Date\"]).count().reset_index()\n",
    "distinct_df1.dropna() # filtering null values\n",
    "distinct_df1.to_csv((r'datos.csv')) #saving data for modelling in R\n",
    "#extracting train y test datasets\n",
    "random.seed(15)\n",
    "mask = np.random.rand(len(distinct_df1)) < 0.8\n",
    "df_train = distinct_df1[mask]\n",
    "df_train.to_csv(r'train.csv')\n",
    "df_test = distinct_df1[~mask]\n",
    "df_test.to_csv(r'test.csv')\n",
    "print('Training data set length='+str(len(df_train)))\n",
    "print('Testing data set length='+str(len(df_test)))\n",
    "\n",
    "expr = \"\"\"NumberOT ~ ServiceType + District + C(Month) + C(weekday)\"\"\"\n",
    "\n",
    "y_train, X_train = dmatrices(expr, df_train, return_type='dataframe')\n",
    "y_test, X_test = dmatrices(expr, df_test, return_type='dataframe')\n",
    "\n",
    "xtr=list(X_train.columns)\n",
    "xt=list(X_test.columns)\n",
    "\n",
    "def setdiff_sorted(array1,array2,assume_unique=False):\n",
    "    ans = np.setdiff1d(array1,array2,assume_unique).tolist()\n",
    "    if assume_unique:\n",
    "        return sorted(ans)\n",
    "    return ans\n",
    "###validating if datasets have the same columns\n",
    "main_list = setdiff_sorted(xtr,xt)\n",
    "print(main_list)\n",
    "main_list_c = setdiff_sorted(xt,xtr)\n",
    "print(main_list_c)"
   ]
  },
  {
   "cell_type": "code",
   "execution_count": 101,
   "metadata": {},
   "outputs": [
    {
     "name": "stdout",
     "output_type": "stream",
     "text": [
      "5.78\n"
     ]
    },
    {
     "data": {
      "text/plain": [
       "32.07"
      ]
     },
     "execution_count": 101,
     "metadata": {},
     "output_type": "execute_result"
    }
   ],
   "source": [
    "#mean and variance of counts of failures\n",
    "print(round(distinct_df1[\"NumberOT\"].mean(),2))\n",
    "round(distinct_df1[\"NumberOT\"].var(),2)"
   ]
  },
  {
   "cell_type": "code",
   "execution_count": 102,
   "metadata": {
    "scrolled": false
   },
   "outputs": [
    {
     "name": "stdout",
     "output_type": "stream",
     "text": [
      "                 Generalized Linear Model Regression Results                  \n",
      "==============================================================================\n",
      "Dep. Variable:               NumberOT   No. Observations:                 4230\n",
      "Model:                            GLM   Df Residuals:                     4210\n",
      "Model Family:                 Poisson   Df Model:                           19\n",
      "Link Function:                    log   Scale:                          1.0000\n",
      "Method:                          IRLS   Log-Likelihood:                -14010.\n",
      "Date:                Sat, 25 Jul 2020   Deviance:                       14349.\n",
      "Time:                        21:25:02   Pearson chi2:                 1.73e+04\n",
      "No. Iterations:                     5                                         \n",
      "Covariance Type:            nonrobust                                         \n",
      "========================================================================================================\n",
      "                                           coef    std err          z      P>|z|      [0.025      0.975]\n",
      "--------------------------------------------------------------------------------------------------------\n",
      "Intercept                                1.8431      0.030     61.927      0.000       1.785       1.901\n",
      "ServiceType[T.Mantenimiento Energía]    -0.7112      0.015    -46.764      0.000      -0.741      -0.681\n",
      "District[T.Turbo TyD]                    0.1969      0.013     14.945      0.000       0.171       0.223\n",
      "C(Month)[T.2]                            0.0113      0.036      0.318      0.751      -0.059       0.081\n",
      "C(Month)[T.3]                            0.2738      0.033      8.285      0.000       0.209       0.339\n",
      "C(Month)[T.4]                            0.3178      0.033      9.755      0.000       0.254       0.382\n",
      "C(Month)[T.5]                            0.3314      0.032     10.272      0.000       0.268       0.395\n",
      "C(Month)[T.6]                            0.4398      0.032     13.798      0.000       0.377       0.502\n",
      "C(Month)[T.7]                            0.4776      0.031     15.209      0.000       0.416       0.539\n",
      "C(Month)[T.8]                            0.2626      0.033      7.976      0.000       0.198       0.327\n",
      "C(Month)[T.9]                            0.1348      0.034      3.943      0.000       0.068       0.202\n",
      "C(Month)[T.10]                           0.0850      0.034      2.498      0.013       0.018       0.152\n",
      "C(Month)[T.11]                           0.0651      0.035      1.859      0.063      -0.004       0.134\n",
      "C(Month)[T.12]                           0.0101      0.035      0.286      0.775      -0.059       0.080\n",
      "C(weekday)[T.1]                         -0.0436      0.021     -2.055      0.040      -0.085      -0.002\n",
      "C(weekday)[T.2]                         -0.1695      0.022     -7.764      0.000      -0.212      -0.127\n",
      "C(weekday)[T.3]                         -0.1527      0.022     -6.903      0.000      -0.196      -0.109\n",
      "C(weekday)[T.4]                         -0.2347      0.022    -10.499      0.000      -0.279      -0.191\n",
      "C(weekday)[T.5]                         -0.5278      0.026    -20.465      0.000      -0.578      -0.477\n",
      "C(weekday)[T.6]                         -0.6713      0.027    -25.110      0.000      -0.724      -0.619\n",
      "========================================================================================================\n"
     ]
    }
   ],
   "source": [
    "#fitting a poisson regression\n",
    "poisson_training_results = sm.GLM(y_train, X_train, family=sm.families.Poisson()).fit()\n",
    "print(poisson_training_results.summary())"
   ]
  },
  {
   "cell_type": "code",
   "execution_count": 92,
   "metadata": {
    "scrolled": false
   },
   "outputs": [
    {
     "name": "stdout",
     "output_type": "stream",
     "text": [
      "          mean   mean_se  mean_ci_lower  mean_ci_upper\n",
      "13    6.046516  0.180736       5.702457       6.411334\n",
      "24    3.725798  0.124009       3.490503       3.976954\n",
      "26    6.316120  0.187984       5.958218       6.695521\n",
      "38    2.452664  0.079845       2.301058       2.614258\n",
      "41    2.969199  0.094510       2.789621       3.160336\n",
      "...        ...       ...            ...            ...\n",
      "5273  7.768819  0.224667       7.340726       8.221877\n",
      "5276  3.814951  0.117941       3.590655       4.053259\n",
      "5286  3.016773  0.097722       2.831196       3.214514\n",
      "5287  3.814951  0.117941       3.590655       4.053259\n",
      "5298  3.652110  0.114383       3.434667       3.883320\n",
      "\n",
      "[1069 rows x 4 columns]\n"
     ]
    }
   ],
   "source": [
    "#getting predictions for trining dataset\n",
    "poisson_predictions = poisson_training_results.get_prediction(X_test)\n",
    "#.summary_frame() returns a pandas DataFrame\n",
    "predictions_summary_frame = poisson_predictions.summary_frame()\n",
    "print(predictions_summary_frame)\n",
    "############revisar los datos para eliminar los NaN y eliminarlos."
   ]
  },
  {
   "cell_type": "code",
   "execution_count": 93,
   "metadata": {},
   "outputs": [
    {
     "data": {
      "text/plain": [
       "<statsmodels.genmod._prediction.PredictionResults at 0x19f3c996a90>"
      ]
     },
     "execution_count": 93,
     "metadata": {},
     "output_type": "execute_result"
    }
   ],
   "source": [
    "poisson_predictions"
   ]
  },
  {
   "cell_type": "code",
   "execution_count": 107,
   "metadata": {},
   "outputs": [
    {
     "name": "stdout",
     "output_type": "stream",
     "text": [
      "Training data set length=1064\n",
      "Testing data set length=270\n",
      "[]\n",
      "[]\n"
     ]
    }
   ],
   "source": [
    "import random\n",
    "distinct_df1c=distinct_dff[[\"NumberOT\", \"Nombre_municipio\",\"Month\", \"District\", \"ServiceType\",\"precipitacion\",\"quarter\", \"day\", \"weekday\", \"Date\"]].groupby([ \"Nombre_municipio\", \"Month\",\"District\", \"ServiceType\", \"precipitacion\",\"quarter\", \"day\", \"weekday\", \"Date\"]).count().reset_index()\n",
    "\n",
    "distinct_df1c.dropna()\n",
    "\n",
    "random.seed(10)\n",
    "mask = np.random.rand(len(distinct_df1c)) < 0.8\n",
    "df_train_w = distinct_df1c[mask]\n",
    "df_test_w = distinct_df1c[~mask]\n",
    "print('Training data set length='+str(len(df_train_w)))\n",
    "print('Testing data set length='+str(len(df_test_w)))\n",
    "\n",
    "expr = \"\"\"NumberOT ~ ServiceType + District + precipitacion + C(Month) + C(weekday) \"\"\"\n",
    "\n",
    "y_train_w, X_train_w = dmatrices(expr, df_train_w, return_type='dataframe')\n",
    "y_test_w, X_test_w = dmatrices(expr, df_test_w, return_type='dataframe')\n",
    "\n",
    "xtr_w=list(X_train_w.columns)\n",
    "xt_w=list(X_test_w.columns)\n",
    "\n",
    "def setdiff_sorted(array1,array2,assume_unique=False):\n",
    "    ans = np.setdiff1d(array1,array2,assume_unique).tolist()\n",
    "    if assume_unique:\n",
    "        return sorted(ans)\n",
    "    return ans\n",
    "main_list = setdiff_sorted(xtr_w,xt_w)\n",
    "print(main_list)\n",
    "main_list_c = setdiff_sorted(xt_w,xtr_w)\n",
    "print(main_list_c)"
   ]
  },
  {
   "cell_type": "code",
   "execution_count": 108,
   "metadata": {},
   "outputs": [
    {
     "name": "stdout",
     "output_type": "stream",
     "text": [
      "7.72\n"
     ]
    },
    {
     "data": {
      "text/plain": [
       "49.49"
      ]
     },
     "execution_count": 108,
     "metadata": {},
     "output_type": "execute_result"
    }
   ],
   "source": [
    "print(round(distinct_df1c[\"NumberOT\"].mean(),2))\n",
    "round(distinct_df1c[\"NumberOT\"].var(),2)"
   ]
  },
  {
   "cell_type": "code",
   "execution_count": 109,
   "metadata": {
    "scrolled": true
   },
   "outputs": [
    {
     "name": "stdout",
     "output_type": "stream",
     "text": [
      "                 Generalized Linear Model Regression Results                  \n",
      "==============================================================================\n",
      "Dep. Variable:               NumberOT   No. Observations:                 1064\n",
      "Model:                            GLM   Df Residuals:                     1043\n",
      "Model Family:                 Poisson   Df Model:                           20\n",
      "Link Function:                    log   Scale:                          1.0000\n",
      "Method:                          IRLS   Log-Likelihood:                -3428.1\n",
      "Date:                Sat, 25 Jul 2020   Deviance:                       3110.4\n",
      "Time:                        21:53:41   Pearson chi2:                 3.52e+03\n",
      "No. Iterations:                     5                                         \n",
      "Covariance Type:            nonrobust                                         \n",
      "========================================================================================================\n",
      "                                           coef    std err          z      P>|z|      [0.025      0.975]\n",
      "--------------------------------------------------------------------------------------------------------\n",
      "Intercept                                1.9546      0.051     38.147      0.000       1.854       2.055\n",
      "ServiceType[T.Mantenimiento Energía]    -0.8768      0.026    -34.029      0.000      -0.927      -0.826\n",
      "District[T.Turbo TyD]                    0.8202      0.024     34.362      0.000       0.773       0.867\n",
      "C(Month)[T.2]                            0.0587      0.059      0.996      0.319      -0.057       0.174\n",
      "C(Month)[T.3]                            0.2626      0.055      4.754      0.000       0.154       0.371\n",
      "C(Month)[T.4]                            0.3334      0.055      6.075      0.000       0.226       0.441\n",
      "C(Month)[T.5]                            0.1981      0.056      3.559      0.000       0.089       0.307\n",
      "C(Month)[T.6]                            0.3303      0.055      6.013      0.000       0.223       0.438\n",
      "C(Month)[T.7]                            0.3990      0.054      7.381      0.000       0.293       0.505\n",
      "C(Month)[T.8]                            0.1375      0.057      2.393      0.017       0.025       0.250\n",
      "C(Month)[T.9]                            0.0717      0.060      1.203      0.229      -0.045       0.189\n",
      "C(Month)[T.10]                          -0.0885      0.062     -1.423      0.155      -0.211       0.033\n",
      "C(Month)[T.11]                           0.1762      0.059      2.980      0.003       0.060       0.292\n",
      "C(Month)[T.12]                          -0.1808      0.061     -2.969      0.003      -0.300      -0.061\n",
      "C(weekday)[T.1]                         -0.2317      0.036     -6.373      0.000      -0.303      -0.160\n",
      "C(weekday)[T.2]                         -0.1919      0.036     -5.303      0.000      -0.263      -0.121\n",
      "C(weekday)[T.3]                         -0.2273      0.037     -6.198      0.000      -0.299      -0.155\n",
      "C(weekday)[T.4]                         -0.2649      0.038     -7.019      0.000      -0.339      -0.191\n",
      "C(weekday)[T.5]                         -0.6962      0.045    -15.502      0.000      -0.784      -0.608\n",
      "C(weekday)[T.6]                         -0.7681      0.044    -17.276      0.000      -0.855      -0.681\n",
      "precipitacion                            0.0030      0.001      4.219      0.000       0.002       0.004\n",
      "========================================================================================================\n"
     ]
    }
   ],
   "source": [
    "poisson_training_results_w = sm.GLM(y_train_w, X_train_w, family=sm.families.Poisson()).fit()\n",
    "print(poisson_training_results_w.summary())"
   ]
  },
  {
   "cell_type": "code",
   "execution_count": 110,
   "metadata": {},
   "outputs": [
    {
     "name": "stdout",
     "output_type": "stream",
     "text": [
      "          mean   mean_se  mean_ci_lower  mean_ci_upper\n",
      "2     3.800583  0.217197       3.397860       4.251037\n",
      "5     5.600397  0.297415       5.046786       6.214737\n",
      "6     5.827884  0.306055       5.257867       6.459699\n",
      "8     5.417362  0.288437       4.880532       6.013239\n",
      "20    3.519690  0.206425       3.137493       3.948445\n",
      "...        ...       ...            ...            ...\n",
      "1314  4.595951  0.250927       4.129543       5.115036\n",
      "1322  4.277300  0.238425       3.834617       4.771088\n",
      "1325  4.456032  0.245844       3.999324       4.964894\n",
      "1327  2.809784  0.174088       2.488481       3.172572\n",
      "1331  4.475417  0.251866       4.008020       4.997319\n",
      "\n",
      "[270 rows x 4 columns]\n"
     ]
    }
   ],
   "source": [
    "poisson_predictions_w = poisson_training_results_w.get_prediction(X_test_w)\n",
    "#.summary_frame() returns a pandas DataFrame\n",
    "predictions_summary_frame_w = poisson_predictions_w.summary_frame()\n",
    "print(predictions_summary_frame_w)\n",
    "############revisar los datos para eliminar los NaN y eliminarlos."
   ]
  },
  {
   "cell_type": "code",
   "execution_count": 111,
   "metadata": {},
   "outputs": [
    {
     "data": {
      "text/plain": [
       "<matplotlib.legend.Legend at 0x19f3c9ff970>"
      ]
     },
     "execution_count": 111,
     "metadata": {},
     "output_type": "execute_result"
    },
    {
     "data": {
      "image/png": "[encoded data removed]",
      "text/plain": [
       "<Figure size 432x288 with 1 Axes>"
      ]
     },
     "metadata": {
      "needs_background": "light"
     },
     "output_type": "display_data"
    }
   ],
   "source": [
    "fig_dims = (80, 76)\n",
    "fig, ax = plt.subplots()\n",
    "sns.distplot(y_test_w, label=\"observed values\")\n",
    "sns.distplot(predictions_summary_frame_w[\"mean\"],label=\"Fitted values\")\n",
    "plt.legend(prop={'size': 12}, title = 'Values')"
   ]
  },
  {
   "cell_type": "code",
   "execution_count": 112,
   "metadata": {
    "scrolled": true
   },
   "outputs": [
    {
     "data": {
      "text/plain": [
       "<matplotlib.legend.Legend at 0x19f3cc7d3a0>"
      ]
     },
     "execution_count": 112,
     "metadata": {},
     "output_type": "execute_result"
    },
    {
     "data": {
      "image/png": "[encoded data removed]",
      "text/plain": [
       "<Figure size 432x288 with 1 Axes>"
      ]
     },
     "metadata": {
      "needs_background": "light"
     },
     "output_type": "display_data"
    }
   ],
   "source": [
    "fig_dims = (80, 76)\n",
    "fig, ax = plt.subplots()\n",
    "sns.distplot(y_test, label=\"observed values\")\n",
    "sns.distplot(predictions_summary_frame[\"mean\"],label=\"Fitted values\")\n",
    "plt.legend(prop={'size': 12}, title = 'Values')"
   ]
  },
  {
   "cell_type": "code",
   "execution_count": 80,
   "metadata": {},
   "outputs": [
    {
     "data": {
      "text/plain": [
       "1053"
      ]
     },
     "execution_count": 80,
     "metadata": {},
     "output_type": "execute_result"
    }
   ],
   "source": [
    "len(y_test)"
   ]
  },
  {
   "cell_type": "code",
   "execution_count": 81,
   "metadata": {},
   "outputs": [
    {
     "data": {
      "text/plain": [
       "1057"
      ]
     },
     "execution_count": 81,
     "metadata": {},
     "output_type": "execute_result"
    }
   ],
   "source": [
    "len(yhat)"
   ]
  },
  {
   "cell_type": "code",
   "execution_count": 79,
   "metadata": {
    "scrolled": true
   },
   "outputs": [
    {
     "ename": "ValueError",
     "evalue": "x and y must be the same size",
     "output_type": "error",
     "traceback": [
      "\u001b[1;31m---------------------------------------------------------------------------\u001b[0m",
      "\u001b[1;31mValueError\u001b[0m                                Traceback (most recent call last)",
      "\u001b[1;32m<ipython-input-79-131958c9716e>\u001b[0m in \u001b[0;36m<module>\u001b[1;34m\u001b[0m\n\u001b[0;32m      4\u001b[0m \u001b[0mfig_dims\u001b[0m \u001b[1;33m=\u001b[0m \u001b[1;33m(\u001b[0m\u001b[1;36m20\u001b[0m\u001b[1;33m,\u001b[0m \u001b[1;36m16\u001b[0m\u001b[1;33m)\u001b[0m\u001b[1;33m\u001b[0m\u001b[1;33m\u001b[0m\u001b[0m\n\u001b[0;32m      5\u001b[0m \u001b[0mfig\u001b[0m\u001b[1;33m,\u001b[0m \u001b[0max\u001b[0m \u001b[1;33m=\u001b[0m \u001b[0mplt\u001b[0m\u001b[1;33m.\u001b[0m\u001b[0msubplots\u001b[0m\u001b[1;33m(\u001b[0m\u001b[1;33m)\u001b[0m\u001b[1;33m\u001b[0m\u001b[1;33m\u001b[0m\u001b[0m\n\u001b[1;32m----> 6\u001b[1;33m \u001b[0max\u001b[0m\u001b[1;33m.\u001b[0m\u001b[0mscatter\u001b[0m\u001b[1;33m(\u001b[0m\u001b[0myhat\u001b[0m\u001b[1;33m,\u001b[0m \u001b[0my\u001b[0m\u001b[1;33m)\u001b[0m\u001b[1;33m\u001b[0m\u001b[1;33m\u001b[0m\u001b[0m\n\u001b[0m\u001b[0;32m      7\u001b[0m \u001b[0max\u001b[0m\u001b[1;33m.\u001b[0m\u001b[0mset_ylabel\u001b[0m\u001b[1;33m(\u001b[0m\u001b[1;34m'Observed values'\u001b[0m\u001b[1;33m)\u001b[0m\u001b[1;33m\u001b[0m\u001b[1;33m\u001b[0m\u001b[0m\n\u001b[0;32m      8\u001b[0m \u001b[0max\u001b[0m\u001b[1;33m.\u001b[0m\u001b[0mset_xlabel\u001b[0m\u001b[1;33m(\u001b[0m\u001b[1;34m'Fitted values'\u001b[0m\u001b[1;33m)\u001b[0m\u001b[1;33m;\u001b[0m\u001b[1;33m\u001b[0m\u001b[1;33m\u001b[0m\u001b[0m\n",
      "\u001b[1;32mc:\\users\\carlo\\appdata\\local\\programs\\python\\python38\\lib\\site-packages\\matplotlib\\__init__.py\u001b[0m in \u001b[0;36minner\u001b[1;34m(ax, data, *args, **kwargs)\u001b[0m\n\u001b[0;32m   1563\u001b[0m     \u001b[1;32mdef\u001b[0m \u001b[0minner\u001b[0m\u001b[1;33m(\u001b[0m\u001b[0max\u001b[0m\u001b[1;33m,\u001b[0m \u001b[1;33m*\u001b[0m\u001b[0margs\u001b[0m\u001b[1;33m,\u001b[0m \u001b[0mdata\u001b[0m\u001b[1;33m=\u001b[0m\u001b[1;32mNone\u001b[0m\u001b[1;33m,\u001b[0m \u001b[1;33m**\u001b[0m\u001b[0mkwargs\u001b[0m\u001b[1;33m)\u001b[0m\u001b[1;33m:\u001b[0m\u001b[1;33m\u001b[0m\u001b[1;33m\u001b[0m\u001b[0m\n\u001b[0;32m   1564\u001b[0m         \u001b[1;32mif\u001b[0m \u001b[0mdata\u001b[0m \u001b[1;32mis\u001b[0m \u001b[1;32mNone\u001b[0m\u001b[1;33m:\u001b[0m\u001b[1;33m\u001b[0m\u001b[1;33m\u001b[0m\u001b[0m\n\u001b[1;32m-> 1565\u001b[1;33m             \u001b[1;32mreturn\u001b[0m \u001b[0mfunc\u001b[0m\u001b[1;33m(\u001b[0m\u001b[0max\u001b[0m\u001b[1;33m,\u001b[0m \u001b[1;33m*\u001b[0m\u001b[0mmap\u001b[0m\u001b[1;33m(\u001b[0m\u001b[0msanitize_sequence\u001b[0m\u001b[1;33m,\u001b[0m \u001b[0margs\u001b[0m\u001b[1;33m)\u001b[0m\u001b[1;33m,\u001b[0m \u001b[1;33m**\u001b[0m\u001b[0mkwargs\u001b[0m\u001b[1;33m)\u001b[0m\u001b[1;33m\u001b[0m\u001b[1;33m\u001b[0m\u001b[0m\n\u001b[0m\u001b[0;32m   1566\u001b[0m \u001b[1;33m\u001b[0m\u001b[0m\n\u001b[0;32m   1567\u001b[0m         \u001b[0mbound\u001b[0m \u001b[1;33m=\u001b[0m \u001b[0mnew_sig\u001b[0m\u001b[1;33m.\u001b[0m\u001b[0mbind\u001b[0m\u001b[1;33m(\u001b[0m\u001b[0max\u001b[0m\u001b[1;33m,\u001b[0m \u001b[1;33m*\u001b[0m\u001b[0margs\u001b[0m\u001b[1;33m,\u001b[0m \u001b[1;33m**\u001b[0m\u001b[0mkwargs\u001b[0m\u001b[1;33m)\u001b[0m\u001b[1;33m\u001b[0m\u001b[1;33m\u001b[0m\u001b[0m\n",
      "\u001b[1;32mc:\\users\\carlo\\appdata\\local\\programs\\python\\python38\\lib\\site-packages\\matplotlib\\cbook\\deprecation.py\u001b[0m in \u001b[0;36mwrapper\u001b[1;34m(*args, **kwargs)\u001b[0m\n\u001b[0;32m    356\u001b[0m                 \u001b[1;34mf\"%(removal)s.  If any parameter follows {name!r}, they \"\u001b[0m\u001b[1;33m\u001b[0m\u001b[1;33m\u001b[0m\u001b[0m\n\u001b[0;32m    357\u001b[0m                 f\"should be pass as keyword, not positionally.\")\n\u001b[1;32m--> 358\u001b[1;33m         \u001b[1;32mreturn\u001b[0m \u001b[0mfunc\u001b[0m\u001b[1;33m(\u001b[0m\u001b[1;33m*\u001b[0m\u001b[0margs\u001b[0m\u001b[1;33m,\u001b[0m \u001b[1;33m**\u001b[0m\u001b[0mkwargs\u001b[0m\u001b[1;33m)\u001b[0m\u001b[1;33m\u001b[0m\u001b[1;33m\u001b[0m\u001b[0m\n\u001b[0m\u001b[0;32m    359\u001b[0m \u001b[1;33m\u001b[0m\u001b[0m\n\u001b[0;32m    360\u001b[0m     \u001b[1;32mreturn\u001b[0m \u001b[0mwrapper\u001b[0m\u001b[1;33m\u001b[0m\u001b[1;33m\u001b[0m\u001b[0m\n",
      "\u001b[1;32mc:\\users\\carlo\\appdata\\local\\programs\\python\\python38\\lib\\site-packages\\matplotlib\\axes\\_axes.py\u001b[0m in \u001b[0;36mscatter\u001b[1;34m(self, x, y, s, c, marker, cmap, norm, vmin, vmax, alpha, linewidths, verts, edgecolors, plotnonfinite, **kwargs)\u001b[0m\n\u001b[0;32m   4389\u001b[0m         \u001b[0my\u001b[0m \u001b[1;33m=\u001b[0m \u001b[0mnp\u001b[0m\u001b[1;33m.\u001b[0m\u001b[0mma\u001b[0m\u001b[1;33m.\u001b[0m\u001b[0mravel\u001b[0m\u001b[1;33m(\u001b[0m\u001b[0my\u001b[0m\u001b[1;33m)\u001b[0m\u001b[1;33m\u001b[0m\u001b[1;33m\u001b[0m\u001b[0m\n\u001b[0;32m   4390\u001b[0m         \u001b[1;32mif\u001b[0m \u001b[0mx\u001b[0m\u001b[1;33m.\u001b[0m\u001b[0msize\u001b[0m \u001b[1;33m!=\u001b[0m \u001b[0my\u001b[0m\u001b[1;33m.\u001b[0m\u001b[0msize\u001b[0m\u001b[1;33m:\u001b[0m\u001b[1;33m\u001b[0m\u001b[1;33m\u001b[0m\u001b[0m\n\u001b[1;32m-> 4391\u001b[1;33m             \u001b[1;32mraise\u001b[0m \u001b[0mValueError\u001b[0m\u001b[1;33m(\u001b[0m\u001b[1;34m\"x and y must be the same size\"\u001b[0m\u001b[1;33m)\u001b[0m\u001b[1;33m\u001b[0m\u001b[1;33m\u001b[0m\u001b[0m\n\u001b[0m\u001b[0;32m   4392\u001b[0m \u001b[1;33m\u001b[0m\u001b[0m\n\u001b[0;32m   4393\u001b[0m         \u001b[1;32mif\u001b[0m \u001b[0ms\u001b[0m \u001b[1;32mis\u001b[0m \u001b[1;32mNone\u001b[0m\u001b[1;33m:\u001b[0m\u001b[1;33m\u001b[0m\u001b[1;33m\u001b[0m\u001b[0m\n",
      "\u001b[1;31mValueError\u001b[0m: x and y must be the same size"
     ]
    },
    {
     "data": {
      "image/png": "[encoded data removed]",
      "text/plain": [
       "<Figure size 432x288 with 1 Axes>"
      ]
     },
     "metadata": {
      "needs_background": "light"
     },
     "output_type": "display_data"
    }
   ],
   "source": [
    "y = y_test\n",
    "yhat=predictions_summary_frame[\"mean\"]\n",
    "\n",
    "fig_dims = (20, 16)\n",
    "fig, ax = plt.subplots()\n",
    "ax.scatter(yhat, y)\n",
    "ax.set_ylabel('Observed values')\n",
    "ax.set_xlabel('Fitted values');"
   ]
  },
  {
   "cell_type": "code",
   "execution_count": 85,
   "metadata": {},
   "outputs": [
    {
     "name": "stdout",
     "output_type": "stream",
     "text": [
      "1053\n"
     ]
    },
    {
     "data": {
      "text/plain": [
       "(1057,)"
      ]
     },
     "execution_count": 85,
     "metadata": {},
     "output_type": "execute_result"
    }
   ],
   "source": [
    "y = y_test\n",
    "print(len(y))\n",
    "#y\n",
    "predictions_summary_frame[\"mean\"].shape"
   ]
  },
  {
   "cell_type": "code",
   "execution_count": 124,
   "metadata": {},
   "outputs": [
    {
     "name": "stderr",
     "output_type": "stream",
     "text": [
      "<>:4: DeprecationWarning: invalid escape sequence \\e\n"
     ]
    }
   ],
   "source": [
    "#saving the index related with the model\n",
    "beginningtex = \"\"\"\\\\documentclass{report}\n",
    "\\\\usepackage{booktabs}\n",
    "\\\\begin{document}\"\"\"\n",
    "endtex = \"\\end{document}\"\n",
    "\n",
    "f = open('myreg.tex', 'w')\n",
    "f.write(beginningtex)\n",
    "f.write(poisson_training_results.summary().as_latex())\n",
    "f.write(endtex)\n",
    "f.close()"
   ]
  },
  {
   "cell_type": "code",
   "execution_count": null,
   "metadata": {},
   "outputs": [],
   "source": [
    "######## las siguiente tiene pruebas con pyRserve"
   ]
  },
  {
   "cell_type": "code",
   "execution_count": 6,
   "metadata": {},
   "outputs": [],
   "source": [
    "import pyRserve\n",
    "conn = pyRserve.connect() "
   ]
  },
  {
   "cell_type": "code",
   "execution_count": 15,
   "metadata": {},
   "outputs": [],
   "source": [
    "test_r_script = '''\n",
    "                setwd(\"~/Repo/ds4a-team75\")\n",
    "                #importing libraries\n",
    "                library(\"VGAM\")\n",
    "                library(\"data.table\")\n",
    "                library(\"ggplot2\")\n",
    "                library(\"readxl\")\n",
    "                library(\"xtable\")\n",
    "                library( broom )\n",
    "                library(EnvStats)\n",
    "                datos <- read.csv(\"~/Repo/ds4a-team75/datos.csv\")\n",
    "                #converting data into data table\n",
    "                datos<-as.data.table(datos)\n",
    "                '''\n",
    "variable = conn.eval(test_r_script)\n",
    "\n",
    "print (variable)"
   ]
  },
  {
   "cell_type": "code",
   "execution_count": null,
   "metadata": {},
   "outputs": [],
   "source": [
    "#fitting the model\n",
    "test_r_script1 = '''\n",
    "                a=boxcox(as.numeric(datos[[\"NumberOT\"]]), optimize=TRUE)\n",
    "                l=a$lambda\n",
    "                #saving trasnformed data\n",
    "                datos[,\"BC_NumberOT\"] = (datos[,\"NumberOT\"]^(l) -1)/l\n",
    "                #using a boxplot to idenify outliers\n",
    "                b=boxplot(datos[,\"BC_NumberOT\"])\n",
    "                #filtering outliers\n",
    "                datosb<-datos[BC_NumberOT< b$stats[5],]\n",
    "\n",
    "                #fitting the positive negative binomial regression\n",
    "                m1<-vglm(NumberOT ~ c(ServiceType) + c(District) + as.factor(Month) +as.factor(weekday), family=posnegbinomial(), data=datosb)\n",
    "\n",
    "                #making plots of residuals vs fitted values an linear predictors mu, size\n",
    "                plot(m1)\n",
    "\n",
    "                #saving the main outputs related with the model\n",
    "                sm1=summary(m1)\n",
    "                \n",
    "                sink(\"lm.txt\")\n",
    "                print(summary(m1))\n",
    "                sink() \n",
    "               \n",
    "                m2 <- vglm(NumberOT ~ ServiceType + District + as.factor(Month) +as.factor(weekday), family = pospoisson(), data = datosb)\n",
    "                #saving the main outputs related with the model\n",
    "                sm2=summary(m2)\n",
    "                \n",
    "                logmunb<-sm1@coefficients[1]\n",
    "                logsize<-sm1@coefficients[2]\n",
    "                munb<-exp(logmunb)\n",
    "                size<-exp(logsize)\n",
    "\n",
    "                #adding a the predicted round counts\n",
    "                datosb$predicted<-data.frame(fitted(m1))\n",
    "                datosb$predict_round<- round(datosb$predicted,0)\n",
    "                #adding probablities of 1, 2, 3 or more than three failures\n",
    "                datosb$prob1<-dposnegbin(1, munb = datosb$predicted, size = size)\n",
    "                datosb$prob2<-dposnegbin(2, munb = datosb$predicted, size = size)\n",
    "                datosb$prob3<-dposnegbin(3, munb = datosb$predicted, size = size)\n",
    "                datosb$prob4<-dposnegbin(4, munb = datosb$predicted, size = size)\n",
    "                datosb$prob_may_3<-1-(datosb$prob1+datosb$prob2+datosb$prob3)\n",
    "                ##I have doubts about the size...\n",
    "                #adding a the difference between predicted round counts and original counts\n",
    "                datosb$dif_pred<-datosb$NumberOT - datosb$predict_round\n",
    "                datosb$residuals<-data.frame(resid=resid(m1)[,1])\n",
    "                ###filtering strange data\n",
    "                datosb1<-datosb[abs(residuals)<6,]\n",
    "                \n",
    "                m1b<-vglm(NumberOT ~ c(ServiceType) + c(District) + as.factor(Month) +as.factor(weekday), family=posnegbinomial(), data=datosb1)\n",
    "                plot(m1b)\n",
    "\n",
    "                logmunb<-sm1@coefficients[1]\n",
    "                logsize<-sm1@coefficients[2]\n",
    "                munb<-exp(logmunb)\n",
    "                size<-exp(logsize)\n",
    "\n",
    "                #adding a the predicted round counts\n",
    "                datosb1$predicted<-data.frame(fitted(m1b))\n",
    "                datosb1$predict_round<- round(datosb$predicted,0)\n",
    "                #adding probablities of 1, 2, 3 or more than three failures\n",
    "                datosb1$prob1<-dposnegbin(1, munb = datosb$predicted, size = size)\n",
    "                datosb1$prob2<-dposnegbin(2, munb = datosb$predicted, size = size)\n",
    "                datosb1$prob3<-dposnegbin(3, munb = datosb$predicted, size = size)\n",
    "                datosb1$prob4<-dposnegbin(4, munb = datosb$predicted, size = size)\n",
    "                datosb1$prob_may_3<-1-(datosb$prob1+datosb$prob2+datosb$prob3)\n",
    "                \n",
    "                #input data for plots\n",
    "                output<-data.frame(resid=resid(m1b)[,1], fitted=fitted(m1b))\n",
    "                #plot fitted vs resid\n",
    "                ggplot(output, aes(fitted,resid))+geom_jitter(position=position_jitter(width=0.25),\n",
    "                                                              alpha=0.5) + stat_smooth(method=\"loess\")\n",
    "\n",
    "                #plot of fited vs resid with quantiles \n",
    "                ggplot(output, aes(fitted,resid))+geom_jitter(position=position_jitter(width=0.25),\n",
    "                                                              alpha=0.5) + stat_quantile(method=\"rq\")\n",
    "                #Data for fitted vs resid, sign bins of fitted\n",
    "                output <- within(output, {\n",
    "                  broken <- cut(fitted, hist(fitted, plot=FALSE)$breaks)\n",
    "                })\n",
    "\n",
    "                ggplot(output, aes(broken, resid))+\n",
    "                  geom_boxplot()+\n",
    "                  geom_jitter(alpha=0.25)\n",
    "\n",
    "                ###reviewing for need of overdispersion parameter\n",
    "                (dLL<- 2*(logLik(m1)-logLik(m2)))\n",
    "\n",
    "                #comparing models to determine the need of overdispersion parameter\n",
    "                pchisq(dLL,df=1, lower.tail=FALSE)\n",
    "                '''\n",
    "variable1 = conn.eval(test_r_script1)\n",
    "\n",
    "print (variable2)\n",
    "\n",
    "conn.shutdown()"
   ]
  },
  {
   "cell_type": "code",
   "execution_count": null,
   "metadata": {},
   "outputs": [],
   "source": [
    "test_r_script3 = '''\n",
    "                ###plots of resulting probabilities of one failure by covariates\n",
    "                    ggplot(datosb, aes(as.factor(Month), prob1, fill=District))+\n",
    "                      geom_boxplot()+\n",
    "                      xlab(\"Month\")+\n",
    "                      ylab(\"Probability of one failure\")+\n",
    "                      scale_fill_discrete(name = \"District\", labels = c(\"Apartadó TyD\", \"Turbo TyD\"))\n",
    "\n",
    "\n",
    "                    ggplot(datosb, aes(as.factor(Month), prob1, fill=ServiceType))+\n",
    "                      geom_boxplot()+\n",
    "                      xlab(\"Month\")+\n",
    "                      ylab(\"Probability of one failure\")+\n",
    "                      scale_fill_discrete(name = \"Service type\", labels = c(\"Energy damages\", \"Energy maintenance\"))\n",
    "\n",
    "                    ###plots of resulting probabilities of two failures by covariates\n",
    "\n",
    "                    ggplot(datosb, aes(as.factor(Month), prob2, fill=District))+\n",
    "                      geom_boxplot()+\n",
    "                      xlab(\"Month\")+\n",
    "                      ylab(\"Probability of two failures\")+\n",
    "                      scale_fill_discrete(name = \"District\", labels = c(\"Apartadó TyD\", \"Turbo TyD\"))\n",
    "\n",
    "\n",
    "                    ggplot(datosb, aes(as.factor(Month), prob2, fill=ServiceType))+\n",
    "                      geom_boxplot()+\n",
    "                      xlab(\"Month\")+\n",
    "                      ylab(\"Probability of two failures\")+\n",
    "                      scale_fill_discrete(name = \"Service type\", labels = c(\"Energy damages\", \"Energy maintenance\"))\n",
    "\n",
    "                    ###plots of resulting probabilities of 3 failures by covariates\n",
    "                    ggplot(datosb, aes(as.factor(Month), prob3, fill=District))+\n",
    "                      geom_boxplot()+\n",
    "                      xlab(\"Month\")+\n",
    "                      ylab(\"Probability of three failures\")+\n",
    "                      scale_fill_discrete(name = \"District\", labels = c(\"Apartadó TyD\", \"Turbo TyD\"))\n",
    "\n",
    "\n",
    "                    ggplot(datosb, aes(as.factor(Month), prob3, fill=ServiceType))+\n",
    "                      geom_boxplot()+\n",
    "                      xlab(\"Month\")+\n",
    "                      ylab(\"Probability of three failures\")+\n",
    "                      scale_fill_discrete(name = \"Service type\", labels = c(\"Energy damages\", \"Energy maintenance\"))\n",
    "\n",
    "                    ###plots of resulting probabilities of more than 3 failures by covariates\n",
    "                    ggplot(datosb, aes(as.factor(Month), prob_may_3, fill=District))+\n",
    "                      geom_boxplot()+\n",
    "                      xlab(\"Month\")+\n",
    "                      ylab(\"Probability of more than three failures\")+\n",
    "                      scale_fill_discrete(name = \"District\", labels = c(\"Apartadó TyD\", \"Turbo TyD\"))\n",
    "\n",
    "\n",
    "                    ggplot(datosb, aes(as.factor(Month), prob_may_3, fill=ServiceType))+\n",
    "                      geom_boxplot()+\n",
    "                      xlab(\"Month\")+\n",
    "                      ylab(\"Probability of more than three failures\")+\n",
    "                      scale_fill_discrete(name = \"Service type\", labels = c(\"Energy damages\", \"Energy maintenance\"))\n",
    "\n",
    "                    #testing the model with train and test data sets\n",
    "                    train <- read.csv(\"~/Repo/ds4a-team75/train.csv\")\n",
    "                    datos<-as.data.table(train)\n",
    "\n",
    "                    test <- read.csv(\"~/Repo/ds4a-team75/test.csv\")\n",
    "                    test<-as.data.table(test)\n",
    "\n",
    "                    m1_train<-vglm(NumberOT ~ C(ServiceType) + C(District) + as.factor(Month), family=posnegbinomial(), data=train)\n",
    "                    sm1_train=summary(m1_train)\n",
    "\n",
    "                    predict(m1_train, newdata = test)\n",
    "\n",
    "                    ###printig data to plot in maps\n",
    "                    write.csv(datosb1,\"map_data.csv\")\n",
    "\n",
    "                '''\n",
    "variable3 = conn.eval(test_r_script3)\n",
    "\n",
    "print (variable3)"
   ]
  }
 ],
 "metadata": {
  "kernelspec": {
   "display_name": "Python 3",
   "language": "python",
   "name": "python3"
  },
  "language_info": {
   "codemirror_mode": {
    "name": "ipython",
    "version": 3
   },
   "file_extension": ".py",
   "mimetype": "text/x-python",
   "name": "python",
   "nbconvert_exporter": "python",
   "pygments_lexer": "ipython3",
   "version": "3.8.3"
  }
 },
 "nbformat": 4,
 "nbformat_minor": 4
}
