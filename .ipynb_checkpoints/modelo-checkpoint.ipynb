{
 "cells": [
  {
   "cell_type": "code",
   "execution_count": 328,
   "metadata": {},
   "outputs": [],
   "source": [
    "import pandas as pd\n",
    "import numpy as np\n",
    "import matplotlib.pyplot as plt\n",
    "import seaborn as sns\n",
    "import glob"
   ]
  },
  {
   "cell_type": "code",
   "execution_count": 329,
   "metadata": {},
   "outputs": [],
   "source": [
    "#importando datos de fallas\n",
    "dff=df = pd.read_excel('EPM_datos_Uraba\\Original_Data\\Reporte Uraba2019_CAGMV1Est.xlsx', sheet_name='BD-Filtrada')\n",
    "dff[\"town\"]=dff[\"town\"].str.upper()"
   ]
  },
  {
   "cell_type": "code",
   "execution_count": 688,
   "metadata": {
    "scrolled": true
   },
   "outputs": [
    {
     "data": {
      "text/plain": [
       "Index(['CallID', 'NumberOT', 'TaskNumber', 'Status', 'ServiceType', 'id',\n",
       "       'Eng_Type', 'RepairDate', 'FinalRepairDate', 'DuratioMin', 'TaskType',\n",
       "       'CompletionDate', 'OpenDate', 'EarlyStart', 'DueDate', 'DispatchDate',\n",
       "       'TravelDate', 'OnSiteDate', 'Region', 'District', 'TreeServiceGroup',\n",
       "       'ServiceGroup', 'BusinessLine', 'town', 'Latitude', 'Longitude',\n",
       "       'Priority', 'IncompleteReason', 'CrewGeneralComments', 'RepairCode',\n",
       "       'W6Key', 'IdEPM', 'LocationID', 'LocationDescription', 'Circuit'],\n",
       "      dtype='object')"
      ]
     },
     "execution_count": 688,
     "metadata": {},
     "output_type": "execute_result"
    }
   ],
   "source": [
    "dff.columns"
   ]
  },
  {
   "cell_type": "code",
   "execution_count": 690,
   "metadata": {},
   "outputs": [
    {
     "data": {
      "text/html": [
       "<div>\n",
       "<style scoped>\n",
       "    .dataframe tbody tr th:only-of-type {\n",
       "        vertical-align: middle;\n",
       "    }\n",
       "\n",
       "    .dataframe tbody tr th {\n",
       "        vertical-align: top;\n",
       "    }\n",
       "\n",
       "    .dataframe thead th {\n",
       "        text-align: right;\n",
       "    }\n",
       "</style>\n",
       "<table border=\"1\" class=\"dataframe\">\n",
       "  <thead>\n",
       "    <tr style=\"text-align: right;\">\n",
       "      <th></th>\n",
       "      <th>CallID</th>\n",
       "      <th>NumberOT</th>\n",
       "      <th>TaskNumber</th>\n",
       "      <th>Status</th>\n",
       "      <th>ServiceType</th>\n",
       "      <th>id</th>\n",
       "      <th>Eng_Type</th>\n",
       "      <th>RepairDate</th>\n",
       "      <th>FinalRepairDate</th>\n",
       "      <th>DuratioMin</th>\n",
       "      <th>...</th>\n",
       "      <th>Longitude</th>\n",
       "      <th>Priority</th>\n",
       "      <th>IncompleteReason</th>\n",
       "      <th>CrewGeneralComments</th>\n",
       "      <th>RepairCode</th>\n",
       "      <th>W6Key</th>\n",
       "      <th>IdEPM</th>\n",
       "      <th>LocationID</th>\n",
       "      <th>LocationDescription</th>\n",
       "      <th>Circuit</th>\n",
       "    </tr>\n",
       "  </thead>\n",
       "  <tbody>\n",
       "    <tr>\n",
       "      <th>0</th>\n",
       "      <td>M_EPM_EN_3974557</td>\n",
       "      <td>3294596</td>\n",
       "      <td>1</td>\n",
       "      <td>Realizada</td>\n",
       "      <td>Daños Energía</td>\n",
       "      <td>E_D0239</td>\n",
       "      <td>CU-TyD-Moto_MttoDaños_X1</td>\n",
       "      <td>2019-12-31 19:24:00</td>\n",
       "      <td>2019-12-31 19:30:00</td>\n",
       "      <td>30</td>\n",
       "      <td>...</td>\n",
       "      <td>-76809294</td>\n",
       "      <td>1</td>\n",
       "      <td>NaN</td>\n",
       "      <td>Se realizo reposición de fusible en el fr 4159...</td>\n",
       "      <td>CAMBIAR O INSTALAR FUSIBLE AISLADERO RAMAL - R...</td>\n",
       "      <td>1527996425</td>\n",
       "      <td>1460157</td>\n",
       "      <td>FR4159</td>\n",
       "      <td>Aisladero</td>\n",
       "      <td>405-13</td>\n",
       "    </tr>\n",
       "    <tr>\n",
       "      <th>1</th>\n",
       "      <td>M_EPM_EN_3974642</td>\n",
       "      <td>3294347</td>\n",
       "      <td>1</td>\n",
       "      <td>Realizada</td>\n",
       "      <td>Daños Energía</td>\n",
       "      <td>E_D0264</td>\n",
       "      <td>CU-TyD-Moto_MttoDaños_X1</td>\n",
       "      <td>2019-12-31 17:59:00</td>\n",
       "      <td>2019-12-31 18:23:00</td>\n",
       "      <td>30</td>\n",
       "      <td>...</td>\n",
       "      <td>-76732551</td>\n",
       "      <td>4</td>\n",
       "      <td>NaN</td>\n",
       "      <td>Se llega a el cirio y se encuentra que el daño...</td>\n",
       "      <td>REVISIÓN POR CALIDAD DEL SERVICIO</td>\n",
       "      <td>1527808009</td>\n",
       "      <td>1459416</td>\n",
       "      <td>402-11</td>\n",
       "      <td>Salida Circuito</td>\n",
       "      <td>402-11</td>\n",
       "    </tr>\n",
       "    <tr>\n",
       "      <th>2</th>\n",
       "      <td>M_EPM_EN_3974707</td>\n",
       "      <td>3294568</td>\n",
       "      <td>2</td>\n",
       "      <td>Realizada</td>\n",
       "      <td>Daños Energía</td>\n",
       "      <td>E_D0223</td>\n",
       "      <td>CU-TyD-Moto_MttoDaños_X1</td>\n",
       "      <td>2019-12-31 17:57:00</td>\n",
       "      <td>2019-12-31 17:59:00</td>\n",
       "      <td>30</td>\n",
       "      <td>...</td>\n",
       "      <td>-76598210</td>\n",
       "      <td>4</td>\n",
       "      <td>NaN</td>\n",
       "      <td>Se realizó inspección encontrándose poste a pu...</td>\n",
       "      <td>CAMBIAR/ASEGURAR POSTE PRIMARIO - Ramales</td>\n",
       "      <td>1527955467</td>\n",
       "      <td>1460101</td>\n",
       "      <td>489023</td>\n",
       "      <td>Transformador</td>\n",
       "      <td>415-12</td>\n",
       "    </tr>\n",
       "    <tr>\n",
       "      <th>3</th>\n",
       "      <td>MX_EPM_0133_DE_2037523</td>\n",
       "      <td>2037523</td>\n",
       "      <td>1</td>\n",
       "      <td>Realizada</td>\n",
       "      <td>Mto. Ener. Actividades Forestales</td>\n",
       "      <td>E_MP219</td>\n",
       "      <td>CU-TyD-Moto_Poda_X2</td>\n",
       "      <td>NaT</td>\n",
       "      <td>NaT</td>\n",
       "      <td>600</td>\n",
       "      <td>...</td>\n",
       "      <td>-76646490</td>\n",
       "      <td>7</td>\n",
       "      <td>NaN</td>\n",
       "      <td>corregimiento pueblo nuevo \\nvereda  comarca  ...</td>\n",
       "      <td>NaN</td>\n",
       "      <td>1517256747</td>\n",
       "      <td>1419179</td>\n",
       "      <td>R1269</td>\n",
       "      <td>CIRCUITO 415-12 SEGMENTO R1269</td>\n",
       "      <td>NaN</td>\n",
       "    </tr>\n",
       "    <tr>\n",
       "      <th>4</th>\n",
       "      <td>M_EPM_EN_3974852</td>\n",
       "      <td>3294520</td>\n",
       "      <td>1</td>\n",
       "      <td>Realizada</td>\n",
       "      <td>Daños Energía</td>\n",
       "      <td>E_D0270</td>\n",
       "      <td>CU-TyD-Moto_MttoDaños_X1</td>\n",
       "      <td>2019-12-31 16:52:00</td>\n",
       "      <td>2019-12-31 17:07:00</td>\n",
       "      <td>30</td>\n",
       "      <td>...</td>\n",
       "      <td>-76304074</td>\n",
       "      <td>1</td>\n",
       "      <td>NaN</td>\n",
       "      <td>Se repuso 1 fusible de 6T al F47910 el servici...</td>\n",
       "      <td>CAMBIAR O INSTALAR FUSIBLE AISLADERO RAMAL - R...</td>\n",
       "      <td>1527922700</td>\n",
       "      <td>1460058</td>\n",
       "      <td>478088</td>\n",
       "      <td>Transformador</td>\n",
       "      <td>407-12</td>\n",
       "    </tr>\n",
       "  </tbody>\n",
       "</table>\n",
       "<p>5 rows × 35 columns</p>\n",
       "</div>"
      ],
      "text/plain": [
       "                   CallID  NumberOT  TaskNumber     Status  \\\n",
       "0        M_EPM_EN_3974557   3294596           1  Realizada   \n",
       "1        M_EPM_EN_3974642   3294347           1  Realizada   \n",
       "2        M_EPM_EN_3974707   3294568           2  Realizada   \n",
       "3  MX_EPM_0133_DE_2037523   2037523           1  Realizada   \n",
       "4        M_EPM_EN_3974852   3294520           1  Realizada   \n",
       "\n",
       "                         ServiceType       id                  Eng_Type  \\\n",
       "0                      Daños Energía  E_D0239  CU-TyD-Moto_MttoDaños_X1   \n",
       "1                      Daños Energía  E_D0264  CU-TyD-Moto_MttoDaños_X1   \n",
       "2                      Daños Energía  E_D0223  CU-TyD-Moto_MttoDaños_X1   \n",
       "3  Mto. Ener. Actividades Forestales  E_MP219       CU-TyD-Moto_Poda_X2   \n",
       "4                      Daños Energía  E_D0270  CU-TyD-Moto_MttoDaños_X1   \n",
       "\n",
       "           RepairDate     FinalRepairDate  DuratioMin  ... Longitude Priority  \\\n",
       "0 2019-12-31 19:24:00 2019-12-31 19:30:00          30  ... -76809294        1   \n",
       "1 2019-12-31 17:59:00 2019-12-31 18:23:00          30  ... -76732551        4   \n",
       "2 2019-12-31 17:57:00 2019-12-31 17:59:00          30  ... -76598210        4   \n",
       "3                 NaT                 NaT         600  ... -76646490        7   \n",
       "4 2019-12-31 16:52:00 2019-12-31 17:07:00          30  ... -76304074        1   \n",
       "\n",
       "  IncompleteReason                                CrewGeneralComments  \\\n",
       "0              NaN  Se realizo reposición de fusible en el fr 4159...   \n",
       "1              NaN  Se llega a el cirio y se encuentra que el daño...   \n",
       "2              NaN  Se realizó inspección encontrándose poste a pu...   \n",
       "3              NaN  corregimiento pueblo nuevo \\nvereda  comarca  ...   \n",
       "4              NaN  Se repuso 1 fusible de 6T al F47910 el servici...   \n",
       "\n",
       "                                          RepairCode       W6Key    IdEPM  \\\n",
       "0  CAMBIAR O INSTALAR FUSIBLE AISLADERO RAMAL - R...  1527996425  1460157   \n",
       "1                  REVISIÓN POR CALIDAD DEL SERVICIO  1527808009  1459416   \n",
       "2          CAMBIAR/ASEGURAR POSTE PRIMARIO - Ramales  1527955467  1460101   \n",
       "3                                                NaN  1517256747  1419179   \n",
       "4  CAMBIAR O INSTALAR FUSIBLE AISLADERO RAMAL - R...  1527922700  1460058   \n",
       "\n",
       "  LocationID             LocationDescription Circuit  \n",
       "0     FR4159                       Aisladero  405-13  \n",
       "1     402-11                 Salida Circuito  402-11  \n",
       "2     489023                   Transformador  415-12  \n",
       "3      R1269  CIRCUITO 415-12 SEGMENTO R1269     NaN  \n",
       "4     478088                   Transformador  407-12  \n",
       "\n",
       "[5 rows x 35 columns]"
      ]
     },
     "execution_count": 690,
     "metadata": {},
     "output_type": "execute_result"
    }
   ],
   "source": [
    "dff.head()"
   ]
  },
  {
   "cell_type": "code",
   "execution_count": 330,
   "metadata": {},
   "outputs": [],
   "source": [
    "#importando datos de clima\n",
    "\n",
    "precip_path=\"EPM_datos_Uraba/weather data/precipitacion/\"\n",
    "dfw_precip = pd.DataFrame()\n",
    "for file_name in glob.glob(precip_path+'*.csv'):\n",
    "    x = pd.read_csv(file_name, low_memory=False)\n",
    "    dfw_precip = pd.concat([dfw_precip,x],axis=0)\n",
    "    \n",
    "hum_path=\"EPM_datos_Uraba/weather data/hum/\"\n",
    "dfw_hum = pd.DataFrame()\n",
    "for file_name in glob.glob(hum_path+'*.csv'):\n",
    "    x = pd.read_csv(file_name, low_memory=False)\n",
    "    dfw_hum = pd.concat([dfw_hum,x],axis=0)\n",
    "    \n",
    "#hum_path=\"EPM_datos_Uraba\\weather data\\hum\\\"\"\n",
    "#dfw_precip = pd.DataFrame()\n",
    "#for file_name in glob.glob(hum_path+'*.csv'):\n",
    "#    x = pd.read_csv(file_name, low_memory=False)\n",
    "#    glued_data = pd.concat([glued_data,x],axis=0)\n",
    "dfw_precip[\"Municipio\"]=dfw_precip[\"Municipio\"].str.upper()\n",
    "dfw_hum[\"Municipio\"]=dfw_hum[\"Municipio\"].str.upper()"
   ]
  },
  {
   "cell_type": "code",
   "execution_count": 331,
   "metadata": {},
   "outputs": [],
   "source": [
    "#importando los datos de infraestructura\n",
    "\n",
    "#transformadores\n",
    "\n",
    "dfi_t=df = pd.read_csv('EPM_datos_Uraba\\Original_Data\\TRANSFO_PT.csv')"
   ]
  },
  {
   "cell_type": "code",
   "execution_count": 332,
   "metadata": {},
   "outputs": [
    {
     "data": {
      "text/plain": [
       "array(['ANTIOQUIA', 'CHOCÓ'], dtype=object)"
      ]
     },
     "execution_count": 332,
     "metadata": {},
     "output_type": "execute_result"
    }
   ],
   "source": [
    "#importando divipola\n",
    "\n",
    "divipola= pd.read_excel('EPM_datos_Uraba\\municipios\\Listados_DIVIPOLA.xlsx', sheet_name='municipio')\n",
    "divipola= divipola[divipola[\"Nombre_depto\"].isin([\"ANTIOQUIA\",\"CHOCÓ\"])]\n",
    "divipola[\"Nombre_depto\"].unique()"
   ]
  },
  {
   "cell_type": "code",
   "execution_count": 6,
   "metadata": {},
   "outputs": [],
   "source": [
    "#itenditificando las variables que identifican el municipio\n",
    "#dff.town #nombre minúscula\n",
    "#dfw_precip.Municipio #nombre\n",
    "#dfi_t.MUNICIPIO_ #código 4 dígitos\n",
    "#divipola.Nombre_municipio # nombre mayúscula\n",
    "#divipola.Código_municipio # código 4 dígitos"
   ]
  },
  {
   "cell_type": "code",
   "execution_count": 333,
   "metadata": {},
   "outputs": [],
   "source": [
    "#incluyendo el nombre del municipio en la base de insfraestructura\n",
    "\n",
    "dfi_tm=dfi_t.merge(divipola[[\"Código_municipio\",\"Nombre_municipio\", \"Nombre_depto\", \"Código_depto \"]], left_on=\"MUNICIPIO_\", right_on=\"Código_municipio\", how=\"left\")"
   ]
  },
  {
   "cell_type": "code",
   "execution_count": 334,
   "metadata": {},
   "outputs": [],
   "source": [
    "#incluyendo el código del municipio en la base de fallas\n",
    "dff_m=dff.merge(divipola[[\"Código_municipio\",\"Nombre_municipio\", \"Nombre_depto\", \"Código_depto \"]], left_on=\"town\", right_on=\"Nombre_municipio\" , how=\"left\")\n",
    "\n"
   ]
  },
  {
   "cell_type": "code",
   "execution_count": 335,
   "metadata": {},
   "outputs": [],
   "source": [
    "#incluyendo el código del municipio en las bases de precipitacion y humedad\n",
    "\n",
    "dfw_precip=dfw_precip.merge(divipola[[\"Código_municipio\",\"Nombre_municipio\", \"Nombre_depto\", \"Código_depto \"]], left_on=\"Municipio\", right_on=\"Nombre_municipio\", how=\"left\")\n",
    "dfw_hum=dfw_hum.merge(divipola[[\"Código_municipio\",\"Nombre_municipio\", \"Nombre_depto\", \"Código_depto \"]], left_on=\"Municipio\", right_on=\"Nombre_municipio\", how=\"left\")"
   ]
  },
  {
   "cell_type": "code",
   "execution_count": 336,
   "metadata": {},
   "outputs": [
    {
     "name": "stdout",
     "output_type": "stream",
     "text": [
      "13503\n",
      "49494\n",
      "49494\n"
     ]
    }
   ],
   "source": [
    "print(len(dfi_tm))\n",
    "print(len(dff_m))\n",
    "print(len(dff))\n",
    "#hay algunos datos qde fallas que no podemos cruzar porque no está el municipio"
   ]
  },
  {
   "cell_type": "code",
   "execution_count": 337,
   "metadata": {},
   "outputs": [
    {
     "data": {
      "text/plain": [
       "array(['ANTIOQUIA', nan, 'CHOCÓ'], dtype=object)"
      ]
     },
     "execution_count": 337,
     "metadata": {},
     "output_type": "execute_result"
    }
   ],
   "source": [
    "dff_m.Nombre_depto.unique()"
   ]
  },
  {
   "cell_type": "code",
   "execution_count": 338,
   "metadata": {},
   "outputs": [
    {
     "data": {
      "text/plain": [
       "array(['ANTIOQUIA', 'CHOCÓ'], dtype=object)"
      ]
     },
     "execution_count": 338,
     "metadata": {},
     "output_type": "execute_result"
    }
   ],
   "source": [
    "dfi_tm.Nombre_depto.unique()"
   ]
  },
  {
   "cell_type": "code",
   "execution_count": 339,
   "metadata": {},
   "outputs": [
    {
     "data": {
      "text/plain": [
       "array(['ANTIOQUIA', nan, 'CHOCÓ'], dtype=object)"
      ]
     },
     "execution_count": 339,
     "metadata": {},
     "output_type": "execute_result"
    }
   ],
   "source": [
    "dfw_precip.Nombre_depto.unique()"
   ]
  },
  {
   "cell_type": "code",
   "execution_count": 340,
   "metadata": {
    "scrolled": true
   },
   "outputs": [
    {
     "data": {
      "text/plain": [
       "array(['ANTIOQUIA', nan, 'CHOCÓ'], dtype=object)"
      ]
     },
     "execution_count": 340,
     "metadata": {},
     "output_type": "execute_result"
    }
   ],
   "source": [
    "dfw_hum.Nombre_depto.unique()"
   ]
  },
  {
   "cell_type": "code",
   "execution_count": 341,
   "metadata": {},
   "outputs": [],
   "source": [
    "#adding a dummy variable indicating if there was a failure\n",
    "dff_m[\"fail\"]=1"
   ]
  },
  {
   "cell_type": "code",
   "execution_count": 718,
   "metadata": {},
   "outputs": [
    {
     "name": "stdout",
     "output_type": "stream",
     "text": [
      "30644\n"
     ]
    }
   ],
   "source": [
    "#fails_circuit_by_day_loca=pd.DataFrame(pd.unique(dff_m[[\"NumberOT\",\"Circuit\",\"OpenDate\",\"fail\"]].values.ravel()))\n",
    "#fails_circuit_by_day_loca.head()\n",
    "\n",
    "distinct_df = dff_m[ [\"NumberOT\",\"Circuit\",\"OpenDate\",\"Nombre_municipio\",\"District\", \"ServiceType\",\"fail\"] ].groupby([\"NumberOT\",\"Circuit\",\"OpenDate\",\"fail\", \"Nombre_municipio\", \"District\", \"ServiceType\"]).first().reset_index()\n",
    "distinct_df.head()\n",
    "print(len(distinct_df))\n"
   ]
  },
  {
   "cell_type": "code",
   "execution_count": 719,
   "metadata": {
    "scrolled": true
   },
   "outputs": [
    {
     "name": "stdout",
     "output_type": "stream",
     "text": [
      "(30644, 7)\n",
      "(49494, 40)\n"
     ]
    }
   ],
   "source": [
    "print(distinct_df.shape)\n",
    "print(dff_m.shape)"
   ]
  },
  {
   "cell_type": "code",
   "execution_count": 720,
   "metadata": {},
   "outputs": [
    {
     "name": "stdout",
     "output_type": "stream",
     "text": [
      "(70, 1)\n"
     ]
    }
   ],
   "source": [
    "#creating false failures to complement no failures\n",
    "\n",
    "#list of unique cicuits\n",
    "#circuits_f=pd.DataFrame(pd.unique(dff_m[\"Circuit\"]))\n",
    "#print(circuits_f.shape)\n",
    "\n",
    "\n",
    "circuits_i=pd.DataFrame(pd.unique(dfi_tm[\"CIRCUITO\"]))\n",
    "print(circuits_i.shape)\n"
   ]
  },
  {
   "cell_type": "code",
   "execution_count": 721,
   "metadata": {},
   "outputs": [],
   "source": [
    "#Probando regresión Poisson\n",
    "from patsy import dmatrices\n",
    "import statsmodels.api as sm"
   ]
  },
  {
   "cell_type": "code",
   "execution_count": 722,
   "metadata": {},
   "outputs": [
    {
     "name": "stdout",
     "output_type": "stream",
     "text": [
      "<class 'pandas.core.frame.DataFrame'>\n",
      "RangeIndex: 30644 entries, 0 to 30643\n",
      "Data columns (total 11 columns):\n",
      " #   Column            Non-Null Count  Dtype         \n",
      "---  ------            --------------  -----         \n",
      " 0   NumberOT          30644 non-null  int64         \n",
      " 1   Circuit           30644 non-null  object        \n",
      " 2   OpenDate          30644 non-null  datetime64[ns]\n",
      " 3   fail              30644 non-null  int64         \n",
      " 4   Nombre_municipio  30644 non-null  object        \n",
      " 5   District          30644 non-null  object        \n",
      " 6   ServiceType       30644 non-null  object        \n",
      " 7   Date              30644 non-null  object        \n",
      " 8   day               30644 non-null  int64         \n",
      " 9   Month             30644 non-null  int64         \n",
      " 10  year              30644 non-null  int64         \n",
      "dtypes: datetime64[ns](1), int64(5), object(5)\n",
      "memory usage: 2.6+ MB\n"
     ]
    }
   ],
   "source": [
    "pd.to_datetime(distinct_df['OpenDate'], format='%Y-%m-%d %H %M %S')\n",
    "distinct_df['Date']=distinct_df['OpenDate'].dt.date\n",
    "distinct_df['day']=distinct_df['OpenDate'].dt.day\n",
    "distinct_df['Month']=distinct_df['OpenDate'].dt.month\n",
    "distinct_df['year']=distinct_df['OpenDate'].dt.year\n",
    "distinct_df.columns\n",
    "distinct_df.info()\n"
   ]
  },
  {
   "cell_type": "code",
   "execution_count": 723,
   "metadata": {},
   "outputs": [
    {
     "name": "stdout",
     "output_type": "stream",
     "text": [
      "<class 'pandas.core.frame.DataFrame'>\n",
      "Int64Index: 1053 entries, 0 to 1052\n",
      "Data columns (total 26 columns):\n",
      " #   Column            Non-Null Count  Dtype         \n",
      "---  ------            --------------  -----         \n",
      " 0   CodigoEstacion    1053 non-null   int64         \n",
      " 1   NombreEstacion    1053 non-null   object        \n",
      " 2   Latitud           1053 non-null   float64       \n",
      " 3   Longitud          1053 non-null   float64       \n",
      " 4   Altitud           1053 non-null   int64         \n",
      " 5   Categoria         1053 non-null   object        \n",
      " 6   Entidad           1053 non-null   object        \n",
      " 7   AreaOperativa     1053 non-null   object        \n",
      " 8   Departamento      1053 non-null   object        \n",
      " 9   Municipio         1053 non-null   object        \n",
      " 10  FechaInstalacion  1053 non-null   object        \n",
      " 11  FechaSuspension   0 non-null      float64       \n",
      " 12  IdParametro       1053 non-null   object        \n",
      " 13  Etiqueta          1053 non-null   object        \n",
      " 14  DescripcionSerie  1053 non-null   object        \n",
      " 15  Frecuencia        1053 non-null   object        \n",
      " 16  Fecha             1053 non-null   datetime64[ns]\n",
      " 17  Valor             1053 non-null   float64       \n",
      " 18  Grado             1053 non-null   int64         \n",
      " 19  Calificador       0 non-null      float64       \n",
      " 20  NivelAprobacion   1053 non-null   int64         \n",
      " 21  Código_municipio  709 non-null    float64       \n",
      " 22  Nombre_municipio  709 non-null    object        \n",
      " 23  Nombre_depto      709 non-null    object        \n",
      " 24  Código_depto      709 non-null    float64       \n",
      " 25  Date              1053 non-null   object        \n",
      "dtypes: datetime64[ns](1), float64(7), int64(4), object(14)\n",
      "memory usage: 222.1+ KB\n"
     ]
    }
   ],
   "source": [
    "dfw_hum.info()"
   ]
  },
  {
   "cell_type": "code",
   "execution_count": 724,
   "metadata": {
    "scrolled": true
   },
   "outputs": [
    {
     "data": {
      "text/html": [
       "<div>\n",
       "<style scoped>\n",
       "    .dataframe tbody tr th:only-of-type {\n",
       "        vertical-align: middle;\n",
       "    }\n",
       "\n",
       "    .dataframe tbody tr th {\n",
       "        vertical-align: top;\n",
       "    }\n",
       "\n",
       "    .dataframe thead th {\n",
       "        text-align: right;\n",
       "    }\n",
       "</style>\n",
       "<table border=\"1\" class=\"dataframe\">\n",
       "  <thead>\n",
       "    <tr style=\"text-align: right;\">\n",
       "      <th></th>\n",
       "      <th>NumberOT</th>\n",
       "      <th>Circuit</th>\n",
       "      <th>OpenDate</th>\n",
       "      <th>fail</th>\n",
       "      <th>Nombre_municipio</th>\n",
       "      <th>District</th>\n",
       "      <th>ServiceType</th>\n",
       "      <th>Date</th>\n",
       "      <th>day</th>\n",
       "      <th>Month</th>\n",
       "      <th>year</th>\n",
       "      <th>humedad_rel</th>\n",
       "      <th>precipitacion</th>\n",
       "    </tr>\n",
       "  </thead>\n",
       "  <tbody>\n",
       "    <tr>\n",
       "      <th>0</th>\n",
       "      <td>2831866</td>\n",
       "      <td>412-14</td>\n",
       "      <td>2018-08-30 17:32:28</td>\n",
       "      <td>1</td>\n",
       "      <td>CAREPA</td>\n",
       "      <td>Apartado TyD</td>\n",
       "      <td>Mantenimiento Energía</td>\n",
       "      <td>2018-08-30</td>\n",
       "      <td>30</td>\n",
       "      <td>8</td>\n",
       "      <td>2018</td>\n",
       "      <td>NaN</td>\n",
       "      <td>NaN</td>\n",
       "    </tr>\n",
       "    <tr>\n",
       "      <th>1</th>\n",
       "      <td>2929866</td>\n",
       "      <td>406-11</td>\n",
       "      <td>2018-12-07 09:48:58</td>\n",
       "      <td>1</td>\n",
       "      <td>TURBO</td>\n",
       "      <td>Turbo TyD</td>\n",
       "      <td>Mantenimiento Energía</td>\n",
       "      <td>2018-12-07</td>\n",
       "      <td>7</td>\n",
       "      <td>12</td>\n",
       "      <td>2018</td>\n",
       "      <td>NaN</td>\n",
       "      <td>NaN</td>\n",
       "    </tr>\n",
       "    <tr>\n",
       "      <th>2</th>\n",
       "      <td>2934398</td>\n",
       "      <td>415-11</td>\n",
       "      <td>2018-12-13 07:37:00</td>\n",
       "      <td>1</td>\n",
       "      <td>NECOCLÍ</td>\n",
       "      <td>Turbo TyD</td>\n",
       "      <td>Mantenimiento Energía</td>\n",
       "      <td>2018-12-13</td>\n",
       "      <td>13</td>\n",
       "      <td>12</td>\n",
       "      <td>2018</td>\n",
       "      <td>NaN</td>\n",
       "      <td>NaN</td>\n",
       "    </tr>\n",
       "    <tr>\n",
       "      <th>3</th>\n",
       "      <td>2945255</td>\n",
       "      <td>407-12</td>\n",
       "      <td>2018-12-28 09:27:36</td>\n",
       "      <td>1</td>\n",
       "      <td>SAN PEDRO DE URABÁ</td>\n",
       "      <td>Turbo TyD</td>\n",
       "      <td>Mantenimiento Energía</td>\n",
       "      <td>2018-12-28</td>\n",
       "      <td>28</td>\n",
       "      <td>12</td>\n",
       "      <td>2018</td>\n",
       "      <td>NaN</td>\n",
       "      <td>NaN</td>\n",
       "    </tr>\n",
       "    <tr>\n",
       "      <th>4</th>\n",
       "      <td>2945565</td>\n",
       "      <td>415-13</td>\n",
       "      <td>2018-12-28 16:30:01</td>\n",
       "      <td>1</td>\n",
       "      <td>NECOCLÍ</td>\n",
       "      <td>Turbo TyD</td>\n",
       "      <td>Mantenimiento Energía</td>\n",
       "      <td>2018-12-28</td>\n",
       "      <td>28</td>\n",
       "      <td>12</td>\n",
       "      <td>2018</td>\n",
       "      <td>NaN</td>\n",
       "      <td>NaN</td>\n",
       "    </tr>\n",
       "  </tbody>\n",
       "</table>\n",
       "</div>"
      ],
      "text/plain": [
       "   NumberOT Circuit            OpenDate  fail    Nombre_municipio  \\\n",
       "0   2831866  412-14 2018-08-30 17:32:28     1              CAREPA   \n",
       "1   2929866  406-11 2018-12-07 09:48:58     1               TURBO   \n",
       "2   2934398  415-11 2018-12-13 07:37:00     1             NECOCLÍ   \n",
       "3   2945255  407-12 2018-12-28 09:27:36     1  SAN PEDRO DE URABÁ   \n",
       "4   2945565  415-13 2018-12-28 16:30:01     1             NECOCLÍ   \n",
       "\n",
       "       District            ServiceType        Date  day  Month  year  \\\n",
       "0  Apartado TyD  Mantenimiento Energía  2018-08-30   30      8  2018   \n",
       "1     Turbo TyD  Mantenimiento Energía  2018-12-07    7     12  2018   \n",
       "2     Turbo TyD  Mantenimiento Energía  2018-12-13   13     12  2018   \n",
       "3     Turbo TyD  Mantenimiento Energía  2018-12-28   28     12  2018   \n",
       "4     Turbo TyD  Mantenimiento Energía  2018-12-28   28     12  2018   \n",
       "\n",
       "   humedad_rel  precipitacion  \n",
       "0          NaN            NaN  \n",
       "1          NaN            NaN  \n",
       "2          NaN            NaN  \n",
       "3          NaN            NaN  \n",
       "4          NaN            NaN  "
      ]
     },
     "execution_count": 724,
     "metadata": {},
     "output_type": "execute_result"
    }
   ],
   "source": [
    "#merging with weather data\n",
    "\n",
    "#distinct_df.merge(dfw_hum[[\"\",\"\",\"\"]])\n",
    "\n",
    "#pd.to_datetime(dfw_hum['Fecha'], format='%Y-%m-%d %H:%M')\n",
    "dfw_hum['Fecha']=dfw_hum['Fecha'].apply(pd.to_datetime, format='%Y-%m-%d %H:%M')\n",
    "dfw_hum['Date']=dfw_hum['Fecha'].dt.date\n",
    "#dfw_hum['day']=dfw_hum['Fecha'].dt.day\n",
    "#dfw_hum['Month']=dfw_hum['Fecha'].dt.month\n",
    "\n",
    "dfw_hum['Fecha']=dfw_hum['Fecha'].apply(pd.to_datetime, format='%Y-%m-%d %H:%M')\n",
    "dfw_hum['Date']=dfw_hum['Fecha'].dt.date\n",
    "\n",
    "dfw_precip['Fecha']=dfw_precip['Fecha'].apply(pd.to_datetime, format='%Y-%m-%d %H:%M')\n",
    "dfw_precip['Date']=dfw_precip['Fecha'].dt.date\n",
    "\n",
    "\n",
    "#####merging by date and municipio\n",
    "\n",
    "d=distinct_df.merge(dfw_hum[[\"Date\", \"Nombre_municipio\", \"Valor\"]], on=[\"Date\",\"Nombre_municipio\"], how='left')\n",
    "d.rename(columns={'Valor': 'humedad_rel'}, inplace=True)\n",
    "d=d.merge(dfw_precip[[\"Date\", \"Nombre_municipio\", \"Valor\"]], on=[\"Date\",\"Nombre_municipio\"], how='left')\n",
    "d.rename(columns={'Valor': 'precipitacion'}, inplace=True)\n",
    "distinct_dff=d\n",
    "distinct_dff.head()"
   ]
  },
  {
   "cell_type": "code",
   "execution_count": 725,
   "metadata": {
    "scrolled": false
   },
   "outputs": [
    {
     "name": "stdout",
     "output_type": "stream",
     "text": [
      "30664\n"
     ]
    }
   ],
   "source": [
    "print(len(distinct_dff))"
   ]
  },
  {
   "cell_type": "code",
   "execution_count": 854,
   "metadata": {},
   "outputs": [],
   "source": [
    "distinct_dff=distinct_dff[(distinct_dff[\"year\"]>2018)&(~distinct_dff[\"ServiceType\"].str.contains(\"Mantenimiento Subterránea\"))]"
   ]
  },
  {
   "cell_type": "code",
   "execution_count": 856,
   "metadata": {
    "scrolled": false
   },
   "outputs": [
    {
     "name": "stdout",
     "output_type": "stream",
     "text": [
      "10306\n",
      "41\n"
     ]
    }
   ],
   "source": [
    "a=distinct_dff[distinct_dff[\"precipitacion\"].isnull()]\n",
    "print(30643 - len(a))\n",
    "c=distinct_dff[distinct_dff[\"humedad_rel\"].isnull()]\n",
    "print(30643 - len(c))"
   ]
  },
  {
   "cell_type": "code",
   "execution_count": 857,
   "metadata": {},
   "outputs": [],
   "source": [
    "distinct_df1=distinct_dff[[\"NumberOT\", \"Circuit\", \"Nombre_municipio\", \"day\", \"Month\", \"District\", \"ServiceType\"]].groupby([ \"Circuit\", \"Nombre_municipio\", \"day\", \"Month\",\"District\", \"ServiceType\"]).count().reset_index()"
   ]
  },
  {
   "cell_type": "code",
   "execution_count": 858,
   "metadata": {
    "scrolled": true
   },
   "outputs": [
    {
     "name": "stdout",
     "output_type": "stream",
     "text": [
      "14128\n"
     ]
    }
   ],
   "source": [
    "print(len(distinct_df1))"
   ]
  },
  {
   "cell_type": "code",
   "execution_count": 859,
   "metadata": {},
   "outputs": [
    {
     "data": {
      "text/plain": [
       "62"
      ]
     },
     "execution_count": 859,
     "metadata": {},
     "output_type": "execute_result"
    }
   ],
   "source": [
    "len(distinct_df1[\"Circuit\"].unique())"
   ]
  },
  {
   "cell_type": "code",
   "execution_count": 875,
   "metadata": {},
   "outputs": [
    {
     "name": "stdout",
     "output_type": "stream",
     "text": [
      "Training data set length=11265\n",
      "Testing data set length=2863\n",
      "[]\n",
      "[]\n"
     ]
    }
   ],
   "source": [
    "distinct_df1.dropna()\n",
    "\n",
    "mask = np.random.rand(len(distinct_df1)) < 0.8\n",
    "df_train = distinct_df1[mask]\n",
    "df_test = distinct_df1[~mask]\n",
    "print('Training data set length='+str(len(df_train)))\n",
    "print('Testing data set length='+str(len(df_test)))\n",
    "\n",
    "expr = \"\"\"NumberOT ~ ServiceType + District\"\"\"\n",
    "\n",
    "y_train, X_train = dmatrices(expr, df_train, return_type='dataframe')\n",
    "y_test, X_test = dmatrices(expr, df_test, return_type='dataframe')\n",
    "\n",
    "xtr=list(X_train.columns)\n",
    "xt=list(X_test.columns)\n",
    "\n",
    "def setdiff_sorted(array1,array2,assume_unique=False):\n",
    "    ans = np.setdiff1d(array1,array2,assume_unique).tolist()\n",
    "    if assume_unique:\n",
    "        return sorted(ans)\n",
    "    return ans\n",
    "main_list = setdiff_sorted(xtr,xt)\n",
    "print(main_list)\n",
    "main_list_c = setdiff_sorted(xt,xtr)\n",
    "print(main_list_c)"
   ]
  },
  {
   "cell_type": "code",
   "execution_count": 876,
   "metadata": {
    "scrolled": false
   },
   "outputs": [
    {
     "name": "stdout",
     "output_type": "stream",
     "text": [
      "                 Generalized Linear Model Regression Results                  \n",
      "==============================================================================\n",
      "Dep. Variable:               NumberOT   No. Observations:                11265\n",
      "Model:                            GLM   Df Residuals:                    11262\n",
      "Model Family:                 Poisson   Df Model:                            2\n",
      "Link Function:                    log   Scale:                          1.0000\n",
      "Method:                          IRLS   Log-Likelihood:                -21054.\n",
      "Date:                Sat, 11 Jul 2020   Deviance:                       14203.\n",
      "Time:                        18:57:44   Pearson chi2:                 2.50e+04\n",
      "No. Iterations:                     5                                         \n",
      "Covariance Type:            nonrobust                                         \n",
      "========================================================================================================\n",
      "                                           coef    std err          z      P>|z|      [0.025      0.975]\n",
      "--------------------------------------------------------------------------------------------------------\n",
      "Intercept                                0.6868      0.011     64.738      0.000       0.666       0.708\n",
      "ServiceType[T.Mantenimiento Energía]    -0.0593      0.015     -3.924      0.000      -0.089      -0.030\n",
      "District[T.Turbo TyD]                    0.1711      0.013     12.949      0.000       0.145       0.197\n",
      "========================================================================================================\n"
     ]
    }
   ],
   "source": [
    "poisson_training_results = sm.GLM(y_train, X_train, family=sm.families.Poisson()).fit()\n",
    "print(poisson_training_results.summary())\n"
   ]
  },
  {
   "cell_type": "code",
   "execution_count": 877,
   "metadata": {
    "scrolled": false
   },
   "outputs": [
    {
     "name": "stdout",
     "output_type": "stream",
     "text": [
      "           mean   mean_se  mean_ci_lower  mean_ci_upper\n",
      "5      1.987410  0.021085       1.946510       2.029168\n",
      "12     1.872996  0.030177       1.814774       1.933086\n",
      "15     1.872996  0.030177       1.814774       1.933086\n",
      "18     1.987410  0.021085       1.946510       2.029168\n",
      "21     1.872996  0.030177       1.814774       1.933086\n",
      "...         ...       ...            ...            ...\n",
      "14116  2.358286  0.021687       2.316160       2.401178\n",
      "14119  2.358286  0.021687       2.316160       2.401178\n",
      "14125  2.222522  0.030326       2.163871       2.282762\n",
      "14126  2.358286  0.021687       2.316160       2.401178\n",
      "14127  2.358286  0.021687       2.316160       2.401178\n",
      "\n",
      "[2863 rows x 4 columns]\n"
     ]
    }
   ],
   "source": [
    "poisson_predictions = poisson_training_results.get_prediction(X_test)\n",
    "#.summary_frame() returns a pandas DataFrame\n",
    "predictions_summary_frame = poisson_predictions.summary_frame()\n",
    "print(predictions_summary_frame)\n",
    "############revisar los datos para eliminar los NaN y eliminarlos."
   ]
  },
  {
   "cell_type": "code",
   "execution_count": 887,
   "metadata": {},
   "outputs": [
    {
     "data": {
      "text/plain": [
       "<statsmodels.genmod._prediction.PredictionResults at 0x2c0ba5864c0>"
      ]
     },
     "execution_count": 887,
     "metadata": {},
     "output_type": "execute_result"
    }
   ],
   "source": [
    "poisson_predictions"
   ]
  },
  {
   "cell_type": "code",
   "execution_count": 878,
   "metadata": {
    "scrolled": true
   },
   "outputs": [
    {
     "data": {
      "text/plain": [
       "<Figure size 432x288 with 0 Axes>"
      ]
     },
     "metadata": {},
     "output_type": "display_data"
    },
    {
     "data": {
      "image/png": "[encoded data removed]",
      "text/plain": [
       "<Figure size 432x288 with 1 Axes>"
      ]
     },
     "metadata": {
      "needs_background": "light"
     },
     "output_type": "display_data"
    }
   ],
   "source": [
    "plt.clf()\n",
    "fig = plt.figure()\n",
    "fig.suptitle('Scatter plot of Actual versus Predicted counts')\n",
    "plt.scatter(x=predicted_counts, y=actual_counts, marker='.')\n",
    "plt.xlabel('Predicted counts')\n",
    "plt.ylabel('Actual counts')\n",
    "plt.show()"
   ]
  },
  {
   "cell_type": "code",
   "execution_count": 903,
   "metadata": {},
   "outputs": [
    {
     "name": "stdout",
     "output_type": "stream",
     "text": [
      "Training data set length=3797\n",
      "Testing data set length=1031\n",
      "[]\n",
      "[]\n"
     ]
    }
   ],
   "source": [
    "distinct_df1=distinct_dff[[\"NumberOT\", \"Circuit\", \"Nombre_municipio\", \"day\", \"Month\", \"District\", \"ServiceType\",\"precipitacion\"]].groupby([ \"Circuit\", \"Nombre_municipio\", \"day\", \"Month\",\"District\", \"ServiceType\", \"precipitacion\"]).count().reset_index()\n",
    "\n",
    "distinct_df1.dropna()\n",
    "\n",
    "mask = np.random.rand(len(distinct_df1)) < 0.8\n",
    "df_train_w = distinct_df1[mask]\n",
    "df_test_w = distinct_df1[~mask]\n",
    "print('Training data set length='+str(len(df_train_w)))\n",
    "print('Testing data set length='+str(len(df_test_w)))\n",
    "\n",
    "expr = \"\"\"NumberOT ~ ServiceType + District + precipitacion \"\"\"\n",
    "\n",
    "y_train_w, X_train_w = dmatrices(expr, df_train_w, return_type='dataframe')\n",
    "y_test_w, X_test_w = dmatrices(expr, df_test_w, return_type='dataframe')\n",
    "\n",
    "xtr_w=list(X_train_w.columns)\n",
    "xt_w=list(X_test_w.columns)\n",
    "\n",
    "def setdiff_sorted(array1,array2,assume_unique=False):\n",
    "    ans = np.setdiff1d(array1,array2,assume_unique).tolist()\n",
    "    if assume_unique:\n",
    "        return sorted(ans)\n",
    "    return ans\n",
    "main_list = setdiff_sorted(xtr_w,xt_w)\n",
    "print(main_list)\n",
    "main_list_c = setdiff_sorted(xt_w,xtr_w)\n",
    "print(main_list_c)"
   ]
  },
  {
   "cell_type": "code",
   "execution_count": 904,
   "metadata": {},
   "outputs": [
    {
     "name": "stdout",
     "output_type": "stream",
     "text": [
      "                 Generalized Linear Model Regression Results                  \n",
      "==============================================================================\n",
      "Dep. Variable:               NumberOT   No. Observations:                 3797\n",
      "Model:                            GLM   Df Residuals:                     3793\n",
      "Model Family:                 Poisson   Df Model:                            3\n",
      "Link Function:                    log   Scale:                          1.0000\n",
      "Method:                          IRLS   Log-Likelihood:                -6915.3\n",
      "Date:                Sat, 11 Jul 2020   Deviance:                       4394.9\n",
      "Time:                        19:17:00   Pearson chi2:                 6.95e+03\n",
      "No. Iterations:                     5                                         \n",
      "Covariance Type:            nonrobust                                         \n",
      "========================================================================================================\n",
      "                                           coef    std err          z      P>|z|      [0.025      0.975]\n",
      "--------------------------------------------------------------------------------------------------------\n",
      "Intercept                                0.6901      0.021     32.775      0.000       0.649       0.731\n",
      "ServiceType[T.Mantenimiento Energía]    -0.1361      0.026     -5.186      0.000      -0.188      -0.085\n",
      "District[T.Turbo TyD]                    0.1371      0.024      5.700      0.000       0.090       0.184\n",
      "precipitacion                            0.0030      0.001      4.636      0.000       0.002       0.004\n",
      "========================================================================================================\n"
     ]
    }
   ],
   "source": [
    "poisson_training_results_w = sm.GLM(y_train_w, X_train_w, family=sm.families.Poisson()).fit()\n",
    "print(poisson_training_results_w.summary())"
   ]
  },
  {
   "cell_type": "code",
   "execution_count": 905,
   "metadata": {},
   "outputs": [
    {
     "name": "stdout",
     "output_type": "stream",
     "text": [
      "          mean   mean_se  mean_ci_lower  mean_ci_upper\n",
      "2     1.993980  0.041987       1.913362       2.077996\n",
      "8     1.740186  0.051832       1.641505       1.844799\n",
      "13    1.740186  0.051832       1.641505       1.844799\n",
      "14    1.740186  0.051832       1.641505       1.844799\n",
      "17    1.740186  0.051832       1.641505       1.844799\n",
      "...        ...       ...            ...            ...\n",
      "4813  2.020880  0.047545       1.929809       2.116250\n",
      "4815  2.007466  0.047470       1.916550       2.102694\n",
      "4819  2.293288  0.035617       2.224532       2.364169\n",
      "4822  2.293288  0.035617       2.224532       2.364169\n",
      "4826  2.175807  0.060291       2.060791       2.297242\n",
      "\n",
      "[1031 rows x 4 columns]\n"
     ]
    }
   ],
   "source": [
    "poisson_predictions_w = poisson_training_results_w.get_prediction(X_test_w)\n",
    "#.summary_frame() returns a pandas DataFrame\n",
    "predictions_summary_frame_w = poisson_predictions_w.summary_frame()\n",
    "print(predictions_summary_frame_w)\n",
    "############revisar los datos para eliminar los NaN y eliminarlos."
   ]
  },
  {
   "cell_type": "code",
   "execution_count": 906,
   "metadata": {
    "scrolled": true
   },
   "outputs": [
    {
     "data": {
      "text/plain": [
       "<Figure size 432x288 with 0 Axes>"
      ]
     },
     "metadata": {},
     "output_type": "display_data"
    },
    {
     "data": {
      "image/png": "[encoded data removed]",
      "text/plain": [
       "<Figure size 432x288 with 1 Axes>"
      ]
     },
     "metadata": {
      "needs_background": "light"
     },
     "output_type": "display_data"
    }
   ],
   "source": [
    "plt.clf()\n",
    "fig = plt.figure()\n",
    "fig.suptitle('Scatter plot of Actual versus Predicted counts')\n",
    "plt.scatter(x=predicted_counts, y=actual_counts, marker='.')\n",
    "plt.xlabel('Predicted counts')\n",
    "plt.ylabel('Actual counts')\n",
    "plt.show()\n",
    "\n"
   ]
  },
  {
   "cell_type": "code",
   "execution_count": 908,
   "metadata": {
    "scrolled": true
   },
   "outputs": [
    {
     "data": {
      "text/plain": [
       "<matplotlib.axes._subplots.AxesSubplot at 0x2c0b384d7c0>"
      ]
     },
     "execution_count": 908,
     "metadata": {},
     "output_type": "execute_result"
    },
    {
     "data": {
      "image/png": "[encoded data removed]",
      "text/plain": [
       "<Figure size 432x288 with 1 Axes>"
      ]
     },
     "metadata": {
      "needs_background": "light"
     },
     "output_type": "display_data"
    }
   ],
   "source": [
    "sns.distplot(actual_counts)\n",
    "sns.distplot(predicted_counts)\n"
   ]
  },
  {
   "cell_type": "code",
   "execution_count": 927,
   "metadata": {},
   "outputs": [
    {
     "data": {
      "image/png": "[encoded data removed]",
      "text/plain": [
       "<Figure size 432x288 with 1 Axes>"
      ]
     },
     "metadata": {
      "needs_background": "light"
     },
     "output_type": "display_data"
    }
   ],
   "source": [
    "y = y_test_w\n",
    "yhat=predictions_summary_frame_w[\"mean\"]\n",
    "\n",
    "fig, ax = plt.subplots()\n",
    "ax.scatter(yhat, y)\n",
    "ax.set_ylabel('Observed values')\n",
    "ax.set_xlabel('Fitted values');\n"
   ]
  }
 ],
 "metadata": {
  "kernelspec": {
   "display_name": "Python 3",
   "language": "python",
   "name": "python3"
  },
  "language_info": {
   "codemirror_mode": {
    "name": "ipython",
    "version": 3
   },
   "file_extension": ".py",
   "mimetype": "text/x-python",
   "name": "python",
   "nbconvert_exporter": "python",
   "pygments_lexer": "ipython3",
   "version": "3.8.3"
  }
 },
 "nbformat": 4,
 "nbformat_minor": 4
}
