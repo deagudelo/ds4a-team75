{
 "cells": [
  {
   "cell_type": "code",
   "execution_count": 1,
   "metadata": {},
   "outputs": [],
   "source": [
    "import pandas as pd\n",
    "import numpy as np\n",
    "import matplotlib.pyplot as plt\n",
    "import seaborn as sns\n",
    "import glob"
   ]
  },
  {
   "cell_type": "code",
   "execution_count": 2,
   "metadata": {},
   "outputs": [],
   "source": [
    "#importando datos de fallas\n",
    "dff=df = pd.read_excel('EPM_datos_Uraba\\Original_Data\\Reporte Uraba2019_CAGMV1Est.xlsx', sheet_name='BD-Filtrada')\n",
    "dff[\"town\"]=dff[\"town\"].str.upper()"
   ]
  },
  {
   "cell_type": "code",
   "execution_count": 3,
   "metadata": {},
   "outputs": [],
   "source": [
    "#importando datos de clima\n",
    "\n",
    "precip_path=\"EPM_datos_Uraba/weather data/precipitacion/\"\n",
    "dfw_precip = pd.DataFrame()\n",
    "for file_name in glob.glob(precip_path+'*.csv'):\n",
    "    x = pd.read_csv(file_name, low_memory=False)\n",
    "    dfw_precip = pd.concat([dfw_precip,x],axis=0)\n",
    "    \n",
    "hum_path=\"EPM_datos_Uraba/weather data/hum/\"\n",
    "dfw_hum = pd.DataFrame()\n",
    "for file_name in glob.glob(hum_path+'*.csv'):\n",
    "    x = pd.read_csv(file_name, low_memory=False)\n",
    "    dfw_hum = pd.concat([dfw_precip,x],axis=0)\n",
    "    \n",
    "#hum_path=\"EPM_datos_Uraba\\weather data\\hum\\\"\"\n",
    "#dfw_precip = pd.DataFrame()\n",
    "#for file_name in glob.glob(hum_path+'*.csv'):\n",
    "#    x = pd.read_csv(file_name, low_memory=False)\n",
    "#    glued_data = pd.concat([glued_data,x],axis=0)\n",
    "dfw_precip[\"Municipio\"]=dfw_precip[\"Municipio\"].str.upper()\n",
    "dfw_hum[\"Municipio\"]=dfw_hum[\"Municipio\"].str.upper()"
   ]
  },
  {
   "cell_type": "code",
   "execution_count": 4,
   "metadata": {},
   "outputs": [],
   "source": [
    "#importando los datos de infraestructura\n",
    "\n",
    "#transformadores\n",
    "\n",
    "dfi_t=df = pd.read_csv('EPM_datos_Uraba\\Original_Data\\TRANSFO_PT.csv')"
   ]
  },
  {
   "cell_type": "code",
   "execution_count": 5,
   "metadata": {},
   "outputs": [
    {
     "data": {
      "text/plain": [
       "array(['ANTIOQUIA', 'CHOCÓ'], dtype=object)"
      ]
     },
     "execution_count": 5,
     "metadata": {},
     "output_type": "execute_result"
    }
   ],
   "source": [
    "#importando divipola\n",
    "\n",
    "divipola= pd.read_excel('EPM_datos_Uraba\\municipios\\Listados_DIVIPOLA.xlsx', sheet_name='municipio')\n",
    "divipola= divipola[divipola[\"Nombre_depto\"].isin([\"ANTIOQUIA\",\"CHOCÓ\"])]\n",
    "divipola[\"Nombre_depto\"].unique()"
   ]
  },
  {
   "cell_type": "code",
   "execution_count": 6,
   "metadata": {},
   "outputs": [],
   "source": [
    "#itenditificando las variables que identifican el municipio\n",
    "#dff.town #nombre minúscula\n",
    "#dfw_precip.Municipio #nombre\n",
    "#dfi_t.MUNICIPIO_ #código 4 dígitos\n",
    "#divipola.Nombre_municipio # nombre mayúscula\n",
    "#divipola.Código_municipio # código 4 dígitos"
   ]
  },
  {
   "cell_type": "code",
   "execution_count": 7,
   "metadata": {},
   "outputs": [],
   "source": [
    "#incluyendo el nombre del municipio en la base de insfraestructura\n",
    "\n",
    "dfi_tm=dfi_t.merge(divipola[[\"Código_municipio\",\"Nombre_municipio\", \"Nombre_depto\", \"Código_depto \"]], left_on=\"MUNICIPIO_\", right_on=\"Código_municipio\")"
   ]
  },
  {
   "cell_type": "code",
   "execution_count": 8,
   "metadata": {},
   "outputs": [],
   "source": [
    "#incluyendo el código del municipio en la base de fallas\n",
    "dff_m=dff.merge(divipola[[\"Código_municipio\",\"Nombre_municipio\", \"Nombre_depto\", \"Código_depto \"]], left_on=\"town\", right_on=\"Nombre_municipio\")\n",
    "\n"
   ]
  },
  {
   "cell_type": "code",
   "execution_count": 9,
   "metadata": {},
   "outputs": [],
   "source": [
    "#incluyendo el código del municipio en las bases de precipitacion y humedad\n",
    "\n",
    "dfw_precip=dfw_precip.merge(divipola[[\"Código_municipio\",\"Nombre_municipio\", \"Nombre_depto\", \"Código_depto \"]], left_on=\"Municipio\", right_on=\"Nombre_municipio\")\n",
    "dfw_hum=dfw_hum.merge(divipola[[\"Código_municipio\",\"Nombre_municipio\", \"Nombre_depto\", \"Código_depto \"]], left_on=\"Municipio\", right_on=\"Nombre_municipio\")"
   ]
  },
  {
   "cell_type": "code",
   "execution_count": 10,
   "metadata": {},
   "outputs": [
    {
     "name": "stdout",
     "output_type": "stream",
     "text": [
      "13503\n",
      "44271\n",
      "49494\n"
     ]
    }
   ],
   "source": [
    "print(len(dfi_tm))\n",
    "print(len(dff_m))\n",
    "print(len(dff))\n",
    "#hay algunos datos qde fallas que no podemos cruzar porque no está el municipio"
   ]
  },
  {
   "cell_type": "code",
   "execution_count": 11,
   "metadata": {},
   "outputs": [
    {
     "data": {
      "text/plain": [
       "array(['ANTIOQUIA', 'CHOCÓ'], dtype=object)"
      ]
     },
     "execution_count": 11,
     "metadata": {},
     "output_type": "execute_result"
    }
   ],
   "source": [
    "dff_m.Nombre_depto.unique()"
   ]
  },
  {
   "cell_type": "code",
   "execution_count": 12,
   "metadata": {},
   "outputs": [
    {
     "data": {
      "text/plain": [
       "array(['ANTIOQUIA', 'CHOCÓ'], dtype=object)"
      ]
     },
     "execution_count": 12,
     "metadata": {},
     "output_type": "execute_result"
    }
   ],
   "source": [
    "dfi_tm.Nombre_depto.unique()"
   ]
  },
  {
   "cell_type": "code",
   "execution_count": 13,
   "metadata": {},
   "outputs": [
    {
     "data": {
      "text/plain": [
       "array(['ANTIOQUIA', 'CHOCÓ'], dtype=object)"
      ]
     },
     "execution_count": 13,
     "metadata": {},
     "output_type": "execute_result"
    }
   ],
   "source": [
    "dfw_precip.Nombre_depto.unique()"
   ]
  },
  {
   "cell_type": "code",
   "execution_count": 14,
   "metadata": {
    "scrolled": true
   },
   "outputs": [
    {
     "data": {
      "text/plain": [
       "array(['ANTIOQUIA', 'CHOCÓ'], dtype=object)"
      ]
     },
     "execution_count": 14,
     "metadata": {},
     "output_type": "execute_result"
    }
   ],
   "source": [
    "dfw_hum.Nombre_depto.unique()"
   ]
  },
  {
   "cell_type": "code",
   "execution_count": 15,
   "metadata": {},
   "outputs": [],
   "source": [
    "#adding a dummy variable indicating if there was a failure\n",
    "dff_m[\"fail\"]=1"
   ]
  },
  {
   "cell_type": "code",
   "execution_count": 82,
   "metadata": {},
   "outputs": [
    {
     "data": {
      "text/html": [
       "<div>\n",
       "<style scoped>\n",
       "    .dataframe tbody tr th:only-of-type {\n",
       "        vertical-align: middle;\n",
       "    }\n",
       "\n",
       "    .dataframe tbody tr th {\n",
       "        vertical-align: top;\n",
       "    }\n",
       "\n",
       "    .dataframe thead th {\n",
       "        text-align: right;\n",
       "    }\n",
       "</style>\n",
       "<table border=\"1\" class=\"dataframe\">\n",
       "  <thead>\n",
       "    <tr style=\"text-align: right;\">\n",
       "      <th></th>\n",
       "      <th>NumberOT</th>\n",
       "      <th>Circuit</th>\n",
       "      <th>OpenDate</th>\n",
       "      <th>Nombre_municipio</th>\n",
       "      <th>fail</th>\n",
       "    </tr>\n",
       "  </thead>\n",
       "  <tbody>\n",
       "    <tr>\n",
       "      <th>0</th>\n",
       "      <td>2831866</td>\n",
       "      <td>412-14</td>\n",
       "      <td>2018-08-30 17:32:28</td>\n",
       "      <td>CAREPA</td>\n",
       "      <td>1</td>\n",
       "    </tr>\n",
       "    <tr>\n",
       "      <th>1</th>\n",
       "      <td>2929866</td>\n",
       "      <td>406-11</td>\n",
       "      <td>2018-12-07 09:48:58</td>\n",
       "      <td>TURBO</td>\n",
       "      <td>1</td>\n",
       "    </tr>\n",
       "    <tr>\n",
       "      <th>2</th>\n",
       "      <td>2934398</td>\n",
       "      <td>415-11</td>\n",
       "      <td>2018-12-13 07:37:00</td>\n",
       "      <td>NECOCLÍ</td>\n",
       "      <td>1</td>\n",
       "    </tr>\n",
       "    <tr>\n",
       "      <th>3</th>\n",
       "      <td>2945255</td>\n",
       "      <td>407-12</td>\n",
       "      <td>2018-12-28 09:27:36</td>\n",
       "      <td>SAN PEDRO DE URABÁ</td>\n",
       "      <td>1</td>\n",
       "    </tr>\n",
       "    <tr>\n",
       "      <th>4</th>\n",
       "      <td>2945565</td>\n",
       "      <td>415-13</td>\n",
       "      <td>2018-12-28 16:30:01</td>\n",
       "      <td>NECOCLÍ</td>\n",
       "      <td>1</td>\n",
       "    </tr>\n",
       "  </tbody>\n",
       "</table>\n",
       "</div>"
      ],
      "text/plain": [
       "   NumberOT Circuit            OpenDate    Nombre_municipio  fail\n",
       "0   2831866  412-14 2018-08-30 17:32:28              CAREPA     1\n",
       "1   2929866  406-11 2018-12-07 09:48:58               TURBO     1\n",
       "2   2934398  415-11 2018-12-13 07:37:00             NECOCLÍ     1\n",
       "3   2945255  407-12 2018-12-28 09:27:36  SAN PEDRO DE URABÁ     1\n",
       "4   2945565  415-13 2018-12-28 16:30:01             NECOCLÍ     1"
      ]
     },
     "execution_count": 82,
     "metadata": {},
     "output_type": "execute_result"
    }
   ],
   "source": [
    "#fails_circuit_by_day_loca=pd.DataFrame(pd.unique(dff_m[[\"NumberOT\",\"Circuit\",\"OpenDate\",\"fail\"]].values.ravel()))\n",
    "#fails_circuit_by_day_loca.head()\n",
    "\n",
    "distinct_df = dff_m[ [\"NumberOT\",\"Circuit\",\"OpenDate\",\"Nombre_municipio\",\"fail\"] ].groupby([\"NumberOT\",\"Circuit\",\"OpenDate\",\"Nombre_municipio\",\"fail\"]).first().reset_index()\n",
    "distinct_df.head()\n"
   ]
  },
  {
   "cell_type": "code",
   "execution_count": 83,
   "metadata": {
    "scrolled": true
   },
   "outputs": [
    {
     "name": "stdout",
     "output_type": "stream",
     "text": [
      "(30644, 5)\n",
      "(44271, 41)\n"
     ]
    }
   ],
   "source": [
    "print(distinct_df.shape)\n",
    "print(dff_m.shape)"
   ]
  },
  {
   "cell_type": "code",
   "execution_count": 68,
   "metadata": {},
   "outputs": [
    {
     "name": "stdout",
     "output_type": "stream",
     "text": [
      "(70, 1)\n"
     ]
    }
   ],
   "source": [
    "#creating false failures to complement no failures\n",
    "\n",
    "#list of unique cicuits\n",
    "#circuits_f=pd.DataFrame(pd.unique(dff_m[\"Circuit\"]))\n",
    "#print(circuits_f.shape)\n",
    "\n",
    "\n",
    "circuits_i=pd.DataFrame(pd.unique(dfi_tm[\"CIRCUITO\"]))\n",
    "print(circuits_i.shape)\n"
   ]
  },
  {
   "cell_type": "code",
   "execution_count": 69,
   "metadata": {},
   "outputs": [],
   "source": [
    "#Probando regresión Poisson\n",
    "from patsy import dmatrices\n",
    "import statsmodels.api as sm"
   ]
  },
  {
   "cell_type": "code",
   "execution_count": 99,
   "metadata": {},
   "outputs": [
    {
     "data": {
      "text/plain": [
       "Index(['NumberOT', 'Circuit', 'OpenDate', 'Nombre_municipio', 'fail', 'Date',\n",
       "       'day', 'Month'],\n",
       "      dtype='object')"
      ]
     },
     "execution_count": 99,
     "metadata": {},
     "output_type": "execute_result"
    }
   ],
   "source": [
    "pd.to_datetime(distinct_df['OpenDate'], format='%Y-%m-%d %H %M %S')\n",
    "distinct_df['Date']=distinct_df['OpenDate'].dt.date\n",
    "distinct_df['day']=distinct_df['OpenDate'].dt.day\n",
    "distinct_df['Month']=distinct_df['OpenDate'].dt.month\n",
    "distinct_df.columns\n"
   ]
  },
  {
   "cell_type": "code",
   "execution_count": 100,
   "metadata": {},
   "outputs": [
    {
     "data": {
      "text/html": [
       "<div>\n",
       "<style scoped>\n",
       "    .dataframe tbody tr th:only-of-type {\n",
       "        vertical-align: middle;\n",
       "    }\n",
       "\n",
       "    .dataframe tbody tr th {\n",
       "        vertical-align: top;\n",
       "    }\n",
       "\n",
       "    .dataframe thead th {\n",
       "        text-align: right;\n",
       "    }\n",
       "</style>\n",
       "<table border=\"1\" class=\"dataframe\">\n",
       "  <thead>\n",
       "    <tr style=\"text-align: right;\">\n",
       "      <th></th>\n",
       "      <th>day</th>\n",
       "      <th>Month</th>\n",
       "      <th>Nombre_municipio</th>\n",
       "      <th>Circuit</th>\n",
       "      <th>NumberOT</th>\n",
       "    </tr>\n",
       "  </thead>\n",
       "  <tbody>\n",
       "    <tr>\n",
       "      <th>0</th>\n",
       "      <td>1</td>\n",
       "      <td>1</td>\n",
       "      <td>ARBOLETES</td>\n",
       "      <td>409-11</td>\n",
       "      <td>1</td>\n",
       "    </tr>\n",
       "    <tr>\n",
       "      <th>1</th>\n",
       "      <td>1</td>\n",
       "      <td>1</td>\n",
       "      <td>ARBOLETES</td>\n",
       "      <td>409-12</td>\n",
       "      <td>1</td>\n",
       "    </tr>\n",
       "    <tr>\n",
       "      <th>2</th>\n",
       "      <td>1</td>\n",
       "      <td>1</td>\n",
       "      <td>CAREPA</td>\n",
       "      <td>412-12</td>\n",
       "      <td>1</td>\n",
       "    </tr>\n",
       "    <tr>\n",
       "      <th>3</th>\n",
       "      <td>1</td>\n",
       "      <td>1</td>\n",
       "      <td>CAREPA</td>\n",
       "      <td>412-13</td>\n",
       "      <td>1</td>\n",
       "    </tr>\n",
       "    <tr>\n",
       "      <th>4</th>\n",
       "      <td>1</td>\n",
       "      <td>1</td>\n",
       "      <td>CAREPA</td>\n",
       "      <td>412-14</td>\n",
       "      <td>3</td>\n",
       "    </tr>\n",
       "  </tbody>\n",
       "</table>\n",
       "</div>"
      ],
      "text/plain": [
       "   day  Month Nombre_municipio Circuit  NumberOT\n",
       "0    1      1        ARBOLETES  409-11         1\n",
       "1    1      1        ARBOLETES  409-12         1\n",
       "2    1      1           CAREPA  412-12         1\n",
       "3    1      1           CAREPA  412-13         1\n",
       "4    1      1           CAREPA  412-14         3"
      ]
     },
     "execution_count": 100,
     "metadata": {},
     "output_type": "execute_result"
    }
   ],
   "source": [
    "distinct_df1=distinct_df[[\"day\",\"Month\",\"Nombre_municipio\",\"Circuit\",\"NumberOT\"]].groupby([\"day\",\"Month\",\"Nombre_municipio\",\"Circuit\"]).count().reset_index()\n",
    "distinct_df1.head()"
   ]
  },
  {
   "cell_type": "code",
   "execution_count": 104,
   "metadata": {},
   "outputs": [
    {
     "name": "stdout",
     "output_type": "stream",
     "text": [
      "Training data set length=9547\n",
      "Testing data set length=2467\n"
     ]
    }
   ],
   "source": [
    "mask = np.random.rand(len(distinct_df1)) < 0.8\n",
    "df_train = distinct_df1[mask]\n",
    "df_test = distinct_df1[~mask]\n",
    "print('Training data set length='+str(len(df_train)))\n",
    "print('Testing data set length='+str(len(df_test)))"
   ]
  },
  {
   "cell_type": "code",
   "execution_count": 107,
   "metadata": {
    "scrolled": true
   },
   "outputs": [
    {
     "name": "stdout",
     "output_type": "stream",
     "text": [
      "                 Generalized Linear Model Regression Results                  \n",
      "==============================================================================\n",
      "Dep. Variable:               NumberOT   No. Observations:                 9547\n",
      "Model:                            GLM   Df Residuals:                     9458\n",
      "Model Family:                 Poisson   Df Model:                           88\n",
      "Link Function:                    log   Scale:                          1.0000\n",
      "Method:                          IRLS   Log-Likelihood:                -18488.\n",
      "Date:                Fri, 10 Jul 2020   Deviance:                       12264.\n",
      "Time:                        18:27:32   Pearson chi2:                 1.81e+04\n",
      "No. Iterations:                   100                                         \n",
      "Covariance Type:            nonrobust                                         \n",
      "=================================================================================================================\n",
      "                                                    coef    std err          z      P>|z|      [0.025      0.975]\n",
      "-----------------------------------------------------------------------------------------------------------------\n",
      "Intercept                                         0.0951      0.684      0.139      0.889      -1.246       1.436\n",
      "Nombre_municipio[T.ANZÁ]                         -0.3448      0.841     -0.410      0.682      -1.992       1.303\n",
      "Nombre_municipio[T.APARTADÓ]                      0.6855      0.711      0.963      0.335      -0.709       2.080\n",
      "Nombre_municipio[T.ARBOLETES]                     0.6111      0.714      0.855      0.392      -0.789       2.011\n",
      "Nombre_municipio[T.BELLO]                         0.1103      1.229      0.090      0.929      -2.299       2.520\n",
      "Nombre_municipio[T.CARAMANTA]                    -0.3137      1.229     -0.255      0.798      -2.722       2.095\n",
      "Nombre_municipio[T.CAREPA]                        0.8838      0.712      1.241      0.214      -0.512       2.279\n",
      "Nombre_municipio[T.CAROLINA]                     -0.1513      1.005     -0.151      0.880      -2.120       1.818\n",
      "Nombre_municipio[T.CAUCASIA]                     -0.0958      0.918     -0.104      0.917      -1.896       1.704\n",
      "Nombre_municipio[T.CAÑASGORDAS]                  -0.2511      1.228     -0.205      0.838      -2.657       2.155\n",
      "Nombre_municipio[T.CHIGORODÓ]                     0.8999      0.714      1.261      0.207      -0.499       2.299\n",
      "Nombre_municipio[T.CIUDAD BOLÍVAR]               -0.0090      0.602     -0.015      0.988      -1.190       1.172\n",
      "Nombre_municipio[T.EL CARMEN DE VIBORAL]          0.0172      1.198      0.014      0.989      -2.331       2.366\n",
      "Nombre_municipio[T.MEDELLÍN]                     -0.2972      0.748     -0.397      0.691      -1.763       1.169\n",
      "Nombre_municipio[T.MURINDÓ]                       0.0721      1.007      0.072      0.943      -1.901       2.046\n",
      "Nombre_municipio[T.MUTATÁ]                        0.9819      0.717      1.370      0.171      -0.423       2.387\n",
      "Nombre_municipio[T.NARIÑO]                        0.0322      1.007      0.032      0.974      -1.941       2.006\n",
      "Nombre_municipio[T.NECHÍ]                        -0.4048      0.775     -0.522      0.601      -1.923       1.114\n",
      "Nombre_municipio[T.NECOCLÍ]                       0.9082      0.714      1.272      0.203      -0.491       2.308\n",
      "Nombre_municipio[T.OLAYA]                         0.2639      1.230      0.215      0.830      -2.148       2.675\n",
      "Nombre_municipio[T.SAN JERÓNIMO]                 -0.2988      1.229     -0.243      0.808      -2.708       2.110\n",
      "Nombre_municipio[T.SAN JOSÉ DE LA MONTAÑA]       -0.2297      0.919     -0.250      0.803      -2.030       1.571\n",
      "Nombre_municipio[T.SAN JUAN DE URABÁ]             1.1210      0.715      1.569      0.117      -0.280       2.521\n",
      "Nombre_municipio[T.SAN LUIS]                     -0.2467      1.229     -0.201      0.841      -2.656       2.162\n",
      "Nombre_municipio[T.SAN PEDRO DE LOS MILAGROS]    -0.4671      0.770     -0.606      0.544      -1.977       1.043\n",
      "Nombre_municipio[T.SAN PEDRO DE URABÁ]            0.8602      0.714      1.204      0.228      -0.540       2.260\n",
      "Nombre_municipio[T.SEGOVIA]                      -0.4846      1.229     -0.394      0.693      -2.894       1.924\n",
      "Nombre_municipio[T.TURBO]                         0.5822      0.713      0.816      0.414      -0.816       1.980\n",
      "Circuit[T.303-14]                                -0.6067      0.985     -0.616      0.538      -2.538       1.324\n",
      "Circuit[T.401-11]                                 0.7728      0.060     12.822      0.000       0.655       0.891\n",
      "Circuit[T.401-12]                                -0.0488      0.077     -0.638      0.524      -0.199       0.101\n",
      "Circuit[T.401-13]                                -0.1446      0.086     -1.673      0.094      -0.314       0.025\n",
      "Circuit[T.401-14]                                -0.2018      0.093     -2.175      0.030      -0.384      -0.020\n",
      "Circuit[T.401-15]                                -0.1098      0.092     -1.198      0.231      -0.289       0.070\n",
      "Circuit[T.401-16]                                -0.0299      0.074     -0.405      0.685      -0.174       0.115\n",
      "Circuit[T.401-17]                                -0.2902      0.103     -2.825      0.005      -0.492      -0.089\n",
      "Circuit[T.401-18]                                -0.0934      0.086     -1.090      0.276      -0.261       0.075\n",
      "Circuit[T.401-41]                                -0.0142      0.207     -0.069      0.945      -0.420       0.392\n",
      "Circuit[T.401-42]                                 0.1923      0.117      1.643      0.100      -0.037       0.422\n",
      "Circuit[T.401-45]                                -0.1459      0.154     -0.946      0.344      -0.448       0.156\n",
      "Circuit[T.402-11]                                -0.2985      0.133     -2.239      0.025      -0.560      -0.037\n",
      "Circuit[T.402-12]                                 0.3393      0.067      5.060      0.000       0.208       0.471\n",
      "Circuit[T.402-13]                                 0.1192      0.073      1.628      0.103      -0.024       0.263\n",
      "Circuit[T.402-14]                                 0.4510      0.065      6.937      0.000       0.324       0.578\n",
      "Circuit[T.402-15]                                 0.6362      0.061     10.359      0.000       0.516       0.757\n",
      "Circuit[T.402-16]                                -0.0060      0.082     -0.073      0.942      -0.166       0.155\n",
      "Circuit[T.403-11]                                -0.6254      0.122     -5.132      0.000      -0.864      -0.387\n",
      "Circuit[T.403-12]                                 0.1909      0.072      2.637      0.008       0.049       0.333\n",
      "Circuit[T.403-13]                                -0.1413      0.079     -1.779      0.075      -0.297       0.014\n",
      "Circuit[T.403-14]                                -0.6469      0.093     -6.990      0.000      -0.828      -0.466\n",
      "Circuit[T.403-15]                                -0.4849      0.096     -5.050      0.000      -0.673      -0.297\n",
      "Circuit[T.403-16]                                 0.1073      0.070      1.530      0.126      -0.030       0.245\n",
      "Circuit[T.404-11]                                 0.1313      0.099      1.330      0.183      -0.062       0.325\n",
      "Circuit[T.404-12]                                -0.2958      0.092     -3.230      0.001      -0.475      -0.116\n",
      "Circuit[T.405-11]                                -0.5071      0.097     -5.253      0.000      -0.696      -0.318\n",
      "Circuit[T.405-12]                                -0.6736      0.142     -4.738      0.000      -0.952      -0.395\n",
      "Circuit[T.405-13]                                -0.4822      0.094     -5.138      0.000      -0.666      -0.298\n",
      "Circuit[T.406-11]                                -0.0347      0.069     -0.504      0.614      -0.169       0.100\n",
      "Circuit[T.406-12]                                -0.3993      0.139     -2.874      0.004      -0.672      -0.127\n",
      "Circuit[T.406-13]                                -0.4804      0.244     -1.970      0.049      -0.958      -0.002\n",
      "Circuit[T.407-11]                                -0.2544      0.080     -3.182      0.001      -0.411      -0.098\n",
      "Circuit[T.407-12]                                 0.6692      0.065     10.258      0.000       0.541       0.797\n",
      "Circuit[T.407-13]                                -0.3121      0.083     -3.764      0.000      -0.475      -0.150\n",
      "Circuit[T.407-41]                                 1.0088      0.114      8.850      0.000       0.785       1.232\n",
      "Circuit[T.409-11]                                 0.2550      0.081      3.144      0.002       0.096       0.414\n",
      "Circuit[T.409-12]                                 0.2403      0.065      3.674      0.000       0.112       0.369\n",
      "Circuit[T.409-13]                                -0.0554      0.094     -0.590      0.555      -0.240       0.129\n",
      "Circuit[T.409-30]                                 0.6686      0.304      2.201      0.028       0.073       1.264\n",
      "Circuit[T.410-11]                                -0.2459      0.074     -3.334      0.001      -0.390      -0.101\n",
      "Circuit[T.411-11]                                 0.3093      0.065      4.773      0.000       0.182       0.436\n",
      "Circuit[T.411-12]                                -0.2396      0.130     -1.844      0.065      -0.494       0.015\n",
      "Circuit[T.411-13]                                 0.8956      0.060     15.049      0.000       0.779       1.012\n",
      "Circuit[T.411-41]                                 0.4146      0.166      2.496      0.013       0.089       0.740\n",
      "Circuit[T.411-42]                                 0.1148      0.352      0.326      0.744      -0.575       0.804\n",
      "Circuit[T.411-43]                                 1.5012      0.097     15.458      0.000       1.311       1.691\n",
      "Circuit[T.411-44]                                 0.0805      0.316      0.255      0.799      -0.538       0.699\n",
      "Circuit[T.412-11]                                -0.1782      0.083     -2.152      0.031      -0.340      -0.016\n",
      "Circuit[T.412-12]                                -0.2078      0.083     -2.516      0.012      -0.370      -0.046\n",
      "Circuit[T.412-13]                                -0.2035      0.068     -3.002      0.003      -0.336      -0.071\n",
      "Circuit[T.412-14]                                 0.2339      0.072      3.267      0.001       0.094       0.374\n",
      "Circuit[T.413-11]                                 0.1683      0.075      2.247      0.025       0.022       0.315\n",
      "Circuit[T.414-11]                                -0.1369      0.066     -2.080      0.037      -0.266      -0.008\n",
      "Circuit[T.414-12]                                -0.3735      0.087     -4.283      0.000      -0.544      -0.203\n",
      "Circuit[T.414-13]                                -0.5930      0.098     -6.052      0.000      -0.785      -0.401\n",
      "Circuit[T.415-11]                                 0.0542      0.073      0.744      0.457      -0.089       0.197\n",
      "Circuit[T.415-12]                                 0.5048      0.065      7.784      0.000       0.378       0.632\n",
      "Circuit[T.415-13]                                 0.5215      0.067      7.779      0.000       0.390       0.653\n",
      "Circuit[T.508-13]                                -0.9323      0.986     -0.946      0.344      -2.865       1.000\n",
      "Circuit[T.509-11]                                -0.0090      0.602     -0.015      0.988      -1.190       1.172\n",
      "day                                              -0.0027      0.001     -3.698      0.000      -0.004      -0.001\n",
      "Month                                            -0.0062      0.002     -3.221      0.001      -0.010      -0.002\n",
      "=================================================================================================================\n"
     ]
    }
   ],
   "source": [
    "#espcifiación del modelo\n",
    "\n",
    "expr = \"\"\"NumberOT ~ day + Month  + Nombre_municipio + Circuit \"\"\"\n",
    "\n",
    "y_train, X_train = dmatrices(expr, df_train, return_type='dataframe')\n",
    "y_test, X_test = dmatrices(expr, df_test, return_type='dataframe')\n",
    "\n",
    "\n",
    "poisson_training_results = sm.GLM(y_train, X_train, family=sm.families.Poisson()).fit()\n",
    "print(poisson_training_results.summary())\n"
   ]
  },
  {
   "cell_type": "code",
   "execution_count": 103,
   "metadata": {},
   "outputs": [
    {
     "ename": "ValueError",
     "evalue": "shapes (2430,76) and (90,) not aligned: 76 (dim 1) != 90 (dim 0)",
     "output_type": "error",
     "traceback": [
      "\u001b[1;31m---------------------------------------------------------------------------\u001b[0m",
      "\u001b[1;31mValueError\u001b[0m                                Traceback (most recent call last)",
      "\u001b[1;32m<ipython-input-103-86bb91a5d6b3>\u001b[0m in \u001b[0;36m<module>\u001b[1;34m\u001b[0m\n\u001b[1;32m----> 1\u001b[1;33m \u001b[0mpoisson_predictions\u001b[0m \u001b[1;33m=\u001b[0m \u001b[0mpoisson_training_results\u001b[0m\u001b[1;33m.\u001b[0m\u001b[0mget_prediction\u001b[0m\u001b[1;33m(\u001b[0m\u001b[0mX_test\u001b[0m\u001b[1;33m)\u001b[0m\u001b[1;33m\u001b[0m\u001b[1;33m\u001b[0m\u001b[0m\n\u001b[0m\u001b[0;32m      2\u001b[0m \u001b[1;31m#.summary_frame() returns a pandas DataFrame\u001b[0m\u001b[1;33m\u001b[0m\u001b[1;33m\u001b[0m\u001b[1;33m\u001b[0m\u001b[0m\n\u001b[0;32m      3\u001b[0m \u001b[0mpredictions_summary_frame\u001b[0m \u001b[1;33m=\u001b[0m \u001b[0mpoisson_predictions\u001b[0m\u001b[1;33m.\u001b[0m\u001b[0msummary_frame\u001b[0m\u001b[1;33m(\u001b[0m\u001b[1;33m)\u001b[0m\u001b[1;33m\u001b[0m\u001b[1;33m\u001b[0m\u001b[0m\n\u001b[0;32m      4\u001b[0m \u001b[0mprint\u001b[0m\u001b[1;33m(\u001b[0m\u001b[0mpredictions_summary_frame\u001b[0m\u001b[1;33m)\u001b[0m\u001b[1;33m\u001b[0m\u001b[1;33m\u001b[0m\u001b[0m\n",
      "\u001b[1;32mC:\\ProgramData\\Anaconda3\\lib\\site-packages\\statsmodels\\genmod\\generalized_linear_model.py\u001b[0m in \u001b[0;36mget_prediction\u001b[1;34m(self, exog, exposure, offset, transform, linear, row_labels)\u001b[0m\n\u001b[0;32m   1675\u001b[0m                                              \u001b[0mtransform\u001b[0m\u001b[1;33m=\u001b[0m\u001b[0mtransform\u001b[0m\u001b[1;33m,\u001b[0m\u001b[1;33m\u001b[0m\u001b[1;33m\u001b[0m\u001b[0m\n\u001b[0;32m   1676\u001b[0m                                              \u001b[0mrow_labels\u001b[0m\u001b[1;33m=\u001b[0m\u001b[0mrow_labels\u001b[0m\u001b[1;33m,\u001b[0m\u001b[1;33m\u001b[0m\u001b[1;33m\u001b[0m\u001b[0m\n\u001b[1;32m-> 1677\u001b[1;33m                                              pred_kwds=pred_kwds)\n\u001b[0m\u001b[0;32m   1678\u001b[0m \u001b[1;33m\u001b[0m\u001b[0m\n\u001b[0;32m   1679\u001b[0m         \u001b[0mpred_kwds\u001b[0m\u001b[1;33m[\u001b[0m\u001b[1;34m'linear'\u001b[0m\u001b[1;33m]\u001b[0m \u001b[1;33m=\u001b[0m \u001b[1;32mFalse\u001b[0m\u001b[1;33m\u001b[0m\u001b[1;33m\u001b[0m\u001b[0m\n",
      "\u001b[1;32mC:\\ProgramData\\Anaconda3\\lib\\site-packages\\statsmodels\\regression\\_prediction.py\u001b[0m in \u001b[0;36mget_prediction\u001b[1;34m(self, exog, transform, weights, row_labels, pred_kwds)\u001b[0m\n\u001b[0;32m    178\u001b[0m     \u001b[1;32mif\u001b[0m \u001b[0mpred_kwds\u001b[0m \u001b[1;32mis\u001b[0m \u001b[1;32mNone\u001b[0m\u001b[1;33m:\u001b[0m\u001b[1;33m\u001b[0m\u001b[1;33m\u001b[0m\u001b[0m\n\u001b[0;32m    179\u001b[0m         \u001b[0mpred_kwds\u001b[0m \u001b[1;33m=\u001b[0m \u001b[1;33m{\u001b[0m\u001b[1;33m}\u001b[0m\u001b[1;33m\u001b[0m\u001b[1;33m\u001b[0m\u001b[0m\n\u001b[1;32m--> 180\u001b[1;33m     \u001b[0mpredicted_mean\u001b[0m \u001b[1;33m=\u001b[0m \u001b[0mself\u001b[0m\u001b[1;33m.\u001b[0m\u001b[0mmodel\u001b[0m\u001b[1;33m.\u001b[0m\u001b[0mpredict\u001b[0m\u001b[1;33m(\u001b[0m\u001b[0mself\u001b[0m\u001b[1;33m.\u001b[0m\u001b[0mparams\u001b[0m\u001b[1;33m,\u001b[0m \u001b[0mexog\u001b[0m\u001b[1;33m,\u001b[0m \u001b[1;33m**\u001b[0m\u001b[0mpred_kwds\u001b[0m\u001b[1;33m)\u001b[0m\u001b[1;33m\u001b[0m\u001b[1;33m\u001b[0m\u001b[0m\n\u001b[0m\u001b[0;32m    181\u001b[0m \u001b[1;33m\u001b[0m\u001b[0m\n\u001b[0;32m    182\u001b[0m     \u001b[0mcovb\u001b[0m \u001b[1;33m=\u001b[0m \u001b[0mself\u001b[0m\u001b[1;33m.\u001b[0m\u001b[0mcov_params\u001b[0m\u001b[1;33m(\u001b[0m\u001b[1;33m)\u001b[0m\u001b[1;33m\u001b[0m\u001b[1;33m\u001b[0m\u001b[0m\n",
      "\u001b[1;32mC:\\ProgramData\\Anaconda3\\lib\\site-packages\\statsmodels\\genmod\\generalized_linear_model.py\u001b[0m in \u001b[0;36mpredict\u001b[1;34m(self, params, exog, exposure, offset, linear)\u001b[0m\n\u001b[0;32m    870\u001b[0m             \u001b[0mexog\u001b[0m \u001b[1;33m=\u001b[0m \u001b[0mself\u001b[0m\u001b[1;33m.\u001b[0m\u001b[0mexog\u001b[0m\u001b[1;33m\u001b[0m\u001b[1;33m\u001b[0m\u001b[0m\n\u001b[0;32m    871\u001b[0m \u001b[1;33m\u001b[0m\u001b[0m\n\u001b[1;32m--> 872\u001b[1;33m         \u001b[0mlinpred\u001b[0m \u001b[1;33m=\u001b[0m \u001b[0mnp\u001b[0m\u001b[1;33m.\u001b[0m\u001b[0mdot\u001b[0m\u001b[1;33m(\u001b[0m\u001b[0mexog\u001b[0m\u001b[1;33m,\u001b[0m \u001b[0mparams\u001b[0m\u001b[1;33m)\u001b[0m \u001b[1;33m+\u001b[0m \u001b[0moffset\u001b[0m \u001b[1;33m+\u001b[0m \u001b[0mexposure\u001b[0m\u001b[1;33m\u001b[0m\u001b[1;33m\u001b[0m\u001b[0m\n\u001b[0m\u001b[0;32m    873\u001b[0m         \u001b[1;32mif\u001b[0m \u001b[0mlinear\u001b[0m\u001b[1;33m:\u001b[0m\u001b[1;33m\u001b[0m\u001b[1;33m\u001b[0m\u001b[0m\n\u001b[0;32m    874\u001b[0m             \u001b[1;32mreturn\u001b[0m \u001b[0mlinpred\u001b[0m\u001b[1;33m\u001b[0m\u001b[1;33m\u001b[0m\u001b[0m\n",
      "\u001b[1;32m<__array_function__ internals>\u001b[0m in \u001b[0;36mdot\u001b[1;34m(*args, **kwargs)\u001b[0m\n",
      "\u001b[1;31mValueError\u001b[0m: shapes (2430,76) and (90,) not aligned: 76 (dim 1) != 90 (dim 0)"
     ]
    }
   ],
   "source": [
    "poisson_predictions = poisson_training_results.get_prediction(X_test)\n",
    "#.summary_frame() returns a pandas DataFrame\n",
    "predictions_summary_frame = poisson_predictions.summary_frame()\n",
    "print(predictions_summary_frame)\n",
    "############revisar los datos para eliminar los NaN y eliminarlos."
   ]
  }
 ],
 "metadata": {
  "kernelspec": {
   "display_name": "Python 3",
   "language": "python",
   "name": "python3"
  },
  "language_info": {
   "codemirror_mode": {
    "name": "ipython",
    "version": 3
   },
   "file_extension": ".py",
   "mimetype": "text/x-python",
   "name": "python",
   "nbconvert_exporter": "python",
   "pygments_lexer": "ipython3",
   "version": "3.7.6"
  }
 },
 "nbformat": 4,
 "nbformat_minor": 4
}
