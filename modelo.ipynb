{
 "cells": [
  {
   "cell_type": "code",
   "execution_count": 16,
   "metadata": {},
   "outputs": [
    {
     "ename": "OSError",
     "evalue": "cannot load library 'C:\\ProgramData\\Anaconda3\\lib\\R\\bin\\x64\\R.dll': error 0x7e",
     "output_type": "error",
     "traceback": [
      "\u001b[1;31m---------------------------------------------------------------------------\u001b[0m",
      "\u001b[1;31mOSError\u001b[0m                                   Traceback (most recent call last)",
      "\u001b[1;32m<ipython-input-16-2b7ddbab8eb3>\u001b[0m in \u001b[0;36m<module>\u001b[1;34m\u001b[0m\n\u001b[1;32m----> 1\u001b[1;33m \u001b[1;32mfrom\u001b[0m \u001b[0mrpy2\u001b[0m \u001b[1;32mimport\u001b[0m \u001b[0mrobjects\u001b[0m\u001b[1;33m\u001b[0m\u001b[1;33m\u001b[0m\u001b[0m\n\u001b[0m",
      "\u001b[1;32mc:\\users\\carlo\\appdata\\local\\programs\\python\\python38\\lib\\site-packages\\rpy2\\robjects\\__init__.py\u001b[0m in \u001b[0;36m<module>\u001b[1;34m\u001b[0m\n\u001b[0;32m     14\u001b[0m \u001b[1;32mfrom\u001b[0m \u001b[0mfunctools\u001b[0m \u001b[1;32mimport\u001b[0m \u001b[0mpartial\u001b[0m\u001b[1;33m\u001b[0m\u001b[1;33m\u001b[0m\u001b[0m\n\u001b[0;32m     15\u001b[0m \u001b[1;32mimport\u001b[0m \u001b[0mtypes\u001b[0m\u001b[1;33m\u001b[0m\u001b[1;33m\u001b[0m\u001b[0m\n\u001b[1;32m---> 16\u001b[1;33m \u001b[1;32mimport\u001b[0m \u001b[0mrpy2\u001b[0m\u001b[1;33m.\u001b[0m\u001b[0mrinterface\u001b[0m \u001b[1;32mas\u001b[0m \u001b[0mrinterface\u001b[0m\u001b[1;33m\u001b[0m\u001b[1;33m\u001b[0m\u001b[0m\n\u001b[0m\u001b[0;32m     17\u001b[0m \u001b[1;32mimport\u001b[0m \u001b[0mrpy2\u001b[0m\u001b[1;33m.\u001b[0m\u001b[0mrlike\u001b[0m\u001b[1;33m.\u001b[0m\u001b[0mcontainer\u001b[0m \u001b[1;32mas\u001b[0m \u001b[0mrlc\u001b[0m\u001b[1;33m\u001b[0m\u001b[1;33m\u001b[0m\u001b[0m\n\u001b[0;32m     18\u001b[0m \u001b[1;33m\u001b[0m\u001b[0m\n",
      "\u001b[1;32mc:\\users\\carlo\\appdata\\local\\programs\\python\\python38\\lib\\site-packages\\rpy2\\rinterface.py\u001b[0m in \u001b[0;36m<module>\u001b[1;34m\u001b[0m\n\u001b[0;32m      4\u001b[0m \u001b[1;32mimport\u001b[0m \u001b[0mtyping\u001b[0m\u001b[1;33m\u001b[0m\u001b[1;33m\u001b[0m\u001b[0m\n\u001b[0;32m      5\u001b[0m \u001b[1;32mfrom\u001b[0m \u001b[0mtyping\u001b[0m \u001b[1;32mimport\u001b[0m \u001b[0mUnion\u001b[0m\u001b[1;33m\u001b[0m\u001b[1;33m\u001b[0m\u001b[0m\n\u001b[1;32m----> 6\u001b[1;33m \u001b[1;32mfrom\u001b[0m \u001b[0mrpy2\u001b[0m\u001b[1;33m.\u001b[0m\u001b[0mrinterface_lib\u001b[0m \u001b[1;32mimport\u001b[0m \u001b[0mopenrlib\u001b[0m\u001b[1;33m\u001b[0m\u001b[1;33m\u001b[0m\u001b[0m\n\u001b[0m\u001b[0;32m      7\u001b[0m \u001b[1;32mimport\u001b[0m \u001b[0mrpy2\u001b[0m\u001b[1;33m.\u001b[0m\u001b[0mrinterface_lib\u001b[0m\u001b[1;33m.\u001b[0m\u001b[0m_rinterface_capi\u001b[0m \u001b[1;32mas\u001b[0m \u001b[0m_rinterface\u001b[0m\u001b[1;33m\u001b[0m\u001b[1;33m\u001b[0m\u001b[0m\n\u001b[0;32m      8\u001b[0m \u001b[1;32mimport\u001b[0m \u001b[0mrpy2\u001b[0m\u001b[1;33m.\u001b[0m\u001b[0mrinterface_lib\u001b[0m\u001b[1;33m.\u001b[0m\u001b[0membedded\u001b[0m \u001b[1;32mas\u001b[0m \u001b[0membedded\u001b[0m\u001b[1;33m\u001b[0m\u001b[1;33m\u001b[0m\u001b[0m\n",
      "\u001b[1;32mc:\\users\\carlo\\appdata\\local\\programs\\python\\python38\\lib\\site-packages\\rpy2\\rinterface_lib\\openrlib.py\u001b[0m in \u001b[0;36m<module>\u001b[1;34m\u001b[0m\n\u001b[0;32m     42\u001b[0m     \u001b[0mrlib\u001b[0m \u001b[1;33m=\u001b[0m \u001b[0m_rinterface_cffi\u001b[0m\u001b[1;33m.\u001b[0m\u001b[0mlib\u001b[0m\u001b[1;33m\u001b[0m\u001b[1;33m\u001b[0m\u001b[0m\n\u001b[0;32m     43\u001b[0m \u001b[1;32melse\u001b[0m\u001b[1;33m:\u001b[0m\u001b[1;33m\u001b[0m\u001b[1;33m\u001b[0m\u001b[0m\n\u001b[1;32m---> 44\u001b[1;33m     \u001b[0mrlib\u001b[0m \u001b[1;33m=\u001b[0m \u001b[0m_dlopen_rlib\u001b[0m\u001b[1;33m(\u001b[0m\u001b[0mR_HOME\u001b[0m\u001b[1;33m)\u001b[0m\u001b[1;33m\u001b[0m\u001b[1;33m\u001b[0m\u001b[0m\n\u001b[0m\u001b[0;32m     45\u001b[0m \u001b[1;33m\u001b[0m\u001b[0m\n\u001b[0;32m     46\u001b[0m \u001b[1;33m\u001b[0m\u001b[0m\n",
      "\u001b[1;32mc:\\users\\carlo\\appdata\\local\\programs\\python\\python38\\lib\\site-packages\\rpy2\\rinterface_lib\\openrlib.py\u001b[0m in \u001b[0;36m_dlopen_rlib\u001b[1;34m(r_home)\u001b[0m\n\u001b[0;32m     35\u001b[0m         \u001b[1;32mraise\u001b[0m \u001b[0mValueError\u001b[0m\u001b[1;33m(\u001b[0m\u001b[1;34m'The library path cannot be None.'\u001b[0m\u001b[1;33m)\u001b[0m\u001b[1;33m\u001b[0m\u001b[1;33m\u001b[0m\u001b[0m\n\u001b[0;32m     36\u001b[0m     \u001b[1;32melse\u001b[0m\u001b[1;33m:\u001b[0m\u001b[1;33m\u001b[0m\u001b[1;33m\u001b[0m\u001b[0m\n\u001b[1;32m---> 37\u001b[1;33m         \u001b[0mrlib\u001b[0m \u001b[1;33m=\u001b[0m \u001b[0mffi\u001b[0m\u001b[1;33m.\u001b[0m\u001b[0mdlopen\u001b[0m\u001b[1;33m(\u001b[0m\u001b[0mlib_path\u001b[0m\u001b[1;33m)\u001b[0m\u001b[1;33m\u001b[0m\u001b[1;33m\u001b[0m\u001b[0m\n\u001b[0m\u001b[0;32m     38\u001b[0m     \u001b[1;32mreturn\u001b[0m \u001b[0mrlib\u001b[0m\u001b[1;33m\u001b[0m\u001b[1;33m\u001b[0m\u001b[0m\n\u001b[0;32m     39\u001b[0m \u001b[1;33m\u001b[0m\u001b[0m\n",
      "\u001b[1;31mOSError\u001b[0m: cannot load library 'C:\\ProgramData\\Anaconda3\\lib\\R\\bin\\x64\\R.dll': error 0x7e"
     ]
    }
   ],
   "source": [
    "from rpy2 import robjects"
   ]
  },
  {
   "cell_type": "code",
   "execution_count": 1,
   "metadata": {},
   "outputs": [],
   "source": [
    "import pandas as pd\n",
    "import numpy as np\n",
    "import matplotlib.pyplot as plt\n",
    "import seaborn as sns\n",
    "import glob"
   ]
  },
  {
   "cell_type": "code",
   "execution_count": 3,
   "metadata": {},
   "outputs": [],
   "source": [
    "import pyRserve\n",
    "conn = pyRserve.connect() "
   ]
  },
  {
   "cell_type": "code",
   "execution_count": 4,
   "metadata": {
    "scrolled": true
   },
   "outputs": [
    {
     "name": "stderr",
     "output_type": "stream",
     "text": [
      "<>:2: DeprecationWarning: invalid escape sequence \\O\n",
      "c:\\users\\carlo\\appdata\\local\\programs\\python\\python38\\lib\\site-packages\\xlrd\\xlsx.py:266: DeprecationWarning: This method will be removed in future versions.  Use 'tree.iter()' or 'list(tree.iter())' instead.\n",
      "  for elem in self.tree.iter() if Element_has_iter else self.tree.getiterator():\n"
     ]
    }
   ],
   "source": [
    "#importando datos de fallas\n",
    "dff=df = pd.read_excel('EPM_datos_Uraba\\Original_Data\\Reporte Uraba2019_CAGMV1Est.xlsx', sheet_name='BD-Filtrada')\n",
    "dff[\"town\"]=dff[\"town\"].str.upper()"
   ]
  },
  {
   "cell_type": "code",
   "execution_count": null,
   "metadata": {},
   "outputs": [],
   "source": [
    "library(\"VGAM\")\n",
    "library(\"data.table\")\n",
    "library(\"ggplot2\")"
   ]
  },
  {
   "cell_type": "code",
   "execution_count": 7,
   "metadata": {},
   "outputs": [
    {
     "data": {
      "text/plain": [
       "array(['VGAM', 'splines', 'stats4', 'stats', 'graphics', 'grDevices',\n",
       "       'utils', 'datasets', 'methods', 'base'], dtype='<U9')"
      ]
     },
     "execution_count": 7,
     "metadata": {},
     "output_type": "execute_result"
    }
   ],
   "source": [
    "conn.r(\"33+9\")\n",
    "conn.r(\"library(VGAM)\")"
   ]
  },
  {
   "cell_type": "code",
   "execution_count": 11,
   "metadata": {},
   "outputs": [
    {
     "name": "stdout",
     "output_type": "stream",
     "text": [
      "<TaggedList(X=array([    0,     1,     2, ..., 14125, 14126, 14127]), Circuit=AttrArray([ 1,  2,  3, ..., 60, 61, 62], attr={'levels': array(['217-11', '303-14', '401-11', '401-12', '401-13', '401-14',\n",
      "       '401-15', '401-16', '401-17', '401-18', '401-41', '401-42',\n",
      "       '401-45', '402-11', '402-12', '402-13', '402-14', '402-15',\n",
      "       '402-16', '403-11', '403-12', '403-13', '403-14', '403-15',\n",
      "       '403-16', '404-11', '404-12', '405-11', '405-12', '405-13',\n",
      "       '406-11', '406-12', '406-13', '407-11', '407-12', '407-13',\n",
      "       '407-41', '409-11', '409-12', '409-13', '409-30', '410-11',\n",
      "       '411-11', '411-12', '411-13', '411-41', '411-42', '411-43',\n",
      "       '411-44', '412-11', '412-12', '412-13', '412-14', '413-11',\n",
      "       '414-11', '414-12', '414-13', '415-11', '415-12', '415-13',\n",
      "       '508-13', '509-11'], dtype='<U6'), 'class': array(['factor'], dtype='<U6')}), Nombre_municipio=AttrArray([15, 31,  2, ..., 31, 21, 14], attr={'levels': array(['ANORÍ', 'ANZÁ', 'APARTADÓ', 'ARBOLETES', 'BELLO', 'CAÑASGORDAS',\n",
      "       'CAICEDO', 'CARAMANTA', 'CAREPA', 'CAROLINA', 'CAUCASIA',\n",
      "       'CHIGORODÓ', 'CISNEROS', 'CIUDAD BOLÍVAR', 'EL CARMEN DE VIBORAL',\n",
      "       'MEDELLÍN', 'MURINDÓ', 'MUTATÁ', 'NARIÑO', 'NECHÍ', 'NECOCLÍ',\n",
      "       'OLAYA', 'SAN JERÓNIMO', 'SAN JOSÉ DE LA MONTAÑA',\n",
      "       'SAN JUAN DE URABÁ', 'SAN LUIS', 'SAN PEDRO DE LOS MILAGROS',\n",
      "       'SAN PEDRO DE URABÁ', 'SAN VICENTE FERRER', 'SEGOVIA', 'TURBO'],\n",
      "      dtype='<U25'), 'class': array(['factor'], dtype='<U6')}), day=array([21, 17,  1, ..., 24, 24, 24]), Month=array([9, 4, 8, ..., 3, 1, 2]), District=AttrArray([2, 2, 1, ..., 2, 2, 2], attr={'levels': array(['Apartado TyD', 'Turbo TyD'], dtype='<U12'), 'class': array(['factor'], dtype='<U6')}), ServiceType=AttrArray([1, 1, 1, ..., 2, 1, 1], attr={'levels': array(['Daños Energía', 'Mantenimiento Energía'], dtype='<U21'), 'class': array(['factor'], dtype='<U6')}), NumberOT=array([1, 1, 1, ..., 1, 1, 1]))>\n"
     ]
    }
   ],
   "source": [
    "test_r_script = '''\n",
    "                library(\"VGAM\")\n",
    "                library(\"data.table\")\n",
    "                library(readxl)\n",
    "                library(readr)\n",
    "                datos <- read.csv(\"~/Repo/ds4a-team75/datos.csv\")\n",
    "                    datos<-as.data.table(datos)\n",
    "                '''\n",
    "variable = conn.eval(test_r_script)\n",
    "\n",
    "print (variable)"
   ]
  },
  {
   "cell_type": "code",
   "execution_count": 17,
   "metadata": {},
   "outputs": [
    {
     "name": "stdout",
     "output_type": "stream",
     "text": [
      "<TaggedList(data=<TaggedList(resid=array([-14.13039916, -14.13039916, -14.68239347, ..., -14.29927042,\n",
      "       -14.13039916, -14.13039916]), fitted=array([2.35428801, 2.35428801, 1.98563179, ..., 2.23308807, 2.35428801,\n",
      "       2.35428801]))>, layers=[4, 4], scales=4, mapping=<TaggedList(x=['~', 'fitted'], y=['~', 'resid'])>, theme=[], coordinates=4, facet=4, plot_env=4, labels=<TaggedList(x='fitted', y='resid')>)>\n"
     ]
    }
   ],
   "source": [
    "#fitting the model\n",
    "test_r_script1 = '''\n",
    "                m1<-vglm(NumberOT~ServiceType + District, family=posnegbinomial(), data=datos)\n",
    "                summary(m1)\n",
    "                '''\n",
    "variable1 = conn.eval(test_r_script1)\n",
    "\n",
    "print (variable2)\n",
    "\n",
    "conn.shutdown()"
   ]
  },
  {
   "cell_type": "code",
   "execution_count": 15,
   "metadata": {},
   "outputs": [
    {
     "name": "stdout",
     "output_type": "stream",
     "text": [
      "[-1.2975753  -2.02541781 -0.1065687   0.35930898]\n"
     ]
    }
   ],
   "source": [
    "test_r_script3 = '''\n",
    "                coef(m1)\n",
    "                '''\n",
    "variable3 = conn.eval(test_r_script3)\n",
    "\n",
    "print (variable3)"
   ]
  },
  {
   "cell_type": "code",
   "execution_count": 14,
   "metadata": {},
   "outputs": [
    {
     "name": "stdout",
     "output_type": "stream",
     "text": [
      "<TaggedList(data=<TaggedList(resid=array([-14.13039916, -14.13039916, -14.68239347, ..., -14.29927042,\n",
      "       -14.13039916, -14.13039916]), fitted=array([2.35428801, 2.35428801, 1.98563179, ..., 2.23308807, 2.35428801,\n",
      "       2.35428801]))>, layers=[4, 4], scales=4, mapping=<TaggedList(x=['~', 'fitted'], y=['~', 'resid'])>, theme=[], coordinates=4, facet=4, plot_env=4, labels=<TaggedList(x='fitted', y='resid')>)>\n"
     ]
    }
   ],
   "source": [
    "test_r_script2 = '''\n",
    "    library(ggplot2)\n",
    "    output<-data.frame(resid=resid(m1)[,1], fitted=fitted(m1))\n",
    "    ggplot(output, aes(fitted,resid))+geom_jitter(position=position_jitter(width=0.25),\n",
    "                                                  alpha=0.5) + stat_smooth(method=\"loess\")\n",
    "                '''\n",
    "variable2 = conn.eval(test_r_script2)\n",
    "\n",
    "print (variable2)\n"
   ]
  },
  {
   "cell_type": "code",
   "execution_count": 4,
   "metadata": {
    "scrolled": true
   },
   "outputs": [
    {
     "data": {
      "text/plain": [
       "Index(['CallID', 'NumberOT', 'TaskNumber', 'Status', 'ServiceType', 'id',\n",
       "       'Eng_Type', 'RepairDate', 'FinalRepairDate', 'DuratioMin', 'TaskType',\n",
       "       'CompletionDate', 'OpenDate', 'EarlyStart', 'DueDate', 'DispatchDate',\n",
       "       'TravelDate', 'OnSiteDate', 'Region', 'District', 'TreeServiceGroup',\n",
       "       'ServiceGroup', 'BusinessLine', 'town', 'Latitude', 'Longitude',\n",
       "       'Priority', 'IncompleteReason', 'CrewGeneralComments', 'RepairCode',\n",
       "       'W6Key', 'IdEPM', 'LocationID', 'LocationDescription', 'Circuit'],\n",
       "      dtype='object')"
      ]
     },
     "execution_count": 4,
     "metadata": {},
     "output_type": "execute_result"
    }
   ],
   "source": [
    "dff.columns"
   ]
  },
  {
   "cell_type": "code",
   "execution_count": 5,
   "metadata": {},
   "outputs": [
    {
     "data": {
      "text/html": [
       "<div>\n",
       "<style scoped>\n",
       "    .dataframe tbody tr th:only-of-type {\n",
       "        vertical-align: middle;\n",
       "    }\n",
       "\n",
       "    .dataframe tbody tr th {\n",
       "        vertical-align: top;\n",
       "    }\n",
       "\n",
       "    .dataframe thead th {\n",
       "        text-align: right;\n",
       "    }\n",
       "</style>\n",
       "<table border=\"1\" class=\"dataframe\">\n",
       "  <thead>\n",
       "    <tr style=\"text-align: right;\">\n",
       "      <th></th>\n",
       "      <th>CallID</th>\n",
       "      <th>NumberOT</th>\n",
       "      <th>TaskNumber</th>\n",
       "      <th>Status</th>\n",
       "      <th>ServiceType</th>\n",
       "      <th>id</th>\n",
       "      <th>Eng_Type</th>\n",
       "      <th>RepairDate</th>\n",
       "      <th>FinalRepairDate</th>\n",
       "      <th>DuratioMin</th>\n",
       "      <th>...</th>\n",
       "      <th>Longitude</th>\n",
       "      <th>Priority</th>\n",
       "      <th>IncompleteReason</th>\n",
       "      <th>CrewGeneralComments</th>\n",
       "      <th>RepairCode</th>\n",
       "      <th>W6Key</th>\n",
       "      <th>IdEPM</th>\n",
       "      <th>LocationID</th>\n",
       "      <th>LocationDescription</th>\n",
       "      <th>Circuit</th>\n",
       "    </tr>\n",
       "  </thead>\n",
       "  <tbody>\n",
       "    <tr>\n",
       "      <th>0</th>\n",
       "      <td>M_EPM_EN_3974557</td>\n",
       "      <td>3294596</td>\n",
       "      <td>1</td>\n",
       "      <td>Realizada</td>\n",
       "      <td>Daños Energía</td>\n",
       "      <td>E_D0239</td>\n",
       "      <td>CU-TyD-Moto_MttoDaños_X1</td>\n",
       "      <td>2019-12-31 19:24:00</td>\n",
       "      <td>2019-12-31 19:30:00</td>\n",
       "      <td>30</td>\n",
       "      <td>...</td>\n",
       "      <td>-76809294</td>\n",
       "      <td>1</td>\n",
       "      <td>NaN</td>\n",
       "      <td>Se realizo reposición de fusible en el fr 4159...</td>\n",
       "      <td>CAMBIAR O INSTALAR FUSIBLE AISLADERO RAMAL - R...</td>\n",
       "      <td>1527996425</td>\n",
       "      <td>1460157</td>\n",
       "      <td>FR4159</td>\n",
       "      <td>Aisladero</td>\n",
       "      <td>405-13</td>\n",
       "    </tr>\n",
       "    <tr>\n",
       "      <th>1</th>\n",
       "      <td>M_EPM_EN_3974642</td>\n",
       "      <td>3294347</td>\n",
       "      <td>1</td>\n",
       "      <td>Realizada</td>\n",
       "      <td>Daños Energía</td>\n",
       "      <td>E_D0264</td>\n",
       "      <td>CU-TyD-Moto_MttoDaños_X1</td>\n",
       "      <td>2019-12-31 17:59:00</td>\n",
       "      <td>2019-12-31 18:23:00</td>\n",
       "      <td>30</td>\n",
       "      <td>...</td>\n",
       "      <td>-76732551</td>\n",
       "      <td>4</td>\n",
       "      <td>NaN</td>\n",
       "      <td>Se llega a el cirio y se encuentra que el daño...</td>\n",
       "      <td>REVISIÓN POR CALIDAD DEL SERVICIO</td>\n",
       "      <td>1527808009</td>\n",
       "      <td>1459416</td>\n",
       "      <td>402-11</td>\n",
       "      <td>Salida Circuito</td>\n",
       "      <td>402-11</td>\n",
       "    </tr>\n",
       "    <tr>\n",
       "      <th>2</th>\n",
       "      <td>M_EPM_EN_3974707</td>\n",
       "      <td>3294568</td>\n",
       "      <td>2</td>\n",
       "      <td>Realizada</td>\n",
       "      <td>Daños Energía</td>\n",
       "      <td>E_D0223</td>\n",
       "      <td>CU-TyD-Moto_MttoDaños_X1</td>\n",
       "      <td>2019-12-31 17:57:00</td>\n",
       "      <td>2019-12-31 17:59:00</td>\n",
       "      <td>30</td>\n",
       "      <td>...</td>\n",
       "      <td>-76598210</td>\n",
       "      <td>4</td>\n",
       "      <td>NaN</td>\n",
       "      <td>Se realizó inspección encontrándose poste a pu...</td>\n",
       "      <td>CAMBIAR/ASEGURAR POSTE PRIMARIO - Ramales</td>\n",
       "      <td>1527955467</td>\n",
       "      <td>1460101</td>\n",
       "      <td>489023</td>\n",
       "      <td>Transformador</td>\n",
       "      <td>415-12</td>\n",
       "    </tr>\n",
       "    <tr>\n",
       "      <th>3</th>\n",
       "      <td>MX_EPM_0133_DE_2037523</td>\n",
       "      <td>2037523</td>\n",
       "      <td>1</td>\n",
       "      <td>Realizada</td>\n",
       "      <td>Mto. Ener. Actividades Forestales</td>\n",
       "      <td>E_MP219</td>\n",
       "      <td>CU-TyD-Moto_Poda_X2</td>\n",
       "      <td>NaT</td>\n",
       "      <td>NaT</td>\n",
       "      <td>600</td>\n",
       "      <td>...</td>\n",
       "      <td>-76646490</td>\n",
       "      <td>7</td>\n",
       "      <td>NaN</td>\n",
       "      <td>corregimiento pueblo nuevo \\nvereda  comarca  ...</td>\n",
       "      <td>NaN</td>\n",
       "      <td>1517256747</td>\n",
       "      <td>1419179</td>\n",
       "      <td>R1269</td>\n",
       "      <td>CIRCUITO 415-12 SEGMENTO R1269</td>\n",
       "      <td>NaN</td>\n",
       "    </tr>\n",
       "    <tr>\n",
       "      <th>4</th>\n",
       "      <td>M_EPM_EN_3974852</td>\n",
       "      <td>3294520</td>\n",
       "      <td>1</td>\n",
       "      <td>Realizada</td>\n",
       "      <td>Daños Energía</td>\n",
       "      <td>E_D0270</td>\n",
       "      <td>CU-TyD-Moto_MttoDaños_X1</td>\n",
       "      <td>2019-12-31 16:52:00</td>\n",
       "      <td>2019-12-31 17:07:00</td>\n",
       "      <td>30</td>\n",
       "      <td>...</td>\n",
       "      <td>-76304074</td>\n",
       "      <td>1</td>\n",
       "      <td>NaN</td>\n",
       "      <td>Se repuso 1 fusible de 6T al F47910 el servici...</td>\n",
       "      <td>CAMBIAR O INSTALAR FUSIBLE AISLADERO RAMAL - R...</td>\n",
       "      <td>1527922700</td>\n",
       "      <td>1460058</td>\n",
       "      <td>478088</td>\n",
       "      <td>Transformador</td>\n",
       "      <td>407-12</td>\n",
       "    </tr>\n",
       "  </tbody>\n",
       "</table>\n",
       "<p>5 rows × 35 columns</p>\n",
       "</div>"
      ],
      "text/plain": [
       "                   CallID  NumberOT  TaskNumber     Status  \\\n",
       "0        M_EPM_EN_3974557   3294596           1  Realizada   \n",
       "1        M_EPM_EN_3974642   3294347           1  Realizada   \n",
       "2        M_EPM_EN_3974707   3294568           2  Realizada   \n",
       "3  MX_EPM_0133_DE_2037523   2037523           1  Realizada   \n",
       "4        M_EPM_EN_3974852   3294520           1  Realizada   \n",
       "\n",
       "                         ServiceType       id                  Eng_Type  \\\n",
       "0                      Daños Energía  E_D0239  CU-TyD-Moto_MttoDaños_X1   \n",
       "1                      Daños Energía  E_D0264  CU-TyD-Moto_MttoDaños_X1   \n",
       "2                      Daños Energía  E_D0223  CU-TyD-Moto_MttoDaños_X1   \n",
       "3  Mto. Ener. Actividades Forestales  E_MP219       CU-TyD-Moto_Poda_X2   \n",
       "4                      Daños Energía  E_D0270  CU-TyD-Moto_MttoDaños_X1   \n",
       "\n",
       "           RepairDate     FinalRepairDate  DuratioMin  ... Longitude Priority  \\\n",
       "0 2019-12-31 19:24:00 2019-12-31 19:30:00          30  ... -76809294        1   \n",
       "1 2019-12-31 17:59:00 2019-12-31 18:23:00          30  ... -76732551        4   \n",
       "2 2019-12-31 17:57:00 2019-12-31 17:59:00          30  ... -76598210        4   \n",
       "3                 NaT                 NaT         600  ... -76646490        7   \n",
       "4 2019-12-31 16:52:00 2019-12-31 17:07:00          30  ... -76304074        1   \n",
       "\n",
       "  IncompleteReason                                CrewGeneralComments  \\\n",
       "0              NaN  Se realizo reposición de fusible en el fr 4159...   \n",
       "1              NaN  Se llega a el cirio y se encuentra que el daño...   \n",
       "2              NaN  Se realizó inspección encontrándose poste a pu...   \n",
       "3              NaN  corregimiento pueblo nuevo \\nvereda  comarca  ...   \n",
       "4              NaN  Se repuso 1 fusible de 6T al F47910 el servici...   \n",
       "\n",
       "                                          RepairCode       W6Key    IdEPM  \\\n",
       "0  CAMBIAR O INSTALAR FUSIBLE AISLADERO RAMAL - R...  1527996425  1460157   \n",
       "1                  REVISIÓN POR CALIDAD DEL SERVICIO  1527808009  1459416   \n",
       "2          CAMBIAR/ASEGURAR POSTE PRIMARIO - Ramales  1527955467  1460101   \n",
       "3                                                NaN  1517256747  1419179   \n",
       "4  CAMBIAR O INSTALAR FUSIBLE AISLADERO RAMAL - R...  1527922700  1460058   \n",
       "\n",
       "  LocationID             LocationDescription Circuit  \n",
       "0     FR4159                       Aisladero  405-13  \n",
       "1     402-11                 Salida Circuito  402-11  \n",
       "2     489023                   Transformador  415-12  \n",
       "3      R1269  CIRCUITO 415-12 SEGMENTO R1269     NaN  \n",
       "4     478088                   Transformador  407-12  \n",
       "\n",
       "[5 rows x 35 columns]"
      ]
     },
     "execution_count": 5,
     "metadata": {},
     "output_type": "execute_result"
    }
   ],
   "source": [
    "dff.head()"
   ]
  },
  {
   "cell_type": "code",
   "execution_count": 6,
   "metadata": {},
   "outputs": [],
   "source": [
    "#importando datos de clima\n",
    "\n",
    "precip_path=\"EPM_datos_Uraba/weather data/precipitacion/\"\n",
    "dfw_precip = pd.DataFrame()\n",
    "for file_name in glob.glob(precip_path+'*.csv'):\n",
    "    x = pd.read_csv(file_name, low_memory=False)\n",
    "    dfw_precip = pd.concat([dfw_precip,x],axis=0)\n",
    "    \n",
    "hum_path=\"EPM_datos_Uraba/weather data/hum/\"\n",
    "dfw_hum = pd.DataFrame()\n",
    "for file_name in glob.glob(hum_path+'*.csv'):\n",
    "    x = pd.read_csv(file_name, low_memory=False)\n",
    "    dfw_hum = pd.concat([dfw_hum,x],axis=0)\n",
    "    \n",
    "#hum_path=\"EPM_datos_Uraba\\weather data\\hum\\\"\"\n",
    "#dfw_precip = pd.DataFrame()\n",
    "#for file_name in glob.glob(hum_path+'*.csv'):\n",
    "#    x = pd.read_csv(file_name, low_memory=False)\n",
    "#    glued_data = pd.concat([glued_data,x],axis=0)\n",
    "dfw_precip[\"Municipio\"]=dfw_precip[\"Municipio\"].str.upper()\n",
    "dfw_hum[\"Municipio\"]=dfw_hum[\"Municipio\"].str.upper()"
   ]
  },
  {
   "cell_type": "code",
   "execution_count": 7,
   "metadata": {},
   "outputs": [
    {
     "name": "stderr",
     "output_type": "stream",
     "text": [
      "<>:5: DeprecationWarning: invalid escape sequence \\O\n"
     ]
    }
   ],
   "source": [
    "#importando los datos de infraestructura\n",
    "\n",
    "#transformadores\n",
    "\n",
    "dfi_t=df = pd.read_csv('EPM_datos_Uraba\\Original_Data\\TRANSFO_PT.csv')"
   ]
  },
  {
   "cell_type": "code",
   "execution_count": 8,
   "metadata": {},
   "outputs": [
    {
     "name": "stderr",
     "output_type": "stream",
     "text": [
      "<>:3: DeprecationWarning: invalid escape sequence \\m\n",
      "c:\\users\\carlo\\appdata\\local\\programs\\python\\python38\\lib\\site-packages\\xlrd\\xlsx.py:266: DeprecationWarning: This method will be removed in future versions.  Use 'tree.iter()' or 'list(tree.iter())' instead.\n",
      "  for elem in self.tree.iter() if Element_has_iter else self.tree.getiterator():\n"
     ]
    },
    {
     "data": {
      "text/plain": [
       "array(['ANTIOQUIA', 'CHOCÓ'], dtype=object)"
      ]
     },
     "execution_count": 8,
     "metadata": {},
     "output_type": "execute_result"
    }
   ],
   "source": [
    "#importando divipola\n",
    "\n",
    "divipola= pd.read_excel('EPM_datos_Uraba\\municipios\\Listados_DIVIPOLA.xlsx', sheet_name='municipio')\n",
    "divipola= divipola[divipola[\"Nombre_depto\"].isin([\"ANTIOQUIA\",\"CHOCÓ\"])]\n",
    "divipola[\"Nombre_depto\"].unique()"
   ]
  },
  {
   "cell_type": "code",
   "execution_count": 9,
   "metadata": {},
   "outputs": [],
   "source": [
    "#itenditificando las variables que identifican el municipio\n",
    "#dff.town #nombre minúscula\n",
    "#dfw_precip.Municipio #nombre\n",
    "#dfi_t.MUNICIPIO_ #código 4 dígitos\n",
    "#divipola.Nombre_municipio # nombre mayúscula\n",
    "#divipola.Código_municipio # código 4 dígitos"
   ]
  },
  {
   "cell_type": "code",
   "execution_count": 10,
   "metadata": {},
   "outputs": [],
   "source": [
    "#incluyendo el nombre del municipio en la base de insfraestructura\n",
    "\n",
    "dfi_tm=dfi_t.merge(divipola[[\"Código_municipio\",\"Nombre_municipio\", \"Nombre_depto\", \"Código_depto \"]], left_on=\"MUNICIPIO_\", right_on=\"Código_municipio\", how=\"left\")"
   ]
  },
  {
   "cell_type": "code",
   "execution_count": 11,
   "metadata": {},
   "outputs": [],
   "source": [
    "#incluyendo el código del municipio en la base de fallas\n",
    "dff_m=dff.merge(divipola[[\"Código_municipio\",\"Nombre_municipio\", \"Nombre_depto\", \"Código_depto \"]], left_on=\"town\", right_on=\"Nombre_municipio\" , how=\"left\")\n",
    "\n"
   ]
  },
  {
   "cell_type": "code",
   "execution_count": 12,
   "metadata": {},
   "outputs": [],
   "source": [
    "#incluyendo el código del municipio en las bases de precipitacion y humedad\n",
    "\n",
    "dfw_precip=dfw_precip.merge(divipola[[\"Código_municipio\",\"Nombre_municipio\", \"Nombre_depto\", \"Código_depto \"]], left_on=\"Municipio\", right_on=\"Nombre_municipio\", how=\"left\")\n",
    "dfw_hum=dfw_hum.merge(divipola[[\"Código_municipio\",\"Nombre_municipio\", \"Nombre_depto\", \"Código_depto \"]], left_on=\"Municipio\", right_on=\"Nombre_municipio\", how=\"left\")"
   ]
  },
  {
   "cell_type": "code",
   "execution_count": 13,
   "metadata": {},
   "outputs": [
    {
     "name": "stdout",
     "output_type": "stream",
     "text": [
      "13503\n",
      "49494\n",
      "49494\n"
     ]
    }
   ],
   "source": [
    "print(len(dfi_tm))\n",
    "print(len(dff_m))\n",
    "print(len(dff))\n",
    "#hay algunos datos qde fallas que no podemos cruzar porque no está el municipio"
   ]
  },
  {
   "cell_type": "code",
   "execution_count": 14,
   "metadata": {},
   "outputs": [
    {
     "data": {
      "text/plain": [
       "array(['ANTIOQUIA', nan, 'CHOCÓ'], dtype=object)"
      ]
     },
     "execution_count": 14,
     "metadata": {},
     "output_type": "execute_result"
    }
   ],
   "source": [
    "dff_m.Nombre_depto.unique()"
   ]
  },
  {
   "cell_type": "code",
   "execution_count": 15,
   "metadata": {},
   "outputs": [
    {
     "data": {
      "text/plain": [
       "array(['ANTIOQUIA', 'CHOCÓ'], dtype=object)"
      ]
     },
     "execution_count": 15,
     "metadata": {},
     "output_type": "execute_result"
    }
   ],
   "source": [
    "dfi_tm.Nombre_depto.unique()"
   ]
  },
  {
   "cell_type": "code",
   "execution_count": 16,
   "metadata": {},
   "outputs": [
    {
     "data": {
      "text/plain": [
       "array(['ANTIOQUIA', nan, 'CHOCÓ'], dtype=object)"
      ]
     },
     "execution_count": 16,
     "metadata": {},
     "output_type": "execute_result"
    }
   ],
   "source": [
    "dfw_precip.Nombre_depto.unique()"
   ]
  },
  {
   "cell_type": "code",
   "execution_count": 17,
   "metadata": {
    "scrolled": true
   },
   "outputs": [
    {
     "data": {
      "text/plain": [
       "array(['ANTIOQUIA', nan, 'CHOCÓ'], dtype=object)"
      ]
     },
     "execution_count": 17,
     "metadata": {},
     "output_type": "execute_result"
    }
   ],
   "source": [
    "dfw_hum.Nombre_depto.unique()"
   ]
  },
  {
   "cell_type": "code",
   "execution_count": 19,
   "metadata": {},
   "outputs": [],
   "source": [
    "#adding a dummy variable indicating if there was a failure\n",
    "dff_m[\"fail\"]=1"
   ]
  },
  {
   "cell_type": "code",
   "execution_count": 20,
   "metadata": {},
   "outputs": [
    {
     "name": "stdout",
     "output_type": "stream",
     "text": [
      "30644\n"
     ]
    }
   ],
   "source": [
    "#fails_circuit_by_day_loca=pd.DataFrame(pd.unique(dff_m[[\"NumberOT\",\"Circuit\",\"OpenDate\",\"fail\"]].values.ravel()))\n",
    "#fails_circuit_by_day_loca.head()\n",
    "\n",
    "distinct_df = dff_m[ [\"NumberOT\",\"Circuit\",\"OpenDate\",\"Nombre_municipio\",\"District\", \"ServiceType\",\"fail\"] ].groupby([\"NumberOT\",\"Circuit\",\"OpenDate\",\"fail\", \"Nombre_municipio\", \"District\", \"ServiceType\"]).first().reset_index()\n",
    "distinct_df.head()\n",
    "print(len(distinct_df))\n"
   ]
  },
  {
   "cell_type": "code",
   "execution_count": 21,
   "metadata": {
    "scrolled": true
   },
   "outputs": [
    {
     "name": "stdout",
     "output_type": "stream",
     "text": [
      "(30644, 7)\n",
      "(49494, 40)\n"
     ]
    }
   ],
   "source": [
    "print(distinct_df.shape)\n",
    "print(dff_m.shape)"
   ]
  },
  {
   "cell_type": "code",
   "execution_count": 22,
   "metadata": {},
   "outputs": [
    {
     "name": "stdout",
     "output_type": "stream",
     "text": [
      "(70, 1)\n"
     ]
    }
   ],
   "source": [
    "#creating false failures to complement no failures\n",
    "\n",
    "#list of unique cicuits\n",
    "#circuits_f=pd.DataFrame(pd.unique(dff_m[\"Circuit\"]))\n",
    "#print(circuits_f.shape)\n",
    "\n",
    "\n",
    "circuits_i=pd.DataFrame(pd.unique(dfi_tm[\"CIRCUITO\"]))\n",
    "print(circuits_i.shape)\n"
   ]
  },
  {
   "cell_type": "code",
   "execution_count": 23,
   "metadata": {},
   "outputs": [
    {
     "name": "stderr",
     "output_type": "stream",
     "text": [
      "c:\\users\\carlo\\appdata\\local\\programs\\python\\python38\\lib\\site-packages\\patsy\\constraint.py:13: DeprecationWarning: Using or importing the ABCs from 'collections' instead of from 'collections.abc' is deprecated since Python 3.3, and in 3.9 it will stop working\n",
      "  from collections import Mapping\n"
     ]
    }
   ],
   "source": [
    "#Probando regresión Poisson\n",
    "from patsy import dmatrices\n",
    "import statsmodels.api as sm"
   ]
  },
  {
   "cell_type": "code",
   "execution_count": 24,
   "metadata": {},
   "outputs": [
    {
     "name": "stdout",
     "output_type": "stream",
     "text": [
      "<class 'pandas.core.frame.DataFrame'>\n",
      "RangeIndex: 30644 entries, 0 to 30643\n",
      "Data columns (total 11 columns):\n",
      " #   Column            Non-Null Count  Dtype         \n",
      "---  ------            --------------  -----         \n",
      " 0   NumberOT          30644 non-null  int64         \n",
      " 1   Circuit           30644 non-null  object        \n",
      " 2   OpenDate          30644 non-null  datetime64[ns]\n",
      " 3   fail              30644 non-null  int64         \n",
      " 4   Nombre_municipio  30644 non-null  object        \n",
      " 5   District          30644 non-null  object        \n",
      " 6   ServiceType       30644 non-null  object        \n",
      " 7   Date              30644 non-null  object        \n",
      " 8   day               30644 non-null  int64         \n",
      " 9   Month             30644 non-null  int64         \n",
      " 10  year              30644 non-null  int64         \n",
      "dtypes: datetime64[ns](1), int64(5), object(5)\n",
      "memory usage: 2.6+ MB\n"
     ]
    }
   ],
   "source": [
    "pd.to_datetime(distinct_df['OpenDate'], format='%Y-%m-%d %H %M %S')\n",
    "distinct_df['Date']=distinct_df['OpenDate'].dt.date\n",
    "distinct_df['day']=distinct_df['OpenDate'].dt.day\n",
    "distinct_df['Month']=distinct_df['OpenDate'].dt.month\n",
    "distinct_df['year']=distinct_df['OpenDate'].dt.year\n",
    "distinct_df['weekday']=distinct_df['OpenDate'].dt.weekday\n",
    "distinct_df.columns\n",
    "distinct_df.info()"
   ]
  },
  {
   "cell_type": "code",
   "execution_count": 25,
   "metadata": {},
   "outputs": [
    {
     "name": "stdout",
     "output_type": "stream",
     "text": [
      "<class 'pandas.core.frame.DataFrame'>\n",
      "Int64Index: 1053 entries, 0 to 1052\n",
      "Data columns (total 25 columns):\n",
      " #   Column            Non-Null Count  Dtype  \n",
      "---  ------            --------------  -----  \n",
      " 0   CodigoEstacion    1053 non-null   int64  \n",
      " 1   NombreEstacion    1053 non-null   object \n",
      " 2   Latitud           1053 non-null   float64\n",
      " 3   Longitud          1053 non-null   float64\n",
      " 4   Altitud           1053 non-null   int64  \n",
      " 5   Categoria         1053 non-null   object \n",
      " 6   Entidad           1053 non-null   object \n",
      " 7   AreaOperativa     1053 non-null   object \n",
      " 8   Departamento      1053 non-null   object \n",
      " 9   Municipio         1053 non-null   object \n",
      " 10  FechaInstalacion  1053 non-null   object \n",
      " 11  FechaSuspension   0 non-null      float64\n",
      " 12  IdParametro       1053 non-null   object \n",
      " 13  Etiqueta          1053 non-null   object \n",
      " 14  DescripcionSerie  1053 non-null   object \n",
      " 15  Frecuencia        1053 non-null   object \n",
      " 16  Fecha             1053 non-null   object \n",
      " 17  Valor             1053 non-null   float64\n",
      " 18  Grado             1053 non-null   int64  \n",
      " 19  Calificador       0 non-null      float64\n",
      " 20  NivelAprobacion   1053 non-null   int64  \n",
      " 21  Código_municipio  709 non-null    float64\n",
      " 22  Nombre_municipio  709 non-null    object \n",
      " 23  Nombre_depto      709 non-null    object \n",
      " 24  Código_depto      709 non-null    float64\n",
      "dtypes: float64(7), int64(4), object(14)\n",
      "memory usage: 213.9+ KB\n"
     ]
    }
   ],
   "source": [
    "dfw_hum.info()"
   ]
  },
  {
   "cell_type": "code",
   "execution_count": 26,
   "metadata": {
    "scrolled": true
   },
   "outputs": [
    {
     "data": {
      "text/html": [
       "<div>\n",
       "<style scoped>\n",
       "    .dataframe tbody tr th:only-of-type {\n",
       "        vertical-align: middle;\n",
       "    }\n",
       "\n",
       "    .dataframe tbody tr th {\n",
       "        vertical-align: top;\n",
       "    }\n",
       "\n",
       "    .dataframe thead th {\n",
       "        text-align: right;\n",
       "    }\n",
       "</style>\n",
       "<table border=\"1\" class=\"dataframe\">\n",
       "  <thead>\n",
       "    <tr style=\"text-align: right;\">\n",
       "      <th></th>\n",
       "      <th>NumberOT</th>\n",
       "      <th>Circuit</th>\n",
       "      <th>OpenDate</th>\n",
       "      <th>fail</th>\n",
       "      <th>Nombre_municipio</th>\n",
       "      <th>District</th>\n",
       "      <th>ServiceType</th>\n",
       "      <th>Date</th>\n",
       "      <th>day</th>\n",
       "      <th>Month</th>\n",
       "      <th>year</th>\n",
       "      <th>humedad_rel</th>\n",
       "      <th>precipitacion</th>\n",
       "    </tr>\n",
       "  </thead>\n",
       "  <tbody>\n",
       "    <tr>\n",
       "      <th>0</th>\n",
       "      <td>2831866</td>\n",
       "      <td>412-14</td>\n",
       "      <td>2018-08-30 17:32:28</td>\n",
       "      <td>1</td>\n",
       "      <td>CAREPA</td>\n",
       "      <td>Apartado TyD</td>\n",
       "      <td>Mantenimiento Energía</td>\n",
       "      <td>2018-08-30</td>\n",
       "      <td>30</td>\n",
       "      <td>8</td>\n",
       "      <td>2018</td>\n",
       "      <td>NaN</td>\n",
       "      <td>NaN</td>\n",
       "    </tr>\n",
       "    <tr>\n",
       "      <th>1</th>\n",
       "      <td>2929866</td>\n",
       "      <td>406-11</td>\n",
       "      <td>2018-12-07 09:48:58</td>\n",
       "      <td>1</td>\n",
       "      <td>TURBO</td>\n",
       "      <td>Turbo TyD</td>\n",
       "      <td>Mantenimiento Energía</td>\n",
       "      <td>2018-12-07</td>\n",
       "      <td>7</td>\n",
       "      <td>12</td>\n",
       "      <td>2018</td>\n",
       "      <td>NaN</td>\n",
       "      <td>NaN</td>\n",
       "    </tr>\n",
       "    <tr>\n",
       "      <th>2</th>\n",
       "      <td>2934398</td>\n",
       "      <td>415-11</td>\n",
       "      <td>2018-12-13 07:37:00</td>\n",
       "      <td>1</td>\n",
       "      <td>NECOCLÍ</td>\n",
       "      <td>Turbo TyD</td>\n",
       "      <td>Mantenimiento Energía</td>\n",
       "      <td>2018-12-13</td>\n",
       "      <td>13</td>\n",
       "      <td>12</td>\n",
       "      <td>2018</td>\n",
       "      <td>NaN</td>\n",
       "      <td>NaN</td>\n",
       "    </tr>\n",
       "    <tr>\n",
       "      <th>3</th>\n",
       "      <td>2945255</td>\n",
       "      <td>407-12</td>\n",
       "      <td>2018-12-28 09:27:36</td>\n",
       "      <td>1</td>\n",
       "      <td>SAN PEDRO DE URABÁ</td>\n",
       "      <td>Turbo TyD</td>\n",
       "      <td>Mantenimiento Energía</td>\n",
       "      <td>2018-12-28</td>\n",
       "      <td>28</td>\n",
       "      <td>12</td>\n",
       "      <td>2018</td>\n",
       "      <td>NaN</td>\n",
       "      <td>NaN</td>\n",
       "    </tr>\n",
       "    <tr>\n",
       "      <th>4</th>\n",
       "      <td>2945565</td>\n",
       "      <td>415-13</td>\n",
       "      <td>2018-12-28 16:30:01</td>\n",
       "      <td>1</td>\n",
       "      <td>NECOCLÍ</td>\n",
       "      <td>Turbo TyD</td>\n",
       "      <td>Mantenimiento Energía</td>\n",
       "      <td>2018-12-28</td>\n",
       "      <td>28</td>\n",
       "      <td>12</td>\n",
       "      <td>2018</td>\n",
       "      <td>NaN</td>\n",
       "      <td>NaN</td>\n",
       "    </tr>\n",
       "  </tbody>\n",
       "</table>\n",
       "</div>"
      ],
      "text/plain": [
       "   NumberOT Circuit            OpenDate  fail    Nombre_municipio  \\\n",
       "0   2831866  412-14 2018-08-30 17:32:28     1              CAREPA   \n",
       "1   2929866  406-11 2018-12-07 09:48:58     1               TURBO   \n",
       "2   2934398  415-11 2018-12-13 07:37:00     1             NECOCLÍ   \n",
       "3   2945255  407-12 2018-12-28 09:27:36     1  SAN PEDRO DE URABÁ   \n",
       "4   2945565  415-13 2018-12-28 16:30:01     1             NECOCLÍ   \n",
       "\n",
       "       District            ServiceType        Date  day  Month  year  \\\n",
       "0  Apartado TyD  Mantenimiento Energía  2018-08-30   30      8  2018   \n",
       "1     Turbo TyD  Mantenimiento Energía  2018-12-07    7     12  2018   \n",
       "2     Turbo TyD  Mantenimiento Energía  2018-12-13   13     12  2018   \n",
       "3     Turbo TyD  Mantenimiento Energía  2018-12-28   28     12  2018   \n",
       "4     Turbo TyD  Mantenimiento Energía  2018-12-28   28     12  2018   \n",
       "\n",
       "   humedad_rel  precipitacion  \n",
       "0          NaN            NaN  \n",
       "1          NaN            NaN  \n",
       "2          NaN            NaN  \n",
       "3          NaN            NaN  \n",
       "4          NaN            NaN  "
      ]
     },
     "execution_count": 26,
     "metadata": {},
     "output_type": "execute_result"
    }
   ],
   "source": [
    "#merging with weather data\n",
    "\n",
    "#distinct_df.merge(dfw_hum[[\"\",\"\",\"\"]])\n",
    "\n",
    "#pd.to_datetime(dfw_hum['Fecha'], format='%Y-%m-%d %H:%M')\n",
    "dfw_hum['Fecha']=dfw_hum['Fecha'].apply(pd.to_datetime, format='%Y-%m-%d %H:%M')\n",
    "dfw_hum['Date']=dfw_hum['Fecha'].dt.date\n",
    "#dfw_hum['day']=dfw_hum['Fecha'].dt.day\n",
    "#dfw_hum['Month']=dfw_hum['Fecha'].dt.month\n",
    "\n",
    "dfw_hum['Fecha']=dfw_hum['Fecha'].apply(pd.to_datetime, format='%Y-%m-%d %H:%M')\n",
    "dfw_hum['Date']=dfw_hum['Fecha'].dt.date\n",
    "\n",
    "dfw_precip['Fecha']=dfw_precip['Fecha'].apply(pd.to_datetime, format='%Y-%m-%d %H:%M')\n",
    "dfw_precip['Date']=dfw_precip['Fecha'].dt.date\n",
    "\n",
    "\n",
    "#####merging by date and municipio\n",
    "\n",
    "d=distinct_df.merge(dfw_hum[[\"Date\", \"Nombre_municipio\", \"Valor\"]], on=[\"Date\",\"Nombre_municipio\"], how='left')\n",
    "d.rename(columns={'Valor': 'humedad_rel'}, inplace=True)\n",
    "d=d.merge(dfw_precip[[\"Date\", \"Nombre_municipio\", \"Valor\"]], on=[\"Date\",\"Nombre_municipio\"], how='left')\n",
    "d.rename(columns={'Valor': 'precipitacion'}, inplace=True)\n",
    "distinct_dff=d\n",
    "distinct_dff.head()"
   ]
  },
  {
   "cell_type": "code",
   "execution_count": 27,
   "metadata": {
    "scrolled": false
   },
   "outputs": [
    {
     "name": "stdout",
     "output_type": "stream",
     "text": [
      "30664\n"
     ]
    }
   ],
   "source": [
    "print(len(distinct_dff))"
   ]
  },
  {
   "cell_type": "code",
   "execution_count": 28,
   "metadata": {},
   "outputs": [],
   "source": [
    "distinct_dff=distinct_dff[(distinct_dff[\"year\"]>2018)&(~distinct_dff[\"ServiceType\"].str.contains(\"Mantenimiento Subterránea\"))]"
   ]
  },
  {
   "cell_type": "code",
   "execution_count": 29,
   "metadata": {
    "scrolled": false
   },
   "outputs": [
    {
     "name": "stdout",
     "output_type": "stream",
     "text": [
      "10306\n",
      "41\n"
     ]
    }
   ],
   "source": [
    "a=distinct_dff[distinct_dff[\"precipitacion\"].isnull()]\n",
    "print(30643 - len(a))\n",
    "c=distinct_dff[distinct_dff[\"humedad_rel\"].isnull()]\n",
    "print(30643 - len(c))"
   ]
  },
  {
   "cell_type": "code",
   "execution_count": 34,
   "metadata": {
    "scrolled": true
   },
   "outputs": [
    {
     "name": "stdout",
     "output_type": "stream",
     "text": [
      "14128\n"
     ]
    }
   ],
   "source": [
    "print(len(distinct_df1))"
   ]
  },
  {
   "cell_type": "code",
   "execution_count": 859,
   "metadata": {},
   "outputs": [
    {
     "data": {
      "text/plain": [
       "62"
      ]
     },
     "execution_count": 859,
     "metadata": {},
     "output_type": "execute_result"
    }
   ],
   "source": [
    "len(distinct_df1[\"Circuit\"].unique())"
   ]
  },
  {
   "cell_type": "code",
   "execution_count": 68,
   "metadata": {},
   "outputs": [
    {
     "name": "stdout",
     "output_type": "stream",
     "text": [
      "Training data set length=11303\n",
      "Testing data set length=2825\n",
      "['Circuit[T.303-14]', 'Circuit[T.401-11]', 'Circuit[T.409-30]', 'Circuit[T.411-42]', 'Circuit[T.508-13]']\n",
      "['Circuit[T.509-11]']\n"
     ]
    }
   ],
   "source": [
    "distinct_df1=distinct_dff[[\"NumberOT\", \"Circuit\", \"Nombre_municipio\", \"day\", \"Month\", \"District\", \"ServiceType\"]].groupby([ \"Circuit\", \"Nombre_municipio\", \"day\", \"Month\",\"District\", \"ServiceType\"]).count().reset_index()\n",
    "distinct_df1.dropna()\n",
    "\n",
    "mask = np.random.rand(len(distinct_df1)) < 0.8\n",
    "df_train = distinct_df1[mask]\n",
    "df_test = distinct_df1[~mask]\n",
    "print('Training data set length='+str(len(df_train)))\n",
    "print('Testing data set length='+str(len(df_test)))\n",
    "\n",
    "expr = \"\"\"NumberOT ~ ServiceType + District +Circuit\"\"\"\n",
    "\n",
    "y_train, X_train = dmatrices(expr, df_train, return_type='dataframe')\n",
    "y_test, X_test = dmatrices(expr, df_test, return_type='dataframe')\n",
    "\n",
    "xtr=list(X_train.columns)\n",
    "xt=list(X_test.columns)\n",
    "\n",
    "def setdiff_sorted(array1,array2,assume_unique=False):\n",
    "    ans = np.setdiff1d(array1,array2,assume_unique).tolist()\n",
    "    if assume_unique:\n",
    "        return sorted(ans)\n",
    "    return ans\n",
    "main_list = setdiff_sorted(xtr,xt)\n",
    "print(main_list)\n",
    "main_list_c = setdiff_sorted(xt,xtr)\n",
    "print(main_list_c)"
   ]
  },
  {
   "cell_type": "code",
   "execution_count": 58,
   "metadata": {},
   "outputs": [],
   "source": [
    "distinct_df1.to_csv((r'datos.csv'))"
   ]
  },
  {
   "cell_type": "code",
   "execution_count": 69,
   "metadata": {
    "scrolled": false
   },
   "outputs": [
    {
     "name": "stdout",
     "output_type": "stream",
     "text": [
      "                 Generalized Linear Model Regression Results                  \n",
      "==============================================================================\n",
      "Dep. Variable:               NumberOT   No. Observations:                11303\n",
      "Model:                            GLM   Df Residuals:                    11240\n",
      "Model Family:                 Poisson   Df Model:                           62\n",
      "Link Function:                    log   Scale:                          1.0000\n",
      "Method:                          IRLS   Log-Likelihood:                -20218.\n",
      "Date:                Wed, 15 Jul 2020   Deviance:                       12431.\n",
      "Time:                        20:11:08   Pearson chi2:                 2.02e+04\n",
      "No. Iterations:                     5                                         \n",
      "Covariance Type:            nonrobust                                         \n",
      "========================================================================================================\n",
      "                                           coef    std err          z      P>|z|      [0.025      0.975]\n",
      "--------------------------------------------------------------------------------------------------------\n",
      "Intercept                               -0.1317      1.004     -0.131      0.896      -2.100       1.837\n",
      "ServiceType[T.Mantenimiento Energía]    -0.1276      0.015     -8.233      0.000      -0.158      -0.097\n",
      "District[T.Turbo TyD]                    0.1317      0.093      1.423      0.155      -0.050       0.313\n",
      "Circuit[T.303-14]                    -6.696e-14      1.414  -4.73e-14      1.000      -2.772       2.772\n",
      "Circuit[T.401-11]                        1.2702      1.005      1.264      0.206      -0.699       3.239\n",
      "Circuit[T.401-12]                        0.7311      1.006      0.727      0.467      -1.240       2.702\n",
      "Circuit[T.401-13]                        0.7148      1.006      0.710      0.478      -1.258       2.687\n",
      "Circuit[T.401-14]                        0.5446      1.007      0.541      0.589      -1.429       2.519\n",
      "Circuit[T.401-15]                        0.7002      1.007      0.695      0.487      -1.273       2.674\n",
      "Circuit[T.401-16]                        0.7198      1.005      0.716      0.474      -1.251       2.691\n",
      "Circuit[T.401-17]                        0.5345      1.008      0.530      0.596      -1.441       2.510\n",
      "Circuit[T.401-18]                        0.6764      1.006      0.672      0.502      -1.296       2.649\n",
      "Circuit[T.401-41]                        0.9273      1.020      0.909      0.363      -1.072       2.926\n",
      "Circuit[T.401-42]                        0.7769      1.015      0.765      0.444      -1.213       2.767\n",
      "Circuit[T.401-45]                        0.8880      1.012      0.877      0.380      -1.096       2.872\n",
      "Circuit[T.402-11]                        0.2809      1.009      0.278      0.781      -1.696       2.258\n",
      "Circuit[T.402-12]                        0.8365      1.001      0.836      0.403      -1.125       2.798\n",
      "Circuit[T.402-13]                        0.6091      1.001      0.608      0.543      -1.354       2.572\n",
      "Circuit[T.402-14]                        0.9791      1.001      0.978      0.328      -0.982       2.941\n",
      "Circuit[T.402-15]                        1.0603      1.001      1.060      0.289      -0.901       3.021\n",
      "Circuit[T.402-16]                        0.5018      1.002      0.501      0.616      -1.462       2.465\n",
      "Circuit[T.403-11]                        0.3677      1.010      0.364      0.716      -1.612       2.347\n",
      "Circuit[T.403-12]                        1.0734      1.005      1.068      0.285      -0.896       3.043\n",
      "Circuit[T.403-13]                        0.8418      1.005      0.837      0.402      -1.129       2.812\n",
      "Circuit[T.403-14]                        0.3219      1.007      0.320      0.749      -1.652       2.296\n",
      "Circuit[T.403-15]                        0.4965      1.007      0.493      0.622      -1.477       2.470\n",
      "Circuit[T.403-16]                        0.9297      1.005      0.925      0.355      -1.040       2.899\n",
      "Circuit[T.404-11]                        1.0468      1.005      1.042      0.298      -0.923       3.017\n",
      "Circuit[T.404-12]                        0.6528      1.005      0.649      0.516      -1.317       2.623\n",
      "Circuit[T.405-11]                        0.4864      1.007      0.483      0.629      -1.487       2.460\n",
      "Circuit[T.405-12]                        0.3901      1.012      0.385      0.700      -1.594       2.374\n",
      "Circuit[T.405-13]                        0.5506      1.007      0.547      0.584      -1.422       2.523\n",
      "Circuit[T.406-11]                        0.4815      1.002      0.481      0.631      -1.482       2.445\n",
      "Circuit[T.406-12]                        0.1906      1.009      0.189      0.850      -1.788       2.169\n",
      "Circuit[T.406-13]                        0.1595      1.031      0.155      0.877      -1.861       2.180\n",
      "Circuit[T.407-11]                        0.5241      1.001      0.523      0.601      -1.439       2.487\n",
      "Circuit[T.407-12]                        1.2607      1.000      1.260      0.208      -0.700       3.221\n",
      "Circuit[T.407-13]                        0.3847      1.002      0.384      0.701      -1.579       2.348\n",
      "Circuit[T.407-41]                        1.8253      1.005      1.817      0.069      -0.144       3.795\n",
      "Circuit[T.409-11]                        0.6693      1.001      0.669      0.504      -1.293       2.632\n",
      "Circuit[T.409-12]                        1.0616      1.000      1.061      0.289      -0.899       3.022\n",
      "Circuit[T.409-13]                        0.4578      1.002      0.457      0.648      -1.507       2.423\n",
      "Circuit[T.409-30]                        1.4493      1.033      1.403      0.161      -0.575       3.474\n",
      "Circuit[T.410-11]                        0.5436      1.001      0.543      0.587      -1.419       2.506\n",
      "Circuit[T.411-11]                        0.7245      1.001      0.724      0.469      -1.237       2.686\n",
      "Circuit[T.411-12]                        0.2194      1.007      0.218      0.828      -1.755       2.194\n",
      "Circuit[T.411-13]                        1.1903      1.000      1.190      0.234      -0.771       3.151\n",
      "Circuit[T.411-41]                        1.0132      1.018      0.995      0.320      -0.983       3.009\n",
      "Circuit[T.411-42]                        0.7873      1.061      0.742      0.458      -1.292       2.866\n",
      "Circuit[T.411-43]                        2.2824      1.003      2.275      0.023       0.316       4.249\n",
      "Circuit[T.411-44]                        1.0831      1.038      1.044      0.297      -0.951       3.117\n",
      "Circuit[T.412-11]                        0.7559      1.006      0.752      0.452      -1.215       2.727\n",
      "Circuit[T.412-12]                        0.7566      1.006      0.752      0.452      -1.214       2.728\n",
      "Circuit[T.412-13]                        0.6724      1.005      0.669      0.503      -1.298       2.642\n",
      "Circuit[T.412-14]                        1.0717      1.005      1.067      0.286      -0.898       3.041\n",
      "Circuit[T.413-11]                        0.6790      1.001      0.678      0.498      -1.284       2.642\n",
      "Circuit[T.414-11]                        0.7131      1.001      0.713      0.476      -1.248       2.674\n",
      "Circuit[T.414-12]                        0.3694      1.002      0.369      0.712      -1.595       2.334\n",
      "Circuit[T.414-13]                        0.3448      1.003      0.344      0.731      -1.621       2.310\n",
      "Circuit[T.415-11]                        0.7971      1.001      0.796      0.426      -1.164       2.759\n",
      "Circuit[T.415-12]                        1.1403      1.000      1.140      0.254      -0.821       3.101\n",
      "Circuit[T.415-13]                        1.1286      1.000      1.128      0.259      -0.832       3.090\n",
      "Circuit[T.508-13]                     3.645e-14      1.414   2.58e-14      1.000      -2.772       2.772\n",
      "========================================================================================================\n"
     ]
    }
   ],
   "source": [
    "poisson_training_results = sm.GLM(y_train, X_train, family=sm.families.Poisson()).fit()\n",
    "print(poisson_training_results.summary())\n"
   ]
  },
  {
   "cell_type": "code",
   "execution_count": 33,
   "metadata": {
    "scrolled": false
   },
   "outputs": [
    {
     "name": "stdout",
     "output_type": "stream",
     "text": [
      "           mean   mean_se  mean_ci_lower  mean_ci_upper\n",
      "7      1.980999  0.020931       1.940397       2.022450\n",
      "11     1.980999  0.020931       1.940397       2.022450\n",
      "21     1.852864  0.029411       1.796108       1.911414\n",
      "26     1.980999  0.020931       1.940397       2.022450\n",
      "33     1.852864  0.029411       1.796108       1.911414\n",
      "...         ...       ...            ...            ...\n",
      "14100  2.369542  0.021693       2.327404       2.412442\n",
      "14103  2.369542  0.021693       2.327404       2.412442\n",
      "14106  2.216276  0.030054       2.158147       2.275970\n",
      "14113  2.369542  0.021693       2.327404       2.412442\n",
      "14120  2.369542  0.021693       2.327404       2.412442\n",
      "\n",
      "[2752 rows x 4 columns]\n"
     ]
    }
   ],
   "source": [
    "poisson_predictions = poisson_training_results.get_prediction(X_test)\n",
    "#.summary_frame() returns a pandas DataFrame\n",
    "predictions_summary_frame = poisson_predictions.summary_frame()\n",
    "print(predictions_summary_frame)\n",
    "############revisar los datos para eliminar los NaN y eliminarlos."
   ]
  },
  {
   "cell_type": "code",
   "execution_count": 34,
   "metadata": {},
   "outputs": [
    {
     "data": {
      "text/plain": [
       "<statsmodels.genmod._prediction.PredictionResults at 0x26e74f32370>"
      ]
     },
     "execution_count": 34,
     "metadata": {},
     "output_type": "execute_result"
    }
   ],
   "source": [
    "poisson_predictions"
   ]
  },
  {
   "cell_type": "code",
   "execution_count": 35,
   "metadata": {},
   "outputs": [
    {
     "name": "stdout",
     "output_type": "stream",
     "text": [
      "Training data set length=3841\n",
      "Testing data set length=987\n",
      "[]\n",
      "[]\n"
     ]
    }
   ],
   "source": [
    "distinct_df1=distinct_dff[[\"NumberOT\", \"Circuit\", \"Nombre_municipio\", \"day\", \"Month\", \"District\", \"ServiceType\",\"precipitacion\"]].groupby([ \"Circuit\", \"Nombre_municipio\", \"day\", \"Month\",\"District\", \"ServiceType\", \"precipitacion\"]).count().reset_index()\n",
    "\n",
    "distinct_df1.dropna()\n",
    "\n",
    "mask = np.random.rand(len(distinct_df1)) < 0.8\n",
    "df_train_w = distinct_df1[mask]\n",
    "df_test_w = distinct_df1[~mask]\n",
    "print('Training data set length='+str(len(df_train_w)))\n",
    "print('Testing data set length='+str(len(df_test_w)))\n",
    "\n",
    "expr = \"\"\"NumberOT ~ ServiceType + District + precipitacion \"\"\"\n",
    "\n",
    "y_train_w, X_train_w = dmatrices(expr, df_train_w, return_type='dataframe')\n",
    "y_test_w, X_test_w = dmatrices(expr, df_test_w, return_type='dataframe')\n",
    "\n",
    "xtr_w=list(X_train_w.columns)\n",
    "xt_w=list(X_test_w.columns)\n",
    "\n",
    "def setdiff_sorted(array1,array2,assume_unique=False):\n",
    "    ans = np.setdiff1d(array1,array2,assume_unique).tolist()\n",
    "    if assume_unique:\n",
    "        return sorted(ans)\n",
    "    return ans\n",
    "main_list = setdiff_sorted(xtr_w,xt_w)\n",
    "print(main_list)\n",
    "main_list_c = setdiff_sorted(xt_w,xtr_w)\n",
    "print(main_list_c)"
   ]
  },
  {
   "cell_type": "code",
   "execution_count": 36,
   "metadata": {},
   "outputs": [
    {
     "name": "stdout",
     "output_type": "stream",
     "text": [
      "2.13\n"
     ]
    },
    {
     "data": {
      "text/plain": [
       "3.74"
      ]
     },
     "execution_count": 36,
     "metadata": {},
     "output_type": "execute_result"
    }
   ],
   "source": [
    "print(round(distinct_df1[\"NumberOT\"].mean(),2))\n",
    "round(distinct_df1[\"NumberOT\"].var(),2)"
   ]
  },
  {
   "cell_type": "code",
   "execution_count": 37,
   "metadata": {
    "scrolled": true
   },
   "outputs": [
    {
     "name": "stdout",
     "output_type": "stream",
     "text": [
      "                 Generalized Linear Model Regression Results                  \n",
      "==============================================================================\n",
      "Dep. Variable:               NumberOT   No. Observations:                 3841\n",
      "Model:                            GLM   Df Residuals:                     3837\n",
      "Model Family:                 Poisson   Df Model:                            3\n",
      "Link Function:                    log   Scale:                          1.0000\n",
      "Method:                          IRLS   Log-Likelihood:                -6940.4\n",
      "Date:                Wed, 15 Jul 2020   Deviance:                       4360.2\n",
      "Time:                        18:56:16   Pearson chi2:                 6.76e+03\n",
      "No. Iterations:                     5                                         \n",
      "Covariance Type:            nonrobust                                         \n",
      "========================================================================================================\n",
      "                                           coef    std err          z      P>|z|      [0.025      0.975]\n",
      "--------------------------------------------------------------------------------------------------------\n",
      "Intercept                                0.7004      0.021     33.617      0.000       0.660       0.741\n",
      "ServiceType[T.Mantenimiento Energía]    -0.1327      0.026     -5.083      0.000      -0.184      -0.082\n",
      "District[T.Turbo TyD]                    0.1214      0.024      5.070      0.000       0.074       0.168\n",
      "precipitacion                            0.0018      0.001      2.576      0.010       0.000       0.003\n",
      "========================================================================================================\n"
     ]
    }
   ],
   "source": [
    "poisson_training_results_w = sm.GLM(y_train_w, X_train_w, family=sm.families.Poisson()).fit()\n",
    "print(poisson_training_results_w.summary())"
   ]
  },
  {
   "cell_type": "code",
   "execution_count": 38,
   "metadata": {},
   "outputs": [
    {
     "name": "stdout",
     "output_type": "stream",
     "text": [
      "          mean   mean_se  mean_ci_lower  mean_ci_upper\n",
      "0     2.274915  0.035847       2.205730       2.346270\n",
      "3     2.014525  0.041971       1.933920       2.098490\n",
      "9     1.838746  0.058213       1.728118       1.956455\n",
      "11    1.798642  0.053083       1.697553       1.905750\n",
      "14    1.764189  0.052230       1.664733       1.869587\n",
      "...        ...       ...            ...            ...\n",
      "4804  2.117347  0.064550       1.994538       2.247719\n",
      "4816  1.994744  0.046978       1.904761       2.088978\n",
      "4818  2.381794  0.047321       2.290830       2.476370\n",
      "4822  2.278207  0.035530       2.209624       2.348919\n",
      "4827  1.992222  0.047074       1.902063       2.086654\n",
      "\n",
      "[987 rows x 4 columns]\n"
     ]
    }
   ],
   "source": [
    "poisson_predictions_w = poisson_training_results_w.get_prediction(X_test_w)\n",
    "#.summary_frame() returns a pandas DataFrame\n",
    "predictions_summary_frame_w = poisson_predictions_w.summary_frame()\n",
    "print(predictions_summary_frame_w)\n",
    "############revisar los datos para eliminar los NaN y eliminarlos."
   ]
  },
  {
   "cell_type": "code",
   "execution_count": 59,
   "metadata": {
    "scrolled": true
   },
   "outputs": [
    {
     "data": {
      "text/plain": [
       "<matplotlib.legend.Legend at 0x26e02bb6790>"
      ]
     },
     "execution_count": 59,
     "metadata": {},
     "output_type": "execute_result"
    },
    {
     "data": {
      "image/png": "[encoded data removed]",
      "text/plain": [
       "<Figure size 432x288 with 1 Axes>"
      ]
     },
     "metadata": {
      "needs_background": "light"
     },
     "output_type": "display_data"
    }
   ],
   "source": [
    "fig_dims = (80, 76)\n",
    "fig, ax = plt.subplots()\n",
    "sns.distplot(y_test, label=\"observed values\")\n",
    "sns.distplot(predictions_summary_frame[\"mean\"],label=\"Fitted values\")\n",
    "plt.legend(prop={'size': 12}, title = 'Values')"
   ]
  },
  {
   "cell_type": "code",
   "execution_count": 40,
   "metadata": {
    "scrolled": true
   },
   "outputs": [
    {
     "data": {
      "image/png": "[encoded data removed]",
      "text/plain": [
       "<Figure size 432x288 with 1 Axes>"
      ]
     },
     "metadata": {
      "needs_background": "light"
     },
     "output_type": "display_data"
    }
   ],
   "source": [
    "y = y_test\n",
    "yhat=predictions_summary_frame[\"mean\"]\n",
    "\n",
    "fig_dims = (20, 16)\n",
    "fig, ax = plt.subplots()\n",
    "ax.scatter(yhat, y)\n",
    "ax.set_ylabel('Observed values')\n",
    "ax.set_xlabel('Fitted values');"
   ]
  },
  {
   "cell_type": "code",
   "execution_count": 41,
   "metadata": {},
   "outputs": [
    {
     "data": {
      "text/plain": [
       "(2752,)"
      ]
     },
     "execution_count": 41,
     "metadata": {},
     "output_type": "execute_result"
    }
   ],
   "source": [
    "y = y_test\n",
    "#y\n",
    "predictions_summary_frame[\"mean\"].shape"
   ]
  },
  {
   "cell_type": "code",
   "execution_count": 42,
   "metadata": {},
   "outputs": [
    {
     "name": "stderr",
     "output_type": "stream",
     "text": [
      "<>:4: DeprecationWarning: invalid escape sequence \\e\n"
     ]
    }
   ],
   "source": [
    "beginningtex = \"\"\"\\\\documentclass{report}\n",
    "\\\\usepackage{booktabs}\n",
    "\\\\begin{document}\"\"\"\n",
    "endtex = \"\\end{document}\"\n",
    "\n",
    "f = open('myreg.tex', 'w')\n",
    "f.write(beginningtex)\n",
    "f.write(poisson_training_results.summary().as_latex())\n",
    "f.write(endtex)\n",
    "f.close()"
   ]
  },
  {
   "cell_type": "code",
   "execution_count": 54,
   "metadata": {},
   "outputs": [
    {
     "ename": "REvalError",
     "evalue": "Error in library(arg_0_) : there is no package called 'arg_0_'",
     "output_type": "error",
     "traceback": [
      "\u001b[1;31m---------------------------------------------------------------------------\u001b[0m",
      "\u001b[1;31mKeyError\u001b[0m                                  Traceback (most recent call last)",
      "\u001b[1;32mc:\\users\\carlo\\appdata\\local\\programs\\python\\python38\\lib\\site-packages\\pyRserve\\rparser.py\u001b[0m in \u001b[0;36mparse\u001b[1;34m(self)\u001b[0m\n\u001b[0;32m    453\u001b[0m             \u001b[1;32mtry\u001b[0m\u001b[1;33m:\u001b[0m\u001b[1;33m\u001b[0m\u001b[1;33m\u001b[0m\u001b[0m\n\u001b[1;32m--> 454\u001b[1;33m                 \u001b[0mrserve_err_msg\u001b[0m \u001b[1;33m=\u001b[0m \u001b[0mERRORS\u001b[0m\u001b[1;33m[\u001b[0m\u001b[0mself\u001b[0m\u001b[1;33m.\u001b[0m\u001b[0mlexer\u001b[0m\u001b[1;33m.\u001b[0m\u001b[0merrCode\u001b[0m\u001b[1;33m]\u001b[0m\u001b[1;33m\u001b[0m\u001b[1;33m\u001b[0m\u001b[0m\n\u001b[0m\u001b[0;32m    455\u001b[0m             \u001b[1;32mexcept\u001b[0m \u001b[0mKeyError\u001b[0m\u001b[1;33m:\u001b[0m\u001b[1;33m\u001b[0m\u001b[1;33m\u001b[0m\u001b[0m\n",
      "\u001b[1;31mKeyError\u001b[0m: 127",
      "\nDuring handling of the above exception, another exception occurred:\n",
      "\u001b[1;31mREvalError\u001b[0m                                Traceback (most recent call last)",
      "\u001b[1;32mc:\\users\\carlo\\appdata\\local\\programs\\python\\python38\\lib\\site-packages\\pyRserve\\rconn.py\u001b[0m in \u001b[0;36meval\u001b[1;34m(self, aString, atomicArray, void)\u001b[0m\n\u001b[0;32m    169\u001b[0m         \u001b[1;32mtry\u001b[0m\u001b[1;33m:\u001b[0m\u001b[1;33m\u001b[0m\u001b[1;33m\u001b[0m\u001b[0m\n\u001b[1;32m--> 170\u001b[1;33m             \u001b[0mmessage\u001b[0m \u001b[1;33m=\u001b[0m \u001b[0mrparse\u001b[0m\u001b[1;33m(\u001b[0m\u001b[0msrc\u001b[0m\u001b[1;33m,\u001b[0m \u001b[0matomicArray\u001b[0m\u001b[1;33m=\u001b[0m\u001b[0matomicArray\u001b[0m\u001b[1;33m)\u001b[0m\u001b[1;33m\u001b[0m\u001b[1;33m\u001b[0m\u001b[0m\n\u001b[0m\u001b[0;32m    171\u001b[0m             \u001b[1;31m# Before the result is returned, 0-∞ OOB messages may be sent\u001b[0m\u001b[1;33m\u001b[0m\u001b[1;33m\u001b[0m\u001b[1;33m\u001b[0m\u001b[0m\n",
      "\u001b[1;32mc:\\users\\carlo\\appdata\\local\\programs\\python\\python38\\lib\\site-packages\\pyRserve\\rparser.py\u001b[0m in \u001b[0;36mrparse\u001b[1;34m(src, atomicArray)\u001b[0m\n\u001b[0;32m    645\u001b[0m     \u001b[0mrparser\u001b[0m \u001b[1;33m=\u001b[0m \u001b[0mRParser\u001b[0m\u001b[1;33m(\u001b[0m\u001b[0msrc\u001b[0m\u001b[1;33m,\u001b[0m \u001b[0matomicArray\u001b[0m\u001b[1;33m)\u001b[0m\u001b[1;33m\u001b[0m\u001b[1;33m\u001b[0m\u001b[0m\n\u001b[1;32m--> 646\u001b[1;33m     \u001b[1;32mreturn\u001b[0m \u001b[0mrparser\u001b[0m\u001b[1;33m.\u001b[0m\u001b[0mparse\u001b[0m\u001b[1;33m(\u001b[0m\u001b[1;33m)\u001b[0m\u001b[1;33m\u001b[0m\u001b[1;33m\u001b[0m\u001b[0m\n\u001b[0m\u001b[0;32m    647\u001b[0m \u001b[1;33m\u001b[0m\u001b[0m\n",
      "\u001b[1;32mc:\\users\\carlo\\appdata\\local\\programs\\python\\python38\\lib\\site-packages\\pyRserve\\rparser.py\u001b[0m in \u001b[0;36mparse\u001b[1;34m(self)\u001b[0m\n\u001b[0;32m    455\u001b[0m             \u001b[1;32mexcept\u001b[0m \u001b[0mKeyError\u001b[0m\u001b[1;33m:\u001b[0m\u001b[1;33m\u001b[0m\u001b[1;33m\u001b[0m\u001b[0m\n\u001b[1;32m--> 456\u001b[1;33m                 raise REvalError(\"R evaluation error (code=%d)\" %\n\u001b[0m\u001b[0;32m    457\u001b[0m                                  self.lexer.errCode)\n",
      "\u001b[1;31mREvalError\u001b[0m: R evaluation error (code=127)",
      "\nDuring handling of the above exception, another exception occurred:\n",
      "\u001b[1;31mREvalError\u001b[0m                                Traceback (most recent call last)",
      "\u001b[1;32m<ipython-input-54-7e5e01665002>\u001b[0m in \u001b[0;36m<module>\u001b[1;34m\u001b[0m\n\u001b[0;32m      1\u001b[0m \u001b[1;31m# intento uno de modelo con pyRserve\u001b[0m\u001b[1;33m\u001b[0m\u001b[1;33m\u001b[0m\u001b[1;33m\u001b[0m\u001b[0m\n\u001b[1;32m----> 2\u001b[1;33m \u001b[0mconn\u001b[0m\u001b[1;33m.\u001b[0m\u001b[0mr\u001b[0m\u001b[1;33m.\u001b[0m\u001b[0mlibrary\u001b[0m\u001b[1;33m(\u001b[0m\u001b[1;34m'VGAM'\u001b[0m\u001b[1;33m)\u001b[0m\u001b[1;33m\u001b[0m\u001b[1;33m\u001b[0m\u001b[0m\n\u001b[0m",
      "\u001b[1;32mc:\\users\\carlo\\appdata\\local\\programs\\python\\python38\\lib\\site-packages\\pyRserve\\rconn.py\u001b[0m in \u001b[0;36m__call__\u001b[1;34m(self, *args, **kw)\u001b[0m\n\u001b[0;32m    367\u001b[0m \u001b[1;33m\u001b[0m\u001b[0m\n\u001b[0;32m    368\u001b[0m     \u001b[1;32mdef\u001b[0m \u001b[0m__call__\u001b[0m\u001b[1;33m(\u001b[0m\u001b[0mself\u001b[0m\u001b[1;33m,\u001b[0m \u001b[1;33m*\u001b[0m\u001b[0margs\u001b[0m\u001b[1;33m,\u001b[0m \u001b[1;33m**\u001b[0m\u001b[0mkw\u001b[0m\u001b[1;33m)\u001b[0m\u001b[1;33m:\u001b[0m\u001b[1;33m\u001b[0m\u001b[1;33m\u001b[0m\u001b[0m\n\u001b[1;32m--> 369\u001b[1;33m         \u001b[1;32mreturn\u001b[0m \u001b[0mself\u001b[0m\u001b[1;33m.\u001b[0m\u001b[0m_rconn\u001b[0m\u001b[1;33m.\u001b[0m\u001b[0mcallFunc\u001b[0m\u001b[1;33m(\u001b[0m\u001b[0mself\u001b[0m\u001b[1;33m.\u001b[0m\u001b[0m__name__\u001b[0m\u001b[1;33m,\u001b[0m \u001b[1;33m*\u001b[0m\u001b[0margs\u001b[0m\u001b[1;33m,\u001b[0m \u001b[1;33m**\u001b[0m\u001b[0mkw\u001b[0m\u001b[1;33m)\u001b[0m\u001b[1;33m\u001b[0m\u001b[1;33m\u001b[0m\u001b[0m\n\u001b[0m\u001b[0;32m    370\u001b[0m \u001b[1;33m\u001b[0m\u001b[0m\n\u001b[0;32m    371\u001b[0m     \u001b[1;31m# command to send to R in order to get the help for a function in text\u001b[0m\u001b[1;33m\u001b[0m\u001b[1;33m\u001b[0m\u001b[1;33m\u001b[0m\u001b[0m\n",
      "\u001b[1;32mc:\\users\\carlo\\appdata\\local\\programs\\python\\python38\\lib\\site-packages\\pyRserve\\rconn.py\u001b[0m in \u001b[0;36mdecoCheckIfClosed\u001b[1;34m(self, *args, **kw)\u001b[0m\n\u001b[0;32m     76\u001b[0m             \u001b[1;32mraise\u001b[0m \u001b[0mPyRserveClosed\u001b[0m\u001b[1;33m(\u001b[0m\u001b[1;34m'Connection to Rserve already closed'\u001b[0m\u001b[1;33m)\u001b[0m\u001b[1;33m\u001b[0m\u001b[1;33m\u001b[0m\u001b[0m\n\u001b[0;32m     77\u001b[0m         \u001b[1;32mtry\u001b[0m\u001b[1;33m:\u001b[0m\u001b[1;33m\u001b[0m\u001b[1;33m\u001b[0m\u001b[0m\n\u001b[1;32m---> 78\u001b[1;33m             \u001b[1;32mreturn\u001b[0m \u001b[0mfunc\u001b[0m\u001b[1;33m(\u001b[0m\u001b[0mself\u001b[0m\u001b[1;33m,\u001b[0m \u001b[1;33m*\u001b[0m\u001b[0margs\u001b[0m\u001b[1;33m,\u001b[0m \u001b[1;33m**\u001b[0m\u001b[0mkw\u001b[0m\u001b[1;33m)\u001b[0m\u001b[1;33m\u001b[0m\u001b[1;33m\u001b[0m\u001b[0m\n\u001b[0m\u001b[0;32m     79\u001b[0m         \u001b[1;32mexcept\u001b[0m \u001b[0msocket\u001b[0m\u001b[1;33m.\u001b[0m\u001b[0merror\u001b[0m \u001b[1;32mas\u001b[0m \u001b[0mmsg\u001b[0m\u001b[1;33m:\u001b[0m\u001b[1;33m\u001b[0m\u001b[1;33m\u001b[0m\u001b[0m\n\u001b[0;32m     80\u001b[0m             \u001b[1;32mif\u001b[0m \u001b[0mmsg\u001b[0m\u001b[1;33m.\u001b[0m\u001b[0mstrerror\u001b[0m \u001b[1;32min\u001b[0m \u001b[1;33m[\u001b[0m\u001b[1;34m'Connection reset by peer'\u001b[0m\u001b[1;33m,\u001b[0m \u001b[1;34m'Broken pipe'\u001b[0m\u001b[1;33m]\u001b[0m\u001b[1;33m:\u001b[0m\u001b[1;33m\u001b[0m\u001b[1;33m\u001b[0m\u001b[0m\n",
      "\u001b[1;32mc:\\users\\carlo\\appdata\\local\\programs\\python\\python38\\lib\\site-packages\\pyRserve\\rconn.py\u001b[0m in \u001b[0;36mcallFunc\u001b[1;34m(self, name, *args, **kw)\u001b[0m\n\u001b[0;32m    268\u001b[0m                 \u001b[0mself\u001b[0m\u001b[1;33m.\u001b[0m\u001b[0msetRexp\u001b[0m\u001b[1;33m(\u001b[0m\u001b[0margName\u001b[0m\u001b[1;33m,\u001b[0m \u001b[0mvalue\u001b[0m\u001b[1;33m)\u001b[0m\u001b[1;33m\u001b[0m\u001b[1;33m\u001b[0m\u001b[0m\n\u001b[0;32m    269\u001b[0m             \u001b[0margNames\u001b[0m\u001b[1;33m.\u001b[0m\u001b[0mappend\u001b[0m\u001b[1;33m(\u001b[0m\u001b[1;34m'%s=%s'\u001b[0m \u001b[1;33m%\u001b[0m \u001b[1;33m(\u001b[0m\u001b[0mkey\u001b[0m\u001b[1;33m,\u001b[0m \u001b[0margName\u001b[0m\u001b[1;33m)\u001b[0m\u001b[1;33m)\u001b[0m\u001b[1;33m\u001b[0m\u001b[1;33m\u001b[0m\u001b[0m\n\u001b[1;32m--> 270\u001b[1;33m         \u001b[1;32mreturn\u001b[0m \u001b[0mself\u001b[0m\u001b[1;33m.\u001b[0m\u001b[0meval\u001b[0m\u001b[1;33m(\u001b[0m\u001b[0mname\u001b[0m\u001b[1;33m+\u001b[0m\u001b[1;34m'(%s)'\u001b[0m \u001b[1;33m%\u001b[0m \u001b[1;34m', '\u001b[0m\u001b[1;33m.\u001b[0m\u001b[0mjoin\u001b[0m\u001b[1;33m(\u001b[0m\u001b[0margNames\u001b[0m\u001b[1;33m)\u001b[0m\u001b[1;33m)\u001b[0m\u001b[1;33m\u001b[0m\u001b[1;33m\u001b[0m\u001b[0m\n\u001b[0m\u001b[0;32m    271\u001b[0m \u001b[1;33m\u001b[0m\u001b[0m\n\u001b[0;32m    272\u001b[0m     \u001b[1;33m@\u001b[0m\u001b[0mcheckIfClosed\u001b[0m\u001b[1;33m\u001b[0m\u001b[1;33m\u001b[0m\u001b[0m\n",
      "\u001b[1;32mc:\\users\\carlo\\appdata\\local\\programs\\python\\python38\\lib\\site-packages\\pyRserve\\rconn.py\u001b[0m in \u001b[0;36mdecoCheckIfClosed\u001b[1;34m(self, *args, **kw)\u001b[0m\n\u001b[0;32m     76\u001b[0m             \u001b[1;32mraise\u001b[0m \u001b[0mPyRserveClosed\u001b[0m\u001b[1;33m(\u001b[0m\u001b[1;34m'Connection to Rserve already closed'\u001b[0m\u001b[1;33m)\u001b[0m\u001b[1;33m\u001b[0m\u001b[1;33m\u001b[0m\u001b[0m\n\u001b[0;32m     77\u001b[0m         \u001b[1;32mtry\u001b[0m\u001b[1;33m:\u001b[0m\u001b[1;33m\u001b[0m\u001b[1;33m\u001b[0m\u001b[0m\n\u001b[1;32m---> 78\u001b[1;33m             \u001b[1;32mreturn\u001b[0m \u001b[0mfunc\u001b[0m\u001b[1;33m(\u001b[0m\u001b[0mself\u001b[0m\u001b[1;33m,\u001b[0m \u001b[1;33m*\u001b[0m\u001b[0margs\u001b[0m\u001b[1;33m,\u001b[0m \u001b[1;33m**\u001b[0m\u001b[0mkw\u001b[0m\u001b[1;33m)\u001b[0m\u001b[1;33m\u001b[0m\u001b[1;33m\u001b[0m\u001b[0m\n\u001b[0m\u001b[0;32m     79\u001b[0m         \u001b[1;32mexcept\u001b[0m \u001b[0msocket\u001b[0m\u001b[1;33m.\u001b[0m\u001b[0merror\u001b[0m \u001b[1;32mas\u001b[0m \u001b[0mmsg\u001b[0m\u001b[1;33m:\u001b[0m\u001b[1;33m\u001b[0m\u001b[1;33m\u001b[0m\u001b[0m\n\u001b[0;32m     80\u001b[0m             \u001b[1;32mif\u001b[0m \u001b[0mmsg\u001b[0m\u001b[1;33m.\u001b[0m\u001b[0mstrerror\u001b[0m \u001b[1;32min\u001b[0m \u001b[1;33m[\u001b[0m\u001b[1;34m'Connection reset by peer'\u001b[0m\u001b[1;33m,\u001b[0m \u001b[1;34m'Broken pipe'\u001b[0m\u001b[1;33m]\u001b[0m\u001b[1;33m:\u001b[0m\u001b[1;33m\u001b[0m\u001b[1;33m\u001b[0m\u001b[0m\n",
      "\u001b[1;32mc:\\users\\carlo\\appdata\\local\\programs\\python\\python38\\lib\\site-packages\\pyRserve\\rconn.py\u001b[0m in \u001b[0;36meval\u001b[1;34m(self, aString, atomicArray, void)\u001b[0m\n\u001b[0;32m    189\u001b[0m             \u001b[1;31m# function called 'geterrmessage()'.\u001b[0m\u001b[1;33m\u001b[0m\u001b[1;33m\u001b[0m\u001b[1;33m\u001b[0m\u001b[0m\n\u001b[0;32m    190\u001b[0m             \u001b[0merrorMsg\u001b[0m \u001b[1;33m=\u001b[0m \u001b[0mself\u001b[0m\u001b[1;33m.\u001b[0m\u001b[0meval\u001b[0m\u001b[1;33m(\u001b[0m\u001b[1;34m'geterrmessage()'\u001b[0m\u001b[1;33m)\u001b[0m\u001b[1;33m.\u001b[0m\u001b[0mstrip\u001b[0m\u001b[1;33m(\u001b[0m\u001b[1;33m)\u001b[0m\u001b[1;33m\u001b[0m\u001b[1;33m\u001b[0m\u001b[0m\n\u001b[1;32m--> 191\u001b[1;33m             \u001b[1;32mraise\u001b[0m \u001b[0mREvalError\u001b[0m\u001b[1;33m(\u001b[0m\u001b[0merrorMsg\u001b[0m\u001b[1;33m)\u001b[0m\u001b[1;33m\u001b[0m\u001b[1;33m\u001b[0m\u001b[0m\n\u001b[0m\u001b[0;32m    192\u001b[0m \u001b[1;33m\u001b[0m\u001b[0m\n\u001b[0;32m    193\u001b[0m     \u001b[1;33m@\u001b[0m\u001b[0mcheckIfClosed\u001b[0m\u001b[1;33m\u001b[0m\u001b[1;33m\u001b[0m\u001b[0m\n",
      "\u001b[1;31mREvalError\u001b[0m: Error in library(arg_0_) : there is no package called 'arg_0_'"
     ]
    }
   ],
   "source": [
    "# intento uno de modelo con pyRserve\n"
   ]
  }
 ],
 "metadata": {
  "kernelspec": {
   "display_name": "Python 3",
   "language": "python",
   "name": "python3"
  },
  "language_info": {
   "codemirror_mode": {
    "name": "ipython",
    "version": 3
   },
   "file_extension": ".py",
   "mimetype": "text/x-python",
   "name": "python",
   "nbconvert_exporter": "python",
   "pygments_lexer": "ipython3",
   "version": "3.7.7"
  },
  "varInspector": {
   "cols": {
    "lenName": 16,
    "lenType": 16,
    "lenVar": 40
   },
   "kernels_config": {
    "python": {
     "delete_cmd_postfix": "",
     "delete_cmd_prefix": "del ",
     "library": "var_list.py",
     "varRefreshCmd": "print(var_dic_list())"
    },
    "r": {
     "delete_cmd_postfix": ") ",
     "delete_cmd_prefix": "rm(",
     "library": "var_list.r",
     "varRefreshCmd": "cat(var_dic_list()) "
    }
   },
   "types_to_exclude": [
    "module",
    "function",
    "builtin_function_or_method",
    "instance",
    "_Feature"
   ],
   "window_display": false
  }
 },
 "nbformat": 4,
 "nbformat_minor": 4
}
