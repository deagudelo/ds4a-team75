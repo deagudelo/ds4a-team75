{
 "cells": [
  {
   "cell_type": "code",
   "execution_count": null,
   "metadata": {},
   "outputs": [],
   "source": [
    "import pandas as pd\n",
    "import numpy as np\n",
    "import matplotlib.pyplot as plt\n",
    "import seaborn as sns\n",
    "import folium\n",
    "import json\n",
    "import string\n",
    "import plotly\n",
    "import plotly.express as px\n",
    "import unicodedata\n",
    "\n",
    "def remove_accents(input_str):\n",
    "    nfkd_form = unicodedata.normalize('NFKD', input_str)\n",
    "    return u\"\".join([c for c in nfkd_form if not unicodedata.combining(c)])"
   ]
  },
  {
   "cell_type": "code",
   "execution_count": null,
   "metadata": {},
   "outputs": [],
   "source": [
    "%%time\n",
    "df = pd.read_excel('Original_Data/Reporte Uraba2019_CAGMV1Est.xlsx')\n",
    "with open('./GeoData/munis.geojson', encoding='utf-8') as geo:\n",
    "#     print(type(geo.read()))\n",
    "    geojson = json.loads(remove_accents(geo.read()))\n",
    "df.head()"
   ]
  },
  {
   "cell_type": "code",
   "execution_count": null,
   "metadata": {},
   "outputs": [],
   "source": [
    "geojson[\"features\"][0]"
   ]
  },
  {
   "cell_type": "code",
   "execution_count": null,
   "metadata": {
    "scrolled": true
   },
   "outputs": [],
   "source": [
    "# df[\"RepairCode\"].value_counts()\n",
    "# null_rc = df[df[\"RepairCode\"].isnull()]\n",
    "# len(df[\"RepairCode\"])\n",
    "list(df.columns)\n"
   ]
  },
  {
   "cell_type": "code",
   "execution_count": null,
   "metadata": {},
   "outputs": [],
   "source": [
    "%%time\n",
    "# df.town.unique()\n",
    "df['town_upper'] = df.town.apply(lambda x: remove_accents(str(x).upper()))\n",
    "# df.town_lower.unique()\n",
    "\n",
    "dff = df.groupby('town_upper').mean().reset_index()\n",
    "dff\n",
    "\n",
    "px.choropleth_mapbox(dff,                          #Data\n",
    "        locations='town_upper',                    #Column containing the identifiers used in the GeoJSON file \n",
    "        color='Priority',                          #Column giving the color intensity of the region\n",
    "        geojson=geojson,                           #The GeoJSON file\n",
    "        featureidkey=\"properties.MPIO_CNMBR\",      #Id in properties\n",
    "        zoom=5,                                    #Zoom\n",
    "        mapbox_style=\"carto-positron\",             #Mapbox style, for different maps you need a Mapbox account and a token\n",
    "        center={\"lat\": 7.88299, \"lon\": -76.62587}, #Center\n",
    "        color_continuous_scale=\"Viridis\",          #Color Scheme\n",
    "        opacity=0.5,                               #Opacity of the map\n",
    "        ) "
   ]
  }
 ],
 "metadata": {
  "kernelspec": {
   "display_name": "Python 3",
   "language": "python",
   "name": "python3"
  },
  "language_info": {
   "codemirror_mode": {
    "name": "ipython",
    "version": 3
   },
   "file_extension": ".py",
   "mimetype": "text/x-python",
   "name": "python",
   "nbconvert_exporter": "python",
   "pygments_lexer": "ipython3",
   "version": "3.7.4"
  }
 },
 "nbformat": 4,
 "nbformat_minor": 4
}
